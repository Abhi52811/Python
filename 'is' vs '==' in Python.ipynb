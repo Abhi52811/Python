{
 "cells": [
  {
   "cell_type": "code",
   "execution_count": 1,
   "metadata": {},
   "outputs": [
    {
     "data": {
      "text/plain": [
       "\"\\n'is' vs '==' in Python\\nIn Python, is and == are both comparison operators that can be used to check if two values are equal. \\nHowever, there are some important differences between the two that you should be aware of.\\n\\nThe is operator compares the identity of two objects, while the == operator compares the values of the objects. \\nThis means that is will only return True if the objects being compared are the exact same object in memory, \\nwhile == will return True if the objects have the same value.\\n\""
      ]
     },
     "execution_count": 1,
     "metadata": {},
     "output_type": "execute_result"
    }
   ],
   "source": [
    "'''\n",
    "'is' vs '==' in Python\n",
    "In Python, is and == are both comparison operators that can be used to check if two values are equal. \n",
    "However, there are some important differences between the two that you should be aware of.\n",
    "\n",
    "The is operator compares the identity of two objects, while the == operator compares the values of the objects. \n",
    "This means that is will only return True if the objects being compared are the exact same object in memory, \n",
    "while == will return True if the objects have the same value.\n",
    "'''"
   ]
  },
  {
   "cell_type": "code",
   "execution_count": null,
   "metadata": {},
   "outputs": [],
   "source": [
    "'''\n",
    "In this case, a and b are two separate lists that have the same values, so == returns True. \n",
    "However, a and b are not the same object in memory, so is returns False.\n",
    "\n",
    "One important thing to note is that, in Python, strings and integers are immutable, \n",
    "which means that once they are created, their value cannot be changed. This means that, \n",
    "for strings and integers, is and == will always return the same result:\n",
    "'''"
   ]
  },
  {
   "cell_type": "code",
   "execution_count": 8,
   "metadata": {},
   "outputs": [
    {
     "name": "stdout",
     "output_type": "stream",
     "text": [
      "True\n",
      "True\n",
      "True\n",
      "True\n"
     ]
    }
   ],
   "source": [
    "# Strings and integers are immutable\n",
    "a = \"hello\"\n",
    "b = \"hello\"\n",
    "\n",
    "print(a == b)  # True\n",
    "print(a is b)  # True\n",
    "\n",
    "a = 5\n",
    "b = 5\n",
    "\n",
    "print(a == b)  # True\n",
    "print(a is b)  # True"
   ]
  },
  {
   "cell_type": "code",
   "execution_count": null,
   "metadata": {},
   "outputs": [],
   "source": [
    "'''\n",
    "In these cases, a and b are both pointing to the same object in memory, \n",
    "so is and == both return True.\n",
    "\n",
    "For mutable objects such as lists and dictionaries, is and == can behave differently. \n",
    "In general, you should use == when you want to compare the values of two objects, \n",
    "and use is when you want to check if two objects are the same object in memory.\n",
    "\n",
    "'''"
   ]
  },
  {
   "cell_type": "code",
   "execution_count": 5,
   "metadata": {},
   "outputs": [
    {
     "name": "stdout",
     "output_type": "stream",
     "text": [
      "False\n",
      "True\n"
     ]
    }
   ],
   "source": [
    "# As we know list are mutables\n",
    "a = [1,2,43]\n",
    "b = [1,2,43]\n",
    "\n",
    "# both are comaprsion operators\n",
    "print(a is b) # exact location of object in memory\n",
    "print(a == b) # value"
   ]
  },
  {
   "cell_type": "code",
   "execution_count": 6,
   "metadata": {},
   "outputs": [
    {
     "name": "stdout",
     "output_type": "stream",
     "text": [
      "True\n",
      "True\n"
     ]
    }
   ],
   "source": [
    "a = 2\n",
    "b = 2\n",
    "\n",
    "print(a is b) # exact location of object in memory\n",
    "print(a == b) # value"
   ]
  },
  {
   "cell_type": "code",
   "execution_count": 9,
   "metadata": {},
   "outputs": [
    {
     "name": "stdout",
     "output_type": "stream",
     "text": [
      "False\n",
      "True\n"
     ]
    }
   ],
   "source": [
    "# As we know tuples are immutables\n",
    "a=(1,2)\n",
    "b=(1,2)\n",
    "\n",
    "print(a is b)\n",
    "print(a == b)\n"
   ]
  },
  {
   "cell_type": "code",
   "execution_count": 10,
   "metadata": {},
   "outputs": [
    {
     "name": "stdout",
     "output_type": "stream",
     "text": [
      "True\n",
      "True\n",
      "True\n",
      "True\n"
     ]
    }
   ],
   "source": [
    "a= None\n",
    "b= None\n",
    "\n",
    "print(a is b)\n",
    "print(a is None)\n",
    "print(a == b)\n",
    "print(a == None)\n"
   ]
  },
  {
   "cell_type": "code",
   "execution_count": null,
   "metadata": {},
   "outputs": [],
   "source": []
  }
 ],
 "metadata": {
  "kernelspec": {
   "display_name": "Python 3",
   "language": "python",
   "name": "python3"
  },
  "language_info": {
   "codemirror_mode": {
    "name": "ipython",
    "version": 3
   },
   "file_extension": ".py",
   "mimetype": "text/x-python",
   "name": "python",
   "nbconvert_exporter": "python",
   "pygments_lexer": "ipython3",
   "version": "3.11.5"
  }
 },
 "nbformat": 4,
 "nbformat_minor": 2
}
