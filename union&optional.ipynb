{
 "cells": [
  {
   "cell_type": "code",
   "execution_count": 1,
   "id": "7d20b1f8",
   "metadata": {},
   "outputs": [
    {
     "name": "stdout",
     "output_type": "stream",
     "text": [
      "8\n",
      "6.0\n"
     ]
    }
   ],
   "source": [
    "from typing import Union\n",
    "\n",
    "def add(x: Union[int, float], y: Union[int, float]) -> float:\n",
    "    return x + y\n",
    "\n",
    "print(add(3, 5))      # 8\n",
    "print(add(2.5, 3.5))  # 6.0"
   ]
  },
  {
   "cell_type": "code",
   "execution_count": 5,
   "id": "49a9a638",
   "metadata": {},
   "outputs": [
    {
     "name": "stdout",
     "output_type": "stream",
     "text": [
      "8.5\n",
      "5.5\n"
     ]
    }
   ],
   "source": [
    "def add(x: int | float, y: int | float) -> float:\n",
    "    return x + y\n",
    "\n",
    "print(add(3, 5.5))      # 8\n",
    "print(add(2.5, 3))  # 6.0"
   ]
  },
  {
   "cell_type": "code",
   "execution_count": 6,
   "id": "74b93704",
   "metadata": {},
   "outputs": [
    {
     "name": "stdout",
     "output_type": "stream",
     "text": [
      "Name: Abhishek\n",
      "No name provided\n"
     ]
    }
   ],
   "source": [
    "from typing import Optional\n",
    "\n",
    "def get_name(name: Optional[str] = None) -> str:\n",
    "    if name:\n",
    "        return f\"Name: {name}\"\n",
    "    else:\n",
    "        return \"No name provided\"\n",
    "\n",
    "print(get_name(\"Abhishek\"))  # Name: Abhishek\n",
    "print(get_name())            # No name provided"
   ]
  },
  {
   "cell_type": "code",
   "execution_count": 7,
   "id": "40019559",
   "metadata": {},
   "outputs": [
    {
     "name": "stdout",
     "output_type": "stream",
     "text": [
      "Name: Abhishek\n",
      "No name provided\n"
     ]
    }
   ],
   "source": [
    "def get_name(name: str | None = None) -> str:\n",
    "    if name:\n",
    "        return f\"Name: {name}\"\n",
    "    return \"No name provided\"\n",
    "\n",
    "print(get_name(\"Abhishek\"))  # Name: Abhishek\n",
    "print(get_name())            # No name provided"
   ]
  },
  {
   "cell_type": "code",
   "execution_count": null,
   "id": "707ae005",
   "metadata": {},
   "outputs": [],
   "source": []
  }
 ],
 "metadata": {
  "kernelspec": {
   "display_name": ".venv",
   "language": "python",
   "name": "python3"
  },
  "language_info": {
   "codemirror_mode": {
    "name": "ipython",
    "version": 3
   },
   "file_extension": ".py",
   "mimetype": "text/x-python",
   "name": "python",
   "nbconvert_exporter": "python",
   "pygments_lexer": "ipython3",
   "version": "3.13.2"
  }
 },
 "nbformat": 4,
 "nbformat_minor": 5
}
