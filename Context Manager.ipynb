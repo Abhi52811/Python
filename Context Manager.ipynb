{
 "cells": [
  {
   "cell_type": "code",
   "execution_count": 1,
   "id": "76792322",
   "metadata": {},
   "outputs": [],
   "source": [
    "class FileManager:\n",
    "    def __init__(self, filename, mode):\n",
    "        self.filename = filename\n",
    "        self.mode = mode\n",
    "        self.file = None\n",
    "\n",
    "    def __enter__(self):\n",
    "        print(f\"Opening file: {self.filename} in {self.mode} mode\")\n",
    "        self.file = open(self.filename, self.mode)\n",
    "        return self.file  # Returns the file object\n",
    "\n",
    "    def __exit__(self, exc_type, exc_value, traceback):\n",
    "        if self.file:\n",
    "            self.file.close()\n",
    "            print(f\"Closing file: {self.filename}\")\n",
    "        # Handling exceptions if any\n",
    "        if exc_type:\n",
    "            print(f\"Error: {exc_value}\")\n",
    "        return True  # Suppresses any exceptions"
   ]
  },
  {
   "cell_type": "code",
   "execution_count": 2,
   "id": "f2c87835",
   "metadata": {},
   "outputs": [
    {
     "name": "stdout",
     "output_type": "stream",
     "text": [
      "Opening file: ./sampleFiles/example.txt in w mode\n",
      "Closing file: ./sampleFiles/example.txt\n"
     ]
    }
   ],
   "source": [
    "# Writing to a file\n",
    "with FileManager(\"./sampleFiles/example.txt\", \"w\") as f:\n",
    "    f.write(\"Hello from class-based context manager!\\n\")\n",
    "    f.write(\"Learning Python made simple.\\n\")\n",
    "\n"
   ]
  },
  {
   "cell_type": "code",
   "execution_count": 4,
   "id": "a7883404",
   "metadata": {},
   "outputs": [
    {
     "name": "stdout",
     "output_type": "stream",
     "text": [
      "Opening file: ./sampleFiles/example.txt in r mode\n",
      "\n",
      "File content:\n",
      "Hello from class-based context manager!\n",
      "Learning Python made simple.\n",
      "\n",
      "Closing file: ./sampleFiles/example.txt\n"
     ]
    }
   ],
   "source": [
    "\n",
    "# Reading from a file\n",
    "with FileManager(\"./sampleFiles/example.txt\", \"r\") as f:\n",
    "    content = f.read()\n",
    "    print(\"\\nFile content:\")\n",
    "    print(content)"
   ]
  },
  {
   "cell_type": "code",
   "execution_count": 5,
   "id": "3fe4dd43",
   "metadata": {},
   "outputs": [],
   "source": [
    "class MyContextManager:\n",
    "    def __enter__(self):\n",
    "        print(\"Entering the context\")\n",
    "        return self\n",
    "\n",
    "    def __exit__(self, exc_type, exc_value, traceback):\n",
    "        if exc_type:\n",
    "            print(f\"An exception occurred: {exc_type.__name__} - {exc_value}\")\n",
    "            print(\"Suppressing the exception\")\n",
    "            return True  # Suppress the exception\n",
    "        print(\"Exiting the context\")\n",
    "        return False  # Do not suppress if no exception\n"
   ]
  },
  {
   "cell_type": "code",
   "execution_count": 6,
   "id": "783fbfaa",
   "metadata": {},
   "outputs": [
    {
     "name": "stdout",
     "output_type": "stream",
     "text": [
      "Entering the context\n",
      "Inside the context\n",
      "An exception occurred: ValueError - Something went wrong!\n",
      "Suppressing the exception\n",
      "Program continues normally after the context\n"
     ]
    }
   ],
   "source": [
    "# Using the context manager\n",
    "with MyContextManager() as manager:\n",
    "    print(\"Inside the context\")\n",
    "    raise ValueError(\"Something went wrong!\")\n",
    "    print(\"This will not be printed\")\n",
    "print(\"Program continues normally after the context\")"
   ]
  },
  {
   "cell_type": "code",
   "execution_count": null,
   "id": "4ab5e52d",
   "metadata": {},
   "outputs": [],
   "source": []
  }
 ],
 "metadata": {
  "kernelspec": {
   "display_name": ".venv",
   "language": "python",
   "name": "python3"
  },
  "language_info": {
   "codemirror_mode": {
    "name": "ipython",
    "version": 3
   },
   "file_extension": ".py",
   "mimetype": "text/x-python",
   "name": "python",
   "nbconvert_exporter": "python",
   "pygments_lexer": "ipython3",
   "version": "3.13.2"
  }
 },
 "nbformat": 4,
 "nbformat_minor": 5
}
