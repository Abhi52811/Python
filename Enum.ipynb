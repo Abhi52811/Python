{
 "cells": [
  {
   "cell_type": "code",
   "execution_count": 1,
   "id": "e8241a0b",
   "metadata": {},
   "outputs": [
    {
     "name": "stdout",
     "output_type": "stream",
     "text": [
      "Color.RED\n",
      "RED\n",
      "1\n"
     ]
    }
   ],
   "source": [
    "from enum import Enum\n",
    "\n",
    "class Color(Enum):\n",
    "    RED = 1\n",
    "    GREEN = 2\n",
    "    BLUE = 3\n",
    "\n",
    "print(Color.RED)        # Output: Color.RED\n",
    "print(Color.RED.name)   # Output: RED\n",
    "print(Color.RED.value)  # Output: 1"
   ]
  },
  {
   "cell_type": "code",
   "execution_count": 2,
   "id": "e75e4605",
   "metadata": {},
   "outputs": [
    {
     "name": "stdout",
     "output_type": "stream",
     "text": [
      "RED 1\n",
      "GREEN 2\n",
      "BLUE 3\n"
     ]
    }
   ],
   "source": [
    "for color in Color:\n",
    "    print(color.name, color.value)"
   ]
  },
  {
   "cell_type": "code",
   "execution_count": 3,
   "id": "c794ad42",
   "metadata": {},
   "outputs": [
    {
     "name": "stdout",
     "output_type": "stream",
     "text": [
      "Direction.NORTH\n",
      "N\n"
     ]
    }
   ],
   "source": [
    "from enum import Enum\n",
    "\n",
    "class Direction(Enum):\n",
    "    NORTH = \"N\"\n",
    "    SOUTH = \"S\"\n",
    "    EAST = \"E\"\n",
    "    WEST = \"W\"\n",
    "\n",
    "print(Direction.NORTH)  # Output: Direction.NORTH\n",
    "print(Direction.NORTH.value)  # Output: N"
   ]
  },
  {
   "cell_type": "code",
   "execution_count": 4,
   "id": "ade6dea2",
   "metadata": {},
   "outputs": [
    {
     "name": "stdout",
     "output_type": "stream",
     "text": [
      "False\n",
      "True\n"
     ]
    }
   ],
   "source": [
    "print(Direction.NORTH == Direction.SOUTH)  # Output: False\n",
    "print(Direction.NORTH == Direction.NORTH)  # Output: True"
   ]
  },
  {
   "cell_type": "code",
   "execution_count": 5,
   "id": "9363a758",
   "metadata": {},
   "outputs": [
    {
     "name": "stdout",
     "output_type": "stream",
     "text": [
      "0\n",
      "0\n",
      "True\n",
      "True\n"
     ]
    }
   ],
   "source": [
    "from enum import IntEnum\n",
    "\n",
    "class Status(IntEnum):\n",
    "    SUCCESS = 0\n",
    "    ERROR = 1\n",
    "    PENDING = 2\n",
    "\n",
    "print(Status.SUCCESS)        # Output: Status.SUCCESS\n",
    "print(Status.SUCCESS.value)  # Output: 0\n",
    "print(Status.SUCCESS == 0)   # Output: True\n",
    "print(Status.ERROR > Status.SUCCESS)  # Output: True\n"
   ]
  },
  {
   "cell_type": "code",
   "execution_count": 9,
   "id": "fbaf6a8c",
   "metadata": {},
   "outputs": [
    {
     "name": "stdout",
     "output_type": "stream",
     "text": [
      "SUCCESS 0\n",
      "ERROR 1\n",
      "PENDING 2\n"
     ]
    }
   ],
   "source": [
    "for status in Status:\n",
    "    print(status.name, status.value)"
   ]
  },
  {
   "cell_type": "code",
   "execution_count": 11,
   "id": "d8aa0558",
   "metadata": {},
   "outputs": [
    {
     "name": "stdout",
     "output_type": "stream",
     "text": [
      "1\n"
     ]
    }
   ],
   "source": [
    "print(Status(1))"
   ]
  },
  {
   "cell_type": "code",
   "execution_count": 6,
   "id": "4fe1e66f",
   "metadata": {},
   "outputs": [
    {
     "name": "stdout",
     "output_type": "stream",
     "text": [
      "Mon\n",
      "Mon\n",
      "True\n"
     ]
    }
   ],
   "source": [
    "from enum import StrEnum\n",
    "\n",
    "class Day(StrEnum):\n",
    "    MONDAY = \"Mon\"\n",
    "    TUESDAY = \"Tue\"\n",
    "    WEDNESDAY = \"Wed\"\n",
    "\n",
    "print(Day.MONDAY)        # Output: Day.MONDAY\n",
    "print(Day.MONDAY.value)  # Output: Mon\n",
    "print(Day.MONDAY == \"Mon\")  # Output: True\n"
   ]
  },
  {
   "cell_type": "code",
   "execution_count": 7,
   "id": "bc17d589",
   "metadata": {},
   "outputs": [
    {
     "name": "stdout",
     "output_type": "stream",
     "text": [
      "1\n",
      "2\n",
      "3\n"
     ]
    }
   ],
   "source": [
    "from enum import Enum, auto\n",
    "\n",
    "class Priority(Enum):\n",
    "    LOW = auto()\n",
    "    MEDIUM = auto()\n",
    "    HIGH = auto()\n",
    "\n",
    "print(Priority.LOW.value)    # Output: 1\n",
    "print(Priority.MEDIUM.value) # Output: 2\n",
    "print(Priority.HIGH.value)   # Output: 3\n"
   ]
  },
  {
   "cell_type": "code",
   "execution_count": 8,
   "id": "9cbe09ea",
   "metadata": {},
   "outputs": [
    {
     "name": "stdout",
     "output_type": "stream",
     "text": [
      "Permission.READ|WRITE\n"
     ]
    }
   ],
   "source": [
    "from enum import Flag, auto\n",
    "\n",
    "class Permission(Flag):\n",
    "    READ = auto()\n",
    "    WRITE = auto()\n",
    "    EXECUTE = auto()\n",
    "\n",
    "combined = Permission.READ | Permission.WRITE\n",
    "print(combined)   # Output: Permission.READ|WRITE\n"
   ]
  },
  {
   "cell_type": "code",
   "execution_count": null,
   "id": "5eb2f602",
   "metadata": {},
   "outputs": [],
   "source": []
  }
 ],
 "metadata": {
  "kernelspec": {
   "display_name": ".venv",
   "language": "python",
   "name": "python3"
  },
  "language_info": {
   "codemirror_mode": {
    "name": "ipython",
    "version": 3
   },
   "file_extension": ".py",
   "mimetype": "text/x-python",
   "name": "python",
   "nbconvert_exporter": "python",
   "pygments_lexer": "ipython3",
   "version": "3.13.2"
  }
 },
 "nbformat": 4,
 "nbformat_minor": 5
}
