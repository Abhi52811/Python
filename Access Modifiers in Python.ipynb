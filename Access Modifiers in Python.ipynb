{
 "cells": [
  {
   "cell_type": "code",
   "execution_count": 1,
   "metadata": {},
   "outputs": [
    {
     "data": {
      "text/plain": [
       "'\\nAccess Specifiers/Modifiers\\nAccess specifiers or access modifiers in python programming are used to limit the access of class variables and class methods outside of class while implementing the concepts of inheritance.\\n\\nLet us see the each one of access specifiers in detail:\\n\\nTypes of access specifiers\\nPublic access modifier\\nPrivate access modifier\\nProtected access modifier|\\n'"
      ]
     },
     "execution_count": 1,
     "metadata": {},
     "output_type": "execute_result"
    }
   ],
   "source": [
    "'''\n",
    "Access Specifiers/Modifiers\n",
    "Access specifiers or access modifiers in python programming are used to limit the access of class variables and class methods outside of class while implementing the concepts of inheritance.\n",
    "\n",
    "Let us see the each one of access specifiers in detail:\n",
    "\n",
    "Types of access specifiers\n",
    "Public access modifier\n",
    "Private access modifier\n",
    "Protected access modifier|\n",
    "'''"
   ]
  },
  {
   "cell_type": "code",
   "execution_count": 2,
   "metadata": {},
   "outputs": [
    {
     "data": {
      "text/plain": [
       "'\\nPublic Access Specifier in Python\\nAll the variables and methods (member functions) in python are by default public. \\nAny instance variable in a class followed by the ‘self’ keyword ie. self.var_name are public accessed.\\n'"
      ]
     },
     "execution_count": 2,
     "metadata": {},
     "output_type": "execute_result"
    }
   ],
   "source": [
    "'''\n",
    "Public Access Specifier in Python\n",
    "All the variables and methods (member functions) in python are by default public. \n",
    "Any instance variable in a class followed by the ‘self’ keyword ie. self.var_name are public accessed.\n",
    "'''"
   ]
  },
  {
   "cell_type": "code",
   "execution_count": 3,
   "metadata": {},
   "outputs": [
    {
     "name": "stdout",
     "output_type": "stream",
     "text": [
      "21\n",
      "Harry\n"
     ]
    }
   ],
   "source": [
    "class Student:\n",
    "    # constructor is defined\n",
    "    def __init__(self, age, name):\n",
    "        self.age = age               # public variable\n",
    "        self.name = name             # public variable\n",
    "\n",
    "obj = Student(21,\"Harry\")\n",
    "print(obj.age)\n",
    "print(obj.name)"
   ]
  },
  {
   "cell_type": "code",
   "execution_count": 4,
   "metadata": {},
   "outputs": [
    {
     "data": {
      "text/plain": [
       "'\\nPrivate Access Modifier\\nBy definition, Private members of a class (variables or methods) are those members which are only accessible inside the class. \\nWe cannot use private members outside of class.\\n\\nIn Python, there is no strict concept of \"private\" access modifiers like in some other programming languages. \\nHowever, a convention has been established to indicate that a variable or method should be considered private by prefixing its name with a double underscore (__). \\nThis is known as a \"weak internal use indicator\" and it is a convention only, not a strict rule. \\nCode outside the class can still access these \"private\" variables and methods, but it is generally understood that they should not be accessed or modified.\\n'"
      ]
     },
     "execution_count": 4,
     "metadata": {},
     "output_type": "execute_result"
    }
   ],
   "source": [
    "'''\n",
    "Private Access Modifier\n",
    "By definition, Private members of a class (variables or methods) are those members which are only accessible inside the class. \n",
    "We cannot use private members outside of class.\n",
    "\n",
    "In Python, there is no strict concept of \"private\" access modifiers like in some other programming languages. \n",
    "However, a convention has been established to indicate that a variable or method should be considered private by prefixing its name with a double underscore (__). \n",
    "This is known as a \"weak internal use indicator\" and it is a convention only, not a strict rule. \n",
    "Code outside the class can still access these \"private\" variables and methods, but it is generally understood that they should not be accessed or modified.\n",
    "'''"
   ]
  },
  {
   "cell_type": "code",
   "execution_count": 5,
   "metadata": {},
   "outputs": [],
   "source": [
    "class Student: \n",
    "    def __init__(self, age, name): \n",
    "        self.__age = age      # An indication of private variable\n",
    "        \n",
    "        def __funName(self):  # An indication of private function\n",
    "            self.y = 34\n",
    "            print(self.y)\n",
    "\n",
    "class Subject(Student):\n",
    "    pass"
   ]
  },
  {
   "cell_type": "code",
   "execution_count": 6,
   "metadata": {},
   "outputs": [
    {
     "ename": "AttributeError",
     "evalue": "'Student' object has no attribute '__age'",
     "output_type": "error",
     "traceback": [
      "\u001b[31m---------------------------------------------------------------------------\u001b[39m",
      "\u001b[31mAttributeError\u001b[39m                            Traceback (most recent call last)",
      "\u001b[36mCell\u001b[39m\u001b[36m \u001b[39m\u001b[32mIn[6]\u001b[39m\u001b[32m, line 5\u001b[39m\n\u001b[32m      2\u001b[39m obj1 = Subject\n\u001b[32m      4\u001b[39m \u001b[38;5;66;03m# calling by object of class Student\u001b[39;00m\n\u001b[32m----> \u001b[39m\u001b[32m5\u001b[39m \u001b[38;5;28mprint\u001b[39m(\u001b[43mobj\u001b[49m\u001b[43m.\u001b[49m\u001b[43m__age\u001b[49m)\n\u001b[32m      6\u001b[39m \u001b[38;5;28mprint\u001b[39m(obj.__funName())\n\u001b[32m      8\u001b[39m \u001b[38;5;66;03m# calling by object  of class Subject\u001b[39;00m\n",
      "\u001b[31mAttributeError\u001b[39m: 'Student' object has no attribute '__age'"
     ]
    }
   ],
   "source": [
    "obj = Student(21,\"Harry\")\n",
    "obj1 = Subject\n",
    "\n",
    "# calling by object of class Student\n",
    "print(obj.__age)\n",
    "print(obj.__funName())\n",
    "\n",
    "# calling by object  of class Subject\n",
    "print(obj1.__age)\n",
    "print(obj1.__funName())"
   ]
  },
  {
   "cell_type": "code",
   "execution_count": null,
   "metadata": {},
   "outputs": [],
   "source": [
    "'''\n",
    "Name mangling\n",
    "Name mangling in Python is a technique used to protect class-private and superclass-private attributes from being accidentally overwritten by subclasses. \n",
    "Names of class-private and superclass-private attributes are transformed by the addition of a single leading underscore and a double leading underscore respectively.\n",
    "'''"
   ]
  },
  {
   "cell_type": "code",
   "execution_count": null,
   "metadata": {},
   "outputs": [
    {
     "name": "stdout",
     "output_type": "stream",
     "text": [
      "I am a nonmangled attribute\n",
      "I am a mangled attribute\n"
     ]
    },
    {
     "ename": "AttributeError",
     "evalue": "'MyClass' object has no attribute '__mangled_attribute'",
     "output_type": "error",
     "traceback": [
      "\u001b[1;31m---------------------------------------------------------------------------\u001b[0m",
      "\u001b[1;31mAttributeError\u001b[0m                            Traceback (most recent call last)",
      "Cell \u001b[1;32mIn[12], line 10\u001b[0m\n\u001b[0;32m      8\u001b[0m \u001b[38;5;28mprint\u001b[39m(my_object\u001b[38;5;241m.\u001b[39m_nonmangled_attribute) \u001b[38;5;66;03m# Output: I am a nonmangled attribute\u001b[39;00m\n\u001b[0;32m      9\u001b[0m \u001b[38;5;28mprint\u001b[39m(my_object\u001b[38;5;241m.\u001b[39m_MyClass__mangled_attribute) \u001b[38;5;66;03m# Output: I am a mangled attribute\u001b[39;00m\n\u001b[1;32m---> 10\u001b[0m \u001b[38;5;28mprint\u001b[39m(\u001b[43mmy_object\u001b[49m\u001b[38;5;241;43m.\u001b[39;49m\u001b[43m__mangled_attribute\u001b[49m) \u001b[38;5;66;03m# Throws an AttributeError\u001b[39;00m\n",
      "\u001b[1;31mAttributeError\u001b[0m: 'MyClass' object has no attribute '__mangled_attribute'"
     ]
    }
   ],
   "source": [
    "class MyClass:\n",
    "    def __init__(self):\n",
    "        self._nonmangled_attribute = \"I am a nonmangled attribute\"\n",
    "        self.__mangled_attribute = \"I am a mangled attribute\"\n",
    "\n",
    "my_object = MyClass()\n",
    "\n",
    "print(my_object._nonmangled_attribute) # Output: I am a nonmangled attribute\n",
    "print(my_object._MyClass__mangled_attribute) # Output: I am a mangled attribute\n",
    "print(my_object.__mangled_attribute) # Throws an AttributeError"
   ]
  },
  {
   "cell_type": "code",
   "execution_count": null,
   "metadata": {},
   "outputs": [
    {
     "data": {
      "text/plain": [
       "'\\nProtected Access Modifier\\nIn object-oriented programming (OOP), the term \"protected\" is used to describe a member (i.e., a method or attribute) of a class that is intended to be accessed only by the class itself and its subclasses. \\nIn Python, the convention for indicating that a member is protected is to prefix its name with a single underscore (_). \\nFor example, if a class has a method called _my_method, it is indicating that the method should only be accessed by the class itself and its subclasses.\\n\\nIt\\'s important to note that the single underscore is just a naming convention, and does not actually provide any protection or restrict access to the member. \\nThe syntax we follow to make any variable protected is to write variable name followed by a single underscore (_) ie. _varName.\\n'"
      ]
     },
     "execution_count": 13,
     "metadata": {},
     "output_type": "execute_result"
    }
   ],
   "source": [
    "'''\n",
    "Protected Access Modifier\n",
    "In object-oriented programming (OOP), the term \"protected\" is used to describe a member (i.e., a method or attribute) of a class that is intended to be accessed only by the class itself and its subclasses. \n",
    "In Python, the convention for indicating that a member is protected is to prefix its name with a single underscore (_). \n",
    "For example, if a class has a method called _my_method, it is indicating that the method should only be accessed by the class itself and its subclasses.\n",
    "\n",
    "It's important to note that the single underscore is just a naming convention, and does not actually provide any protection or restrict access to the member. \n",
    "The syntax we follow to make any variable protected is to write variable name followed by a single underscore (_) ie. _varName.\n",
    "'''"
   ]
  },
  {
   "cell_type": "code",
   "execution_count": null,
   "metadata": {},
   "outputs": [],
   "source": [
    "class Student:\n",
    "    def __init__(self):\n",
    "        self._name = \"Harry\"\n",
    "\n",
    "    def _funName(self):      # protected method\n",
    "        return \"CodeWithHarry\"\n",
    "\n",
    "class Subject(Student):       #inherited class\n",
    "    pass"
   ]
  },
  {
   "cell_type": "code",
   "execution_count": null,
   "metadata": {},
   "outputs": [
    {
     "name": "stdout",
     "output_type": "stream",
     "text": [
      "Harry\n",
      "CodeWithHarry\n",
      "Harry\n",
      "CodeWithHarry\n"
     ]
    }
   ],
   "source": [
    "obj = Student()\n",
    "obj1 = Subject()\n",
    "\n",
    "# calling by object of Student class\n",
    "print(obj._name)      \n",
    "print(obj._funName())     \n",
    "# calling by object of Subject class\n",
    "print(obj1._name)    \n",
    "print(obj1._funName())"
   ]
  },
  {
   "cell_type": "code",
   "execution_count": null,
   "metadata": {},
   "outputs": [],
   "source": []
  }
 ],
 "metadata": {
  "kernelspec": {
   "display_name": ".venv",
   "language": "python",
   "name": "python3"
  },
  "language_info": {
   "codemirror_mode": {
    "name": "ipython",
    "version": 3
   },
   "file_extension": ".py",
   "mimetype": "text/x-python",
   "name": "python",
   "nbconvert_exporter": "python",
   "pygments_lexer": "ipython3",
   "version": "3.13.2"
  }
 },
 "nbformat": 4,
 "nbformat_minor": 2
}
