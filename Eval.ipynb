{
 "cells": [
  {
   "cell_type": "code",
   "execution_count": null,
   "id": "e1be2842",
   "metadata": {},
   "outputs": [],
   "source": [
    "# eval(expression, globals=None, locals=None)\n",
    "    # expression: A string containing a valid Python expression.\n",
    "    # globals: (Optional) A dictionary specifying the global variables.\n",
    "    # locals: (Optional) A dictionary specifying the local variables.\n",
    "# The eval() function returns the result of the evaluated expression.\n"
   ]
  },
  {
   "cell_type": "code",
   "execution_count": 1,
   "id": "a758d2c3",
   "metadata": {},
   "outputs": [
    {
     "name": "stdout",
     "output_type": "stream",
     "text": [
      "52\n"
     ]
    }
   ],
   "source": [
    "expression = \"10 * 5 + 2\"\n",
    "result = eval(expression)\n",
    "print(result)  # Output: 52"
   ]
  },
  {
   "cell_type": "code",
   "execution_count": 2,
   "id": "178367c4",
   "metadata": {},
   "outputs": [
    {
     "name": "stdout",
     "output_type": "stream",
     "text": [
      "6\n"
     ]
    }
   ],
   "source": [
    "x = 3\n",
    "expression = \"x * 2\"\n",
    "result = eval(expression)\n",
    "print(result)  # Output: 6\n"
   ]
  },
  {
   "cell_type": "code",
   "execution_count": null,
   "id": "394af561",
   "metadata": {},
   "outputs": [
    {
     "name": "stdout",
     "output_type": "stream",
     "text": [
      "10\n"
     ]
    }
   ],
   "source": [
    "x = 5\n",
    "\n",
    "result = eval(f\"{x} * 2\", {})\n",
    "print(result)  # Output: 10"
   ]
  },
  {
   "cell_type": "code",
   "execution_count": 9,
   "id": "f34e381a",
   "metadata": {},
   "outputs": [
    {
     "name": "stdout",
     "output_type": "stream",
     "text": [
      "20\n"
     ]
    }
   ],
   "source": [
    "x = 5\n",
    "scope = {\"x\": 10}\n",
    "\n",
    "result = eval(\"x * 2\", {}, scope)\n",
    "print(result)  # Output: 20\n"
   ]
  },
  {
   "cell_type": "code",
   "execution_count": 10,
   "id": "c50c8511",
   "metadata": {},
   "outputs": [
    {
     "name": "stdout",
     "output_type": "stream",
     "text": [
      "Result: 52\n"
     ]
    }
   ],
   "source": [
    "user_input = input(\"Enter a mathematical expression: \")\n",
    "try:\n",
    "    print(\"Result:\", eval(user_input))\n",
    "except Exception as e:\n",
    "    print(\"Invalid input:\", e)"
   ]
  },
  {
   "cell_type": "code",
   "execution_count": 11,
   "id": "89f05afd",
   "metadata": {},
   "outputs": [
    {
     "name": "stdout",
     "output_type": "stream",
     "text": [
      "15\n"
     ]
    }
   ],
   "source": [
    "x = 15\n",
    "y = 20\n",
    "var_name = \"x\"\n",
    "\n",
    "print(eval(var_name))  # Output: 15\n"
   ]
  },
  {
   "cell_type": "code",
   "execution_count": 12,
   "id": "87c4895b",
   "metadata": {},
   "outputs": [
    {
     "name": "stdout",
     "output_type": "stream",
     "text": [
      "Alice\n"
     ]
    }
   ],
   "source": [
    "data = \"{'name': 'Alice', 'age': 30}\"\n",
    "person = eval(data)\n",
    "print(person[\"name\"])  # Output: Alice"
   ]
  },
  {
   "cell_type": "code",
   "execution_count": 13,
   "id": "7b178104",
   "metadata": {},
   "outputs": [
    {
     "name": "stdout",
     "output_type": "stream",
     "text": [
      "{'name': 'Alice', 'age': 30}\n"
     ]
    }
   ],
   "source": [
    "import ast\n",
    "data = \"{'name': 'Alice', 'age': 30}\"\n",
    "person = ast.literal_eval(data)\n",
    "print(person)  # Output: {'name': 'Alice', 'age': 30}"
   ]
  },
  {
   "cell_type": "code",
   "execution_count": 14,
   "id": "5dfc8711",
   "metadata": {},
   "outputs": [
    {
     "name": "stdout",
     "output_type": "stream",
     "text": [
      "[1, 2, 3, 4]\n"
     ]
    }
   ],
   "source": [
    "expression = \"[1, 2, 3, 4]\"\n",
    "result = ast.literal_eval(expression)\n",
    "print(result)  # Output: [1, 2, 3, 4]\n"
   ]
  },
  {
   "cell_type": "code",
   "execution_count": 18,
   "id": "9020338e",
   "metadata": {},
   "outputs": [
    {
     "name": "stdout",
     "output_type": "stream",
     "text": [
      "Result of safe eval: 1220\n",
      "\n"
     ]
    }
   ],
   "source": [
    "def demonstrate_eval():\n",
    "    expression = input(\"Enter a mathematical expression: \")\n",
    "    variables = {'a': 20 , 'b': 30, 'c':40}\n",
    "    result = eval(expression,{}, variables)\n",
    "    print(f\"Result of safe eval: {result}\\n\")\n",
    "\n",
    "demonstrate_eval()"
   ]
  },
  {
   "cell_type": "code",
   "execution_count": null,
   "id": "5f6635eb",
   "metadata": {},
   "outputs": [],
   "source": []
  }
 ],
 "metadata": {
  "kernelspec": {
   "display_name": ".venv",
   "language": "python",
   "name": "python3"
  },
  "language_info": {
   "codemirror_mode": {
    "name": "ipython",
    "version": 3
   },
   "file_extension": ".py",
   "mimetype": "text/x-python",
   "name": "python",
   "nbconvert_exporter": "python",
   "pygments_lexer": "ipython3",
   "version": "3.13.2"
  }
 },
 "nbformat": 4,
 "nbformat_minor": 5
}
