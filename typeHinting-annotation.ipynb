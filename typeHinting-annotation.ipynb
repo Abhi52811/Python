{
 "cells": [
  {
   "cell_type": "code",
   "execution_count": 1,
   "id": "e22c51de",
   "metadata": {},
   "outputs": [],
   "source": [
    "name: str = \"Abhishek\"\n",
    "age: int = 20"
   ]
  },
  {
   "cell_type": "code",
   "execution_count": 1,
   "id": "d4df04ea",
   "metadata": {},
   "outputs": [
    {
     "name": "stdout",
     "output_type": "stream",
     "text": [
      "Hello, Abhishek! You are 20 years old.\n"
     ]
    }
   ],
   "source": [
    "def greet(name: str, age: int) -> str:\n",
    "    return f\"Hello, {name}! You are {age} years old.\"\n",
    "\n",
    "print(greet(\"Abhishek\", 20))"
   ]
  },
  {
   "cell_type": "code",
   "execution_count": 2,
   "id": "b0a2b541",
   "metadata": {},
   "outputs": [
    {
     "name": "stdout",
     "output_type": "stream",
     "text": [
      "Hello, 123! You are Twenty years old.\n"
     ]
    }
   ],
   "source": [
    "print(greet(123, \"Twenty\"))  # Output: Hello, 123! You are Twenty years old."
   ]
  },
  {
   "cell_type": "code",
   "execution_count": 3,
   "id": "a449b563",
   "metadata": {},
   "outputs": [
    {
     "name": "stdout",
     "output_type": "stream",
     "text": [
      "Alice scored 95\n",
      "Bob scored 88\n"
     ]
    }
   ],
   "source": [
    "from typing import List, Dict\n",
    "\n",
    "def get_scores(names: List[str], scores: Dict[str, int]) -> None:\n",
    "    for name in names:\n",
    "        print(f\"{name} scored {scores.get(name, 0)}\")\n",
    "\n",
    "names = [\"Alice\", \"Bob\"]\n",
    "scores = {\"Alice\": 95, \"Bob\": 88}\n",
    "get_scores(names, scores)"
   ]
  },
  {
   "cell_type": "code",
   "execution_count": 4,
   "id": "9b224fa8",
   "metadata": {},
   "outputs": [
    {
     "name": "stdout",
     "output_type": "stream",
     "text": [
      "6\n",
      "3\n",
      "Unknown\n"
     ]
    }
   ],
   "source": [
    "from typing import Union, Optional\n",
    "\n",
    "def get_length(item: Union[str, list]) -> int:\n",
    "    return len(item)\n",
    "\n",
    "def get_name(name: Optional[str] = None) -> str:\n",
    "    return name if name else \"Unknown\"\n",
    "\n",
    "print(get_length(\"Python\"))  # 6\n",
    "print(get_length([1, 2, 3])) # 3\n",
    "print(get_name())            # Unknown\n"
   ]
  },
  {
   "cell_type": "code",
   "execution_count": 5,
   "id": "4c2fa13a",
   "metadata": {},
   "outputs": [
    {
     "name": "stdout",
     "output_type": "stream",
     "text": [
      "83.83333333333333\n"
     ]
    }
   ],
   "source": [
    "from typing import Dict, List\n",
    "\n",
    "# Creating a type alias\n",
    "Scores = Dict[str, List[int]]\n",
    "\n",
    "def average_scores(scores: Scores) -> float:\n",
    "    total = sum(sum(grades) for grades in scores.values())\n",
    "    count = sum(len(grades) for grades in scores.values())\n",
    "    return total / count if count else 0.0\n",
    "\n",
    "student_scores = {\n",
    "    \"Alice\": [90, 85, 88],\n",
    "    \"Bob\": [78, 82, 80]\n",
    "}\n",
    "\n",
    "print(average_scores(student_scores))  # Output: 83.8333"
   ]
  },
  {
   "cell_type": "code",
   "execution_count": 6,
   "id": "2c61e1e6",
   "metadata": {},
   "outputs": [
    {
     "name": "stdout",
     "output_type": "stream",
     "text": [
      "My name is Abhishek and I am 20 years old.\n"
     ]
    }
   ],
   "source": [
    "class Person:\n",
    "    def __init__(self, name: str, age: int) -> None:\n",
    "        self.name = name\n",
    "        self.age = age\n",
    "\n",
    "    def introduce(self) -> str:\n",
    "        return f\"My name is {self.name} and I am {self.age} years old.\"\n",
    "\n",
    "person = Person(\"Abhishek\", 20)\n",
    "print(person.introduce())"
   ]
  },
  {
   "cell_type": "code",
   "execution_count": 8,
   "id": "a63b4756",
   "metadata": {},
   "outputs": [
    {
     "name": "stdout",
     "output_type": "stream",
     "text": [
      "123\n",
      "Hello\n"
     ]
    }
   ],
   "source": [
    "from typing import TypeVar, Generic\n",
    "\n",
    "T = TypeVar('T')\n",
    "\n",
    "class Box(Generic[T]):\n",
    "    def __init__(self, item: T) -> None:\n",
    "        self.item = item\n",
    "\n",
    "    def get_item(self) -> T:\n",
    "        return self.item\n",
    "\n",
    "int_box = Box(123)\n",
    "str_box = Box(\"Hello\")\n",
    "\n",
    "print(int_box.get_item())  # 123\n",
    "print(str_box.get_item())  # Hello"
   ]
  },
  {
   "cell_type": "code",
   "execution_count": null,
   "id": "e11f2647",
   "metadata": {},
   "outputs": [],
   "source": []
  }
 ],
 "metadata": {
  "kernelspec": {
   "display_name": ".venv",
   "language": "python",
   "name": "python3"
  },
  "language_info": {
   "codemirror_mode": {
    "name": "ipython",
    "version": 3
   },
   "file_extension": ".py",
   "mimetype": "text/x-python",
   "name": "python",
   "nbconvert_exporter": "python",
   "pygments_lexer": "ipython3",
   "version": "3.13.2"
  }
 },
 "nbformat": 4,
 "nbformat_minor": 5
}
