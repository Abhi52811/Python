{
 "cells": [
  {
   "cell_type": "code",
   "execution_count": 1,
   "metadata": {},
   "outputs": [],
   "source": [
    "def func1():\n",
    "  try:\n",
    "    l = [1, 5, 6, 7]\n",
    "    i = int(input(\"Enter the index: \"))\n",
    "    print(l[i])\n",
    "    return 1\n",
    "  except:\n",
    "    print(\"Some error occurred\")\n",
    "    return 0\n",
    "  print(\"I am always executed\")"
   ]
  },
  {
   "cell_type": "code",
   "execution_count": 2,
   "metadata": {},
   "outputs": [
    {
     "name": "stdout",
     "output_type": "stream",
     "text": [
      "1\n",
      "1\n"
     ]
    }
   ],
   "source": [
    "x = func1()\n",
    "print(x)"
   ]
  },
  {
   "cell_type": "code",
   "execution_count": 3,
   "metadata": {},
   "outputs": [],
   "source": [
    "def func1():\n",
    "  try:\n",
    "    l = [1, 5, 6, 7]\n",
    "    i = int(input(\"Enter the index: \"))\n",
    "    print(l[i])\n",
    "    return 1\n",
    "  except:\n",
    "    print(\"Some error occurred\")\n",
    "    return 0\n",
    "  finally:\n",
    "    print(\"I am always executed\")\n"
   ]
  },
  {
   "cell_type": "code",
   "execution_count": 4,
   "metadata": {},
   "outputs": [
    {
     "name": "stdout",
     "output_type": "stream",
     "text": [
      "1\n",
      "I am always executed\n",
      "1\n"
     ]
    }
   ],
   "source": [
    "x = func1()\n",
    "print(x)"
   ]
  },
  {
   "cell_type": "code",
   "execution_count": 5,
   "metadata": {},
   "outputs": [
    {
     "data": {
      "text/plain": [
       "'\\nWe can see the difference between print with out finally and with finally.\\nwhen we wrap it into a function print with finally will be executed and\\nprint without finally will not be executed\\n'"
      ]
     },
     "execution_count": 5,
     "metadata": {},
     "output_type": "execute_result"
    }
   ],
   "source": [
    "'''\n",
    "We can see the difference between print with out finally and with finally.\n",
    "when we wrap it into a function print with finally will be executed and\n",
    "print without finally will not be executed\n",
    "'''"
   ]
  }
 ],
 "metadata": {
  "kernelspec": {
   "display_name": ".venv",
   "language": "python",
   "name": "python3"
  },
  "language_info": {
   "codemirror_mode": {
    "name": "ipython",
    "version": 3
   },
   "file_extension": ".py",
   "mimetype": "text/x-python",
   "name": "python",
   "nbconvert_exporter": "python",
   "pygments_lexer": "ipython3",
   "version": "3.13.2"
  }
 },
 "nbformat": 4,
 "nbformat_minor": 2
}
