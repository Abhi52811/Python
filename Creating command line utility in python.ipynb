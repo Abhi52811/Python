{
 "cells": [
  {
   "cell_type": "code",
   "execution_count": null,
   "metadata": {},
   "outputs": [],
   "source": [
    "'''\n",
    "Creating Command Line Utilities in Python\n",
    "Command line utilities are programs that can be run from the terminal or command line interface, and they are an essential part of many development workflows. \n",
    "In Python, you can create your own command line utilities using the built-in argparse module.\n",
    "\n",
    "Syntax\n",
    "Here is the basic syntax for creating a command line utility using argparse in Python:\n",
    "'''"
   ]
  },
  {
   "cell_type": "code",
   "execution_count": null,
   "metadata": {},
   "outputs": [],
   "source": [
    "import argparse\n",
    "\n",
    "# Initialize the argument parser\n",
    "parser = argparse.ArgumentParser(description=\"A script that takes two arguments and prints them.\")\n",
    "\n",
    "# Add command line arguments\n",
    "parser.add_argument(\"arg1\", help=\"The first argument (e.g., a string or value).\")\n",
    "parser.add_argument(\"arg2\", help=\"The second argument (e.g., another string or value).\")\n",
    "\n",
    "# Parse the arguments\n",
    "args = parser.parse_args()\n",
    "\n",
    "# Use the arguments in your code\n",
    "print(f\"Argument 1: {args.arg1}\")\n",
    "print(f\"Argument 2: {args.arg2}\")\n"
   ]
  },
  {
   "cell_type": "code",
   "execution_count": null,
   "metadata": {},
   "outputs": [],
   "source": [
    "'''\n",
    "Examples\n",
    "Here are a few examples to help you get started with creating command line utilities in Python:\n",
    "\n",
    "Adding optional arguments\n",
    "The following example shows how to add an optional argument to your command line utility:\n",
    "'''"
   ]
  },
  {
   "cell_type": "code",
   "execution_count": null,
   "metadata": {},
   "outputs": [],
   "source": [
    "import argparse\n",
    "\n",
    "parser = argparse.ArgumentParser()\n",
    "\n",
    "parser.add_argument(\"-o\", \"--optional\", help=\"description of optional argument\", default=\"default_value\")\n",
    "\n",
    "args = parser.parse_args()\n",
    "\n",
    "print(args.optional)"
   ]
  },
  {
   "cell_type": "code",
   "execution_count": null,
   "metadata": {},
   "outputs": [],
   "source": [
    "'''\n",
    "Adding positional arguments\n",
    "The following example shows how to add a positional argument to your command line utility:\n",
    "'''"
   ]
  },
  {
   "cell_type": "code",
   "execution_count": null,
   "metadata": {},
   "outputs": [],
   "source": [
    "import argparse\n",
    "\n",
    "parser = argparse.ArgumentParser()\n",
    "\n",
    "parser.add_argument(\"positional\", help=\"description of positional argument\")\n",
    "\n",
    "args = parser.parse_args()\n",
    "\n",
    "print(args.positional)"
   ]
  },
  {
   "cell_type": "code",
   "execution_count": null,
   "metadata": {},
   "outputs": [],
   "source": [
    "'''\n",
    "Adding arguments with type\n",
    "The following example shows how to add an argument with a specified type:\n",
    "'''"
   ]
  },
  {
   "cell_type": "code",
   "execution_count": null,
   "metadata": {},
   "outputs": [],
   "source": [
    "import argparse\n",
    "\n",
    "parser = argparse.ArgumentParser()\n",
    "\n",
    "parser.add_argument(\"-n\", type=int, help=\"description of integer argument\")\n",
    "\n",
    "args = parser.parse_args()\n",
    "\n",
    "print(args.n)"
   ]
  },
  {
   "cell_type": "code",
   "execution_count": null,
   "metadata": {},
   "outputs": [],
   "source": [
    "import argparse\n",
    "import requests\n",
    "\n",
    "def download_file(url, local_filename): \n",
    "  if local_filename is None:\n",
    "    local_filename = url.split('/')[-1]\n",
    "    # NOTE the stream=True parameter below\n",
    "  with requests.get(url, stream=True) as r:\n",
    "      r.raise_for_status()\n",
    "      with open(local_filename, 'wb') as f:\n",
    "          for chunk in r.iter_content(chunk_size=8192): \n",
    "              # If you have chunk encoded response uncomment if\n",
    "              # and set chunk_size parameter to None.\n",
    "              #if chunk: \n",
    "              f.write(chunk)\n",
    "  return local_filename\n",
    "  \n",
    "parser = argparse.ArgumentParser()\n",
    "\n",
    "# Add command line arguments\n",
    "parser.add_argument(\"url\", help=\"Url of the file to download\")\n",
    "# parser.add_argument(\"output\", help=\"by which name do you want to save your file\")\n",
    "parser.add_argument(\"-o\", \"--output\", type=str, help=\"Name of the file\", default=None)\n",
    "\n",
    "# Parse the arguments\n",
    "args = parser.parse_args()\n",
    "\n",
    "# Use the arguments in your code\n",
    "print(args.url)\n",
    "print(args.output, type(args.output))\n",
    "download_file(args.url, args.output)"
   ]
  },
  {
   "cell_type": "code",
   "execution_count": null,
   "metadata": {},
   "outputs": [],
   "source": []
  }
 ],
 "metadata": {
  "kernelspec": {
   "display_name": ".venv",
   "language": "python",
   "name": "python3"
  },
  "language_info": {
   "codemirror_mode": {
    "name": "ipython",
    "version": 3
   },
   "file_extension": ".py",
   "mimetype": "text/x-python",
   "name": "python",
   "nbconvert_exporter": "python",
   "pygments_lexer": "ipython3",
   "version": "3.13.2"
  }
 },
 "nbformat": 4,
 "nbformat_minor": 2
}
