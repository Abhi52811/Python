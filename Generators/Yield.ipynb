{
 "cells": [
  {
   "cell_type": "code",
   "execution_count": 2,
   "id": "e4f7f456",
   "metadata": {},
   "outputs": [
    {
     "name": "stdout",
     "output_type": "stream",
     "text": [
      "Yielding: 0\n",
      "0\n",
      "Yielding: 1\n",
      "1\n",
      "Yielding: 2\n",
      "2\n",
      "Yielding: 3\n",
      "3\n"
     ]
    }
   ],
   "source": [
    "def counter():\n",
    "    n = 0\n",
    "    while True:\n",
    "        print(f\"Yielding: {n}\")\n",
    "        yield n\n",
    "        n += 1\n",
    "\n",
    "gen = counter()\n",
    "print(next(gen))\n",
    "print(next(gen))\n",
    "print(next(gen))\n",
    "print(next(gen))"
   ]
  },
  {
   "cell_type": "code",
   "execution_count": 1,
   "id": "4df8fdb7",
   "metadata": {},
   "outputs": [
    {
     "name": "stdout",
     "output_type": "stream",
     "text": [
      "Yielding: 0\n",
      "0\n",
      "1\n",
      "Yielding: 1\n",
      "1\n",
      "2\n"
     ]
    }
   ],
   "source": [
    "def counter():\n",
    "    n = 0\n",
    "    while True:\n",
    "        print(f\"Yielding: {n}\")\n",
    "        yield n\n",
    "        n += 1\n",
    "        yield n\n",
    "\n",
    "gen = counter()\n",
    "print(next(gen))\n",
    "print(next(gen))\n",
    "print(next(gen))\n",
    "print(next(gen))"
   ]
  },
  {
   "cell_type": "code",
   "execution_count": 9,
   "id": "a5d1f000",
   "metadata": {},
   "outputs": [
    {
     "name": "stdout",
     "output_type": "stream",
     "text": [
      "1\n",
      "[2, 3, 4]\n",
      "5\n"
     ]
    }
   ],
   "source": [
    "def sub_generator():\n",
    "    yield from [1, 2, 3]\n",
    "\n",
    "def main_generator():\n",
    "    yield from sub_generator()\n",
    "    yield 4\n",
    "    yield 5\n",
    "\n",
    "# Create the generator object\n",
    "gen = main_generator()\n",
    "\n",
    "print(next(gen))\n",
    "# Print values from the sub_generator as a list\n",
    "print(list(next(gen) for _ in range(3)))\n",
    "# Print the remaining values one by one\n",
    "print(next(gen))\n",
    "\n",
    "# for value in main_generator():\n",
    "#     print(value)"
   ]
  },
  {
   "cell_type": "code",
   "execution_count": 10,
   "id": "35e3377a",
   "metadata": {},
   "outputs": [
    {
     "name": "stdout",
     "output_type": "stream",
     "text": [
      "0\n",
      "1\n"
     ]
    }
   ],
   "source": [
    "gen_exp = (x * x for x in range(5))\n",
    "print(next(gen_exp))  # Output: 0\n",
    "print(next(gen_exp))  # Output: 1"
   ]
  },
  {
   "cell_type": "code",
   "execution_count": 12,
   "id": "6a39ff85",
   "metadata": {},
   "outputs": [
    {
     "name": "stdout",
     "output_type": "stream",
     "text": [
      "0\n",
      "1\n",
      "2\n"
     ]
    }
   ],
   "source": [
    "import asyncio\n",
    "\n",
    "async def async_generator():\n",
    "    for i in range(3):\n",
    "        await asyncio.sleep(1)\n",
    "        yield i\n",
    "\n",
    "async def main():\n",
    "    async for number in async_generator():\n",
    "        print(number)\n",
    "\n",
    "await main()\n"
   ]
  },
  {
   "cell_type": "code",
   "execution_count": 13,
   "id": "3e14dcfa",
   "metadata": {},
   "outputs": [
    {
     "name": "stdout",
     "output_type": "stream",
     "text": [
      "AAPL: $100\n",
      "AAPL: $102\n",
      "AAPL: $101\n",
      "AAPL: $103\n",
      "AAPL: $104\n"
     ]
    }
   ],
   "source": [
    "async def stock_price_generator(symbol):\n",
    "    prices = [100, 102, 101, 103, 104]  # Simulated stock prices\n",
    "    for price in prices:\n",
    "        await asyncio.sleep(2)  # Simulate real-time data update\n",
    "        yield f\"{symbol}: ${price}\"\n",
    "\n",
    "async def main():\n",
    "    async for price in stock_price_generator(\"AAPL\"):\n",
    "        print(price)\n",
    "\n",
    "await main()"
   ]
  },
  {
   "cell_type": "code",
   "execution_count": 14,
   "id": "2ab917d6",
   "metadata": {},
   "outputs": [
    {
     "name": "stdout",
     "output_type": "stream",
     "text": [
      "Value: 0\n",
      "Value: 1\n",
      "Value: 2\n",
      "Caught exception: An error occurred!\n"
     ]
    }
   ],
   "source": [
    "async def faulty_generator():\n",
    "    for i in range(5):\n",
    "        await asyncio.sleep(1)\n",
    "        if i == 3:\n",
    "            raise ValueError(\"An error occurred!\")\n",
    "        yield i\n",
    "\n",
    "async def main():\n",
    "    try:\n",
    "        async for value in faulty_generator():\n",
    "            print(f\"Value: {value}\")\n",
    "    except ValueError as e:\n",
    "        print(f\"Caught exception: {e}\")\n",
    "\n",
    "await main()\n"
   ]
  },
  {
   "cell_type": "code",
   "execution_count": null,
   "id": "2a82bb17",
   "metadata": {},
   "outputs": [],
   "source": []
  }
 ],
 "metadata": {
  "kernelspec": {
   "display_name": ".venv",
   "language": "python",
   "name": "python3"
  },
  "language_info": {
   "codemirror_mode": {
    "name": "ipython",
    "version": 3
   },
   "file_extension": ".py",
   "mimetype": "text/x-python",
   "name": "python",
   "nbconvert_exporter": "python",
   "pygments_lexer": "ipython3",
   "version": "3.13.2"
  }
 },
 "nbformat": 4,
 "nbformat_minor": 5
}
