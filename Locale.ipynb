{
 "cells": [
  {
   "cell_type": "code",
   "execution_count": 1,
   "id": "26ccb02f",
   "metadata": {},
   "outputs": [
    {
     "name": "stdout",
     "output_type": "stream",
     "text": [
      "('English_India', '1252')\n",
      "('en_US', 'UTF-8')\n"
     ]
    }
   ],
   "source": [
    "import locale\n",
    "\n",
    "# Show current locale for all categories\n",
    "print(locale.getlocale())  \n",
    "\n",
    "# Set locale to US English (numbers, currency, dates, etc.)\n",
    "locale.setlocale(locale.LC_ALL, 'en_US.UTF-8')\n",
    "\n",
    "# Get current locale for numbers\n",
    "print(locale.getlocale(locale.LC_NUMERIC))  # ('en_US', 'UTF-8')"
   ]
  },
  {
   "cell_type": "code",
   "execution_count": 3,
   "id": "3b596e60",
   "metadata": {},
   "outputs": [
    {
     "name": "stdout",
     "output_type": "stream",
     "text": [
      "$1234567.89\n",
      "1234567,89 €\n"
     ]
    }
   ],
   "source": [
    "locale.setlocale(locale.LC_ALL, 'en_US.UTF-8')\n",
    "print(locale.currency(1234567.89))  # $1,234,567.89\n",
    "\n",
    "locale.setlocale(locale.LC_ALL, 'fr_FR.UTF-8')\n",
    "print(locale.currency(1234567.89))  # 1 234 567,89 €"
   ]
  },
  {
   "cell_type": "code",
   "execution_count": 6,
   "id": "8e144dd9",
   "metadata": {},
   "outputs": [
    {
     "name": "stdout",
     "output_type": "stream",
     "text": [
      "17.05.2025\n"
     ]
    }
   ],
   "source": [
    "import locale\n",
    "import time\n",
    "\n",
    "locale.setlocale(locale.LC_TIME, 'de_DE.UTF-8')\n",
    "\n",
    "t = time.localtime()\n",
    "\n",
    "# Locale-aware date string\n",
    "print(time.strftime('%x', t))  # Output: '17.05.2025'  (German date format)\n"
   ]
  },
  {
   "cell_type": "code",
   "execution_count": 8,
   "id": "705c20b2",
   "metadata": {},
   "outputs": [
    {
     "name": "stdout",
     "output_type": "stream",
     "text": [
      "Number: 1,234,567.890000\n",
      "Currency: $1234567.89\n",
      "Date: 5/17/2025\n",
      "Sorted: ['ångström', 'apple', 'zebra']\n"
     ]
    }
   ],
   "source": [
    "import locale\n",
    "import time\n",
    "\n",
    "# Set US locale\n",
    "locale.setlocale(locale.LC_ALL, 'en_US.UTF-8')\n",
    "\n",
    "num = 1234567.89\n",
    "print(\"Number:\", locale.format_string(\"%f\", num, grouping=True))\n",
    "print(\"Currency:\", locale.currency(num))\n",
    "\n",
    "t = time.localtime()\n",
    "print(\"Date:\", time.strftime('%x', t))\n",
    "\n",
    "# Sort example\n",
    "words = ['apple', 'ångström', 'zebra']\n",
    "sorted_words = sorted(words, key=locale.strxfrm)\n",
    "print(\"Sorted:\", sorted_words)\n"
   ]
  },
  {
   "cell_type": "code",
   "execution_count": null,
   "id": "cc915555",
   "metadata": {},
   "outputs": [],
   "source": []
  }
 ],
 "metadata": {
  "kernelspec": {
   "display_name": ".venv",
   "language": "python",
   "name": "python3"
  },
  "language_info": {
   "codemirror_mode": {
    "name": "ipython",
    "version": 3
   },
   "file_extension": ".py",
   "mimetype": "text/x-python",
   "name": "python",
   "nbconvert_exporter": "python",
   "pygments_lexer": "ipython3",
   "version": "3.13.2"
  }
 },
 "nbformat": 4,
 "nbformat_minor": 5
}
