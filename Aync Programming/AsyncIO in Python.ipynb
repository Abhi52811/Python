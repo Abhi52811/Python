{
 "cells": [
  {
   "cell_type": "code",
   "execution_count": null,
   "metadata": {},
   "outputs": [],
   "source": [
    "'''\n",
    "Async IO in Python\n",
    "Asynchronous I/O, or async for short, is a programming pattern that allows for high-performance I/O operations in a concurrent and non-blocking manner. \n",
    "In Python, async programming is achieved through the use of the asyncio module and asynchronous functions.\n",
    "\n",
    "Syntax\n",
    "Here is the basic syntax for creating an asynchronous function in Python:\n",
    "'''"
   ]
  },
  {
   "cell_type": "code",
   "execution_count": 9,
   "metadata": {},
   "outputs": [
    {
     "name": "stdout",
     "output_type": "stream",
     "text": [
      "Hello, Async World!\n"
     ]
    }
   ],
   "source": [
    "import asyncio\n",
    "\n",
    "async def my_async_function():\n",
    "    # asynchronous code here\n",
    "    await asyncio.sleep(1)\n",
    "    return \"Hello, Async World!\"\n",
    "\n",
    "async def main():\n",
    "    result = await my_async_function()\n",
    "    print(result)\n",
    "\n",
    "# Directly await in the interactive environment\n",
    "await main()\n"
   ]
  },
  {
   "cell_type": "code",
   "execution_count": 10,
   "metadata": {},
   "outputs": [
    {
     "name": "stdout",
     "output_type": "stream",
     "text": [
      "['Hello, Async World!', 'Hello, Async World!', 'Hello, Async World!']\n"
     ]
    }
   ],
   "source": [
    "L = await asyncio.gather(\n",
    "        my_async_function(),\n",
    "        my_async_function(),\n",
    "        my_async_function(),\n",
    "    )\n",
    "print(L)"
   ]
  },
  {
   "cell_type": "code",
   "execution_count": 11,
   "metadata": {},
   "outputs": [
    {
     "data": {
      "text/plain": [
       "\"\\nAsync IO is a powerful programming pattern that allows for high-performance and concurrent I/O operations in Python. \\nWith the asyncio module and asynchronous functions, you can write efficient and scalable code that can handle large amounts of data and I/O operations without blocking the main thread. \\nWhether you're working on web applications, network services, or data processing pipelines, async IO is an essential tool for any Python developer.\\n\""
      ]
     },
     "execution_count": 11,
     "metadata": {},
     "output_type": "execute_result"
    }
   ],
   "source": [
    "'''\n",
    "Async IO is a powerful programming pattern that allows for high-performance and concurrent I/O operations in Python. \n",
    "With the asyncio module and asynchronous functions, you can write efficient and scalable code that can handle large amounts of data and I/O operations without blocking the main thread. \n",
    "Whether you're working on web applications, network services, or data processing pipelines, async IO is an essential tool for any Python developer.\n",
    "'''"
   ]
  },
  {
   "cell_type": "code",
   "execution_count": null,
   "metadata": {},
   "outputs": [
    {
     "name": "stdout",
     "output_type": "stream",
     "text": [
      "func 1\n",
      "func 2\n",
      "func 3\n",
      "Downloaded ../downloadImages/instagram3.ico\n",
      "Downloaded ../downloadImages/instagram2.jpg\n",
      "Downloaded ../downloadImages/instagram.ico\n",
      "['Hello, Async World!', 'Hello, Async World!', 'Hello, Async World!']\n"
     ]
    }
   ],
   "source": [
    "import asyncio\n",
    "import aiohttp\n",
    "import aiofiles\n",
    "\n",
    "async def download_file(url, file_name):\n",
    "    async with aiohttp.ClientSession() as session:\n",
    "        async with session.get(url) as response:\n",
    "            if response.status == 200:\n",
    "                async with aiofiles.open(file_name, mode='wb') as f:\n",
    "                    await f.write(await response.read())\n",
    "                print(f\"Downloaded {file_name}\")\n",
    "            else:\n",
    "                print(f\"Failed to download {file_name}, status: {response.status}\")\n",
    "\n",
    "async def function1():\n",
    "    print(\"func 1\")\n",
    "    URL = \"https://wallpaperaccess.in/public/uploads/preview/1920x1200-desktop-background-ultra-hd-wallpaper-wiki-desktop-wallpaper-4k-.jpg\"\n",
    "    await download_file(URL, \"../downloadImages/instagram.ico\")\n",
    "    return \"Hello, Async World!\"\n",
    "\n",
    "async def function2():\n",
    "    print(\"func 2\")\n",
    "    URL = \"https://p4.wallpaperbetter.com/wallpaper/490/433/199/nature-2560x1440-tree-snow-wallpaper-preview.jpg\"\n",
    "    await download_file(URL, \"../downloadImages/instagram2.jpg\")\n",
    "    return \"Hello, Async World!\"\n",
    "\n",
    "async def function3():\n",
    "    print(\"func 3\")\n",
    "    URL = \"https://c4.wallpaperflare.com/wallpaper/622/676/943/3d-hd-wikipedia-3d-wallpaper-preview.jpg\"\n",
    "    await download_file(URL, \"../downloadImages/instagram3.ico\")\n",
    "    return \"Hello, Async World!\""
   ]
  },
  {
   "cell_type": "code",
   "execution_count": null,
   "metadata": {},
   "outputs": [],
   "source": [
    "# Method 1\n",
    "async def main():\n",
    "    # Method 1 -> super fast\n",
    "    results = await asyncio.gather(\n",
    "        function1(),\n",
    "        function2(),\n",
    "        function3(),\n",
    "    )\n",
    "    print(results)\n",
    "\n",
    "# Directly await the main function\n",
    "await main()"
   ]
  },
  {
   "cell_type": "code",
   "execution_count": null,
   "metadata": {},
   "outputs": [
    {
     "name": "stdout",
     "output_type": "stream",
     "text": [
      "func 1\n",
      "Downloaded ../downloadImages/instagram.ico\n",
      "func 2\n",
      "Downloaded ../downloadImages/instagram2.jpg\n",
      "func 3\n",
      "Downloaded ../downloadImages/instagram3.ico\n"
     ]
    }
   ],
   "source": [
    "# Method 2 -> very slow\n",
    "async def main():\n",
    "    await function1()\n",
    "    await function2()\n",
    "    await function3()\n",
    "await main()"
   ]
  },
  {
   "cell_type": "code",
   "execution_count": 17,
   "metadata": {},
   "outputs": [
    {
     "name": "stdout",
     "output_type": "stream",
     "text": [
      "func 2\n",
      "func 1\n",
      "Downloaded ../downloadImages/instagram2.jpg\n",
      "func 3\n",
      "Downloaded ../downloadImages/instagram3.ico\n",
      "Downloaded ../downloadImages/instagram.ico\n",
      "Hello, Async World!\n"
     ]
    }
   ],
   "source": [
    "# Method 3 -> slow\n",
    "async def main():\n",
    "    task1 = asyncio.create_task(function1())\n",
    "    \n",
    "    # Execute the second and third tasks sequentially\n",
    "    await function2()\n",
    "    await function3()\n",
    "\n",
    "    # Await the first task at the end\n",
    "    result1 = await task1\n",
    "    print(result1)\n",
    "await main()"
   ]
  },
  {
   "cell_type": "code",
   "execution_count": null,
   "metadata": {},
   "outputs": [],
   "source": []
  }
 ],
 "metadata": {
  "kernelspec": {
   "display_name": "venv",
   "language": "python",
   "name": "python3"
  },
  "language_info": {
   "codemirror_mode": {
    "name": "ipython",
    "version": 3
   },
   "file_extension": ".py",
   "mimetype": "text/x-python",
   "name": "python",
   "nbconvert_exporter": "python",
   "pygments_lexer": "ipython3",
   "version": "3.13.2"
  }
 },
 "nbformat": 4,
 "nbformat_minor": 2
}
