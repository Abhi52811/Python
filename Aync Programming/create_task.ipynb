{
 "cells": [
  {
   "cell_type": "code",
   "execution_count": 11,
   "id": "7cc498ec",
   "metadata": {},
   "outputs": [
    {
     "name": "stdout",
     "output_type": "stream",
     "text": [
      "Before calling non-blocking task\n",
      "<class '_asyncio.Task'>\n",
      "Doing something else while waiting...\n",
      "Starting non-blocking task...\n",
      "Non-blocking task finished!\n",
      "After non-blocking task\n"
     ]
    }
   ],
   "source": [
    "import asyncio\n",
    "\n",
    "async def non_blocking_task():\n",
    "    print(\"Starting non-blocking task...\")\n",
    "    await asyncio.sleep(3)  # Non-blocking sleep\n",
    "    print(\"Non-blocking task finished!\")\n",
    "\n",
    "async def main():\n",
    "    print(\"Before calling non-blocking task\")\n",
    "    task = asyncio.create_task(non_blocking_task())  # Start task\n",
    "    print(type(task))\n",
    "    print(\"Doing something else while waiting...\")\n",
    "    await task\n",
    "    print(\"After non-blocking task\")\n",
    "\n",
    "# If running in a notebook, use await directly\n",
    "await main()"
   ]
  },
  {
   "cell_type": "code",
   "execution_count": 9,
   "id": "2353e8ef",
   "metadata": {},
   "outputs": [
    {
     "name": "stdout",
     "output_type": "stream",
     "text": [
      "Chef is doing other work while waiting...\n",
      "Starting Pasta...\n",
      "Starting Pizza...\n",
      "Pasta is ready!\n",
      "Pizza is ready!\n",
      "Results:\n",
      "Pasta done\n",
      "Pizza done\n"
     ]
    }
   ],
   "source": [
    "import asyncio\n",
    "\n",
    "async def cook_dish(name):\n",
    "    print(f\"Starting {name}...\")\n",
    "    await asyncio.sleep(2)  # Simulating the cooking time\n",
    "    print(f\"{name} is ready!\")\n",
    "    return f\"{name} done\"\n",
    "\n",
    "async def main():\n",
    "    # Step 1: Start tasks concurrently\n",
    "    task1 = asyncio.create_task(cook_dish(\"Pasta\"))\n",
    "    task2 = asyncio.create_task(cook_dish(\"Pizza\"))\n",
    "\n",
    "    print(\"Chef is doing other work while waiting...\")\n",
    "\n",
    "    # Step 2: Wait for both tasks to complete\n",
    "    result1 = await task1\n",
    "    result2 = await task2\n",
    "\n",
    "    print(\"Results:\")\n",
    "    print(result1)\n",
    "    print(result2)\n",
    "\n",
    "await main()"
   ]
  },
  {
   "cell_type": "code",
   "execution_count": null,
   "id": "d0b7a9ef",
   "metadata": {},
   "outputs": [],
   "source": []
  }
 ],
 "metadata": {
  "kernelspec": {
   "display_name": ".venv",
   "language": "python",
   "name": "python3"
  },
  "language_info": {
   "codemirror_mode": {
    "name": "ipython",
    "version": 3
   },
   "file_extension": ".py",
   "mimetype": "text/x-python",
   "name": "python",
   "nbconvert_exporter": "python",
   "pygments_lexer": "ipython3",
   "version": "3.13.2"
  }
 },
 "nbformat": 4,
 "nbformat_minor": 5
}
