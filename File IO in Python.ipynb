{
 "cells": [
  {
   "cell_type": "code",
   "execution_count": 1,
   "metadata": {},
   "outputs": [
    {
     "name": "stdout",
     "output_type": "stream",
     "text": [
      "<_io.TextIOWrapper name='./sampleFiles/myfile.txt' mode='r' encoding='cp1252'>\n",
      "Hello world\n",
      "How're you\n"
     ]
    }
   ],
   "source": [
    "# READING A FILE\n",
    "\n",
    "f = open('./sampleFiles/myfile.txt', 'r')\n",
    "print(f)\n",
    "text = f.read()\n",
    "print(text)\n",
    "f.close()\n"
   ]
  },
  {
   "cell_type": "code",
   "execution_count": 2,
   "metadata": {},
   "outputs": [],
   "source": [
    "f = open('./sampleFiles/myfile.txt', 'a')\n",
    "f.write('\\nAbhishek here')\n",
    "f.close()\n",
    "\n",
    "# when using with we don't need to close the file specifically\n",
    "# it will automatically close it\n",
    "with open('./sampleFiles/myfile.txt', 'a') as f:\n",
    "  f.write(\"\\nHey I am inside with\")"
   ]
  },
  {
   "cell_type": "code",
   "execution_count": null,
   "metadata": {},
   "outputs": [],
   "source": []
  }
 ],
 "metadata": {
  "kernelspec": {
   "display_name": ".venv",
   "language": "python",
   "name": "python3"
  },
  "language_info": {
   "codemirror_mode": {
    "name": "ipython",
    "version": 3
   },
   "file_extension": ".py",
   "mimetype": "text/x-python",
   "name": "python",
   "nbconvert_exporter": "python",
   "pygments_lexer": "ipython3",
   "version": "3.13.2"
  }
 },
 "nbformat": 4,
 "nbformat_minor": 2
}
