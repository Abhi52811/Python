{
 "cells": [
  {
   "cell_type": "code",
   "execution_count": 1,
   "id": "48d6eba4",
   "metadata": {},
   "outputs": [
    {
     "name": "stdout",
     "output_type": "stream",
     "text": [
      "100_000_000\n",
      "100,000,000\n"
     ]
    }
   ],
   "source": [
    "n: int = 100000000\n",
    "print(f'{n:_}')\n",
    "print(f'{n:,}')"
   ]
  },
  {
   "cell_type": "code",
   "execution_count": 10,
   "id": "8a235933",
   "metadata": {},
   "outputs": [
    {
     "name": "stdout",
     "output_type": "stream",
     "text": [
      "                 var\n",
      "var                 \n",
      "        var         \n",
      "var#################\n",
      "var_________________\n",
      "||||||||var|||||||||\n"
     ]
    }
   ],
   "source": [
    "var: str= 'var'\n",
    "print(f'{var:>20}')\n",
    "print(f'{var:<20}')\n",
    "print(f'{var:^20}')\n",
    "print(f'{var:#<20}')\n",
    "print(f'{var:_<20}')\n",
    "print(f'{var:|^20}')"
   ]
  },
  {
   "cell_type": "code",
   "execution_count": 12,
   "id": "dd15839b",
   "metadata": {},
   "outputs": [
    {
     "name": "stdout",
     "output_type": "stream",
     "text": [
      "a=1, b=2\n",
      "a=1, b=2\n"
     ]
    }
   ],
   "source": [
    "def func(a, /, b):\n",
    "    print(f\"a={a}, b={b}\")\n",
    "\n",
    "func(1, 2)       # Works: a=1, b=2 (both positional)\n",
    "func(1, b=2)     # Works: a=1 (positional), b=2 (keyword)\n",
    "# func(a=1, b=2)   # Error! 'a' must be positional, cannot use keyword here"
   ]
  },
  {
   "cell_type": "code",
   "execution_count": 13,
   "id": "91420c38",
   "metadata": {},
   "outputs": [
    {
     "name": "stdout",
     "output_type": "stream",
     "text": [
      "a=1, b=2\n",
      "a=1, b=2\n"
     ]
    }
   ],
   "source": [
    "def func(a, *, b):\n",
    "    print(f\"a={a}, b={b}\")\n",
    "\n",
    "func(1, b=2)     # Works: a=1 (positional), b=2 (keyword)\n",
    "func(a=1, b=2)   # Works: both keywords\n",
    "# func(1, 2)       # Error! 'b' must be keyword, cannot be positional here\n"
   ]
  },
  {
   "cell_type": "code",
   "execution_count": null,
   "id": "1ea54b1a",
   "metadata": {},
   "outputs": [
    {
     "name": "stdout",
     "output_type": "stream",
     "text": [
      "Length is 5\n"
     ]
    }
   ],
   "source": [
    "# Walrus operator\n",
    "if (n := len(\"hello\")) > 3:\n",
    "    print(f\"Length is {n}\")"
   ]
  },
  {
   "cell_type": "code",
   "execution_count": null,
   "id": "488eed08",
   "metadata": {},
   "outputs": [
    {
     "name": "stdout",
     "output_type": "stream",
     "text": [
      "x is between 1 and 10\n"
     ]
    }
   ],
   "source": [
    "# Chained comparisons\n",
    "x = 5\n",
    "if 1 < x < 10:\n",
    "    print(\"x is between 1 and 10\")"
   ]
  },
  {
   "cell_type": "code",
   "execution_count": 5,
   "id": "e87c73c0",
   "metadata": {},
   "outputs": [
    {
     "name": "stdout",
     "output_type": "stream",
     "text": [
      "1 [2, 3, 4] 5\n"
     ]
    }
   ],
   "source": [
    "# Unpacking with * in assignments\n",
    "a, *middle, b = [1, 2, 3, 4, 5]\n",
    "print(a, middle, b)  # 1 [2, 3, 4] 5\n"
   ]
  },
  {
   "cell_type": "code",
   "execution_count": 6,
   "id": "b6df3b63",
   "metadata": {},
   "outputs": [
    {
     "name": "stdout",
     "output_type": "stream",
     "text": [
      "HELLO\n"
     ]
    }
   ],
   "source": [
    "# Functions as first-class objects\n",
    "def shout(text):\n",
    "    return text.upper()\n",
    "\n",
    "yell = shout\n",
    "print(yell(\"hello\"))  # HELLO\n"
   ]
  },
  {
   "cell_type": "code",
   "execution_count": 7,
   "id": "23a2192f",
   "metadata": {},
   "outputs": [
    {
     "name": "stdout",
     "output_type": "stream",
     "text": [
      "Loop completed without break\n"
     ]
    }
   ],
   "source": [
    "# else after for or while loops\n",
    "# The else block runs only if the loop did NOT encounter a break:\n",
    "for i in range(5):\n",
    "    if i == 10:\n",
    "        break\n",
    "else:\n",
    "    print(\"Loop completed without break\")\n"
   ]
  },
  {
   "cell_type": "code",
   "execution_count": 8,
   "id": "dafe861e",
   "metadata": {},
   "outputs": [
    {
     "name": "stdout",
     "output_type": "stream",
     "text": [
      "Before call\n",
      "Hello!\n",
      "After call\n"
     ]
    }
   ],
   "source": [
    "# Decorators\n",
    "# Functions that modify behavior of other functions, used with @ syntax:\n",
    "def decorator(func):\n",
    "    def wrapper():\n",
    "        print(\"Before call\")\n",
    "        func()\n",
    "        print(\"After call\")\n",
    "    return wrapper\n",
    "\n",
    "@decorator\n",
    "def say_hello():\n",
    "    print(\"Hello!\")\n",
    "\n",
    "say_hello()\n"
   ]
  },
  {
   "cell_type": "code",
   "execution_count": 1,
   "id": "c1dffcea",
   "metadata": {},
   "outputs": [
    {
     "name": "stdout",
     "output_type": "stream",
     "text": [
      "default\n",
      "10\n"
     ]
    }
   ],
   "source": [
    "x = None\n",
    "x = x or \"default\"  # x will be \"default\" since None is falsy\n",
    "print(x)  # Output: default\n",
    "\n",
    "y = 5\n",
    "y = y and 10  # y will be 10 since 5 is truthy\n",
    "print(y)  # Output: 10"
   ]
  },
  {
   "cell_type": "code",
   "execution_count": 2,
   "id": "a597e37b",
   "metadata": {},
   "outputs": [
    {
     "name": "stdout",
     "output_type": "stream",
     "text": [
      "Hello, Abhishek!\n"
     ]
    }
   ],
   "source": [
    "class Greet:\n",
    "    def __call__(self, name):\n",
    "        return f\"Hello, {name}!\"\n",
    "\n",
    "greet = Greet()\n",
    "print(greet(\"Abhishek\"))  # Output: Hello, Abhishek!\n"
   ]
  },
  {
   "cell_type": "code",
   "execution_count": 4,
   "id": "31914e1a",
   "metadata": {},
   "outputs": [
    {
     "name": "stdout",
     "output_type": "stream",
     "text": [
      "{'name': <class 'str'>, 'age': <class 'int'>, 'return': <class 'str'>}\n"
     ]
    }
   ],
   "source": [
    "def func(name: str, age: int) -> str:\n",
    "    return f\"Name: {name}, Age: {age}\"\n",
    "\n",
    "print(func.__annotations__)  # Output: {'name': <class 'str'>, 'age': <class 'int'>, 'return': <class 'str'>}"
   ]
  }
 ],
 "metadata": {
  "kernelspec": {
   "display_name": ".venv",
   "language": "python",
   "name": "python3"
  },
  "language_info": {
   "codemirror_mode": {
    "name": "ipython",
    "version": 3
   },
   "file_extension": ".py",
   "mimetype": "text/x-python",
   "name": "python",
   "nbconvert_exporter": "python",
   "pygments_lexer": "ipython3",
   "version": "3.13.2"
  }
 },
 "nbformat": 4,
 "nbformat_minor": 5
}
