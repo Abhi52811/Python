{
 "cells": [
  {
   "cell_type": "code",
   "execution_count": 1,
   "id": "dd15839b",
   "metadata": {},
   "outputs": [
    {
     "name": "stdout",
     "output_type": "stream",
     "text": [
      "a=1, b=2\n",
      "a=1, b=2\n"
     ]
    },
    {
     "ename": "TypeError",
     "evalue": "func() got some positional-only arguments passed as keyword arguments: 'a'",
     "output_type": "error",
     "traceback": [
      "\u001b[31m---------------------------------------------------------------------------\u001b[39m",
      "\u001b[31mTypeError\u001b[39m                                 Traceback (most recent call last)",
      "\u001b[36mCell\u001b[39m\u001b[36m \u001b[39m\u001b[32mIn[1]\u001b[39m\u001b[32m, line 6\u001b[39m\n\u001b[32m      4\u001b[39m func(\u001b[32m1\u001b[39m, \u001b[32m2\u001b[39m)       \u001b[38;5;66;03m# Works: a=1, b=2 (both positional)\u001b[39;00m\n\u001b[32m      5\u001b[39m func(\u001b[32m1\u001b[39m, b=\u001b[32m2\u001b[39m)     \u001b[38;5;66;03m# Works: a=1 (positional), b=2 (keyword)\u001b[39;00m\n\u001b[32m----> \u001b[39m\u001b[32m6\u001b[39m \u001b[43mfunc\u001b[49m\u001b[43m(\u001b[49m\u001b[43ma\u001b[49m\u001b[43m=\u001b[49m\u001b[32;43m1\u001b[39;49m\u001b[43m,\u001b[49m\u001b[43m \u001b[49m\u001b[43mb\u001b[49m\u001b[43m=\u001b[49m\u001b[32;43m2\u001b[39;49m\u001b[43m)\u001b[49m   \u001b[38;5;66;03m# Error! 'a' must be positional, cannot use keyword here\u001b[39;00m\n",
      "\u001b[31mTypeError\u001b[39m: func() got some positional-only arguments passed as keyword arguments: 'a'"
     ]
    }
   ],
   "source": [
    "def func(a, /, b):\n",
    "    print(f\"a={a}, b={b}\")\n",
    "\n",
    "func(1, 2)       # Works: a=1, b=2 (both positional)\n",
    "func(1, b=2)     # Works: a=1 (positional), b=2 (keyword)\n",
    "func(a=1, b=2)   # Error! 'a' must be positional, cannot use keyword here"
   ]
  },
  {
   "cell_type": "code",
   "execution_count": 2,
   "id": "91420c38",
   "metadata": {},
   "outputs": [
    {
     "name": "stdout",
     "output_type": "stream",
     "text": [
      "a=1, b=2\n",
      "a=1, b=2\n"
     ]
    },
    {
     "ename": "TypeError",
     "evalue": "func() takes 1 positional argument but 2 were given",
     "output_type": "error",
     "traceback": [
      "\u001b[31m---------------------------------------------------------------------------\u001b[39m",
      "\u001b[31mTypeError\u001b[39m                                 Traceback (most recent call last)",
      "\u001b[36mCell\u001b[39m\u001b[36m \u001b[39m\u001b[32mIn[2]\u001b[39m\u001b[32m, line 6\u001b[39m\n\u001b[32m      4\u001b[39m func(\u001b[32m1\u001b[39m, b=\u001b[32m2\u001b[39m)     \u001b[38;5;66;03m# Works: a=1 (positional), b=2 (keyword)\u001b[39;00m\n\u001b[32m      5\u001b[39m func(a=\u001b[32m1\u001b[39m, b=\u001b[32m2\u001b[39m)   \u001b[38;5;66;03m# Works: both keywords\u001b[39;00m\n\u001b[32m----> \u001b[39m\u001b[32m6\u001b[39m \u001b[43mfunc\u001b[49m\u001b[43m(\u001b[49m\u001b[32;43m1\u001b[39;49m\u001b[43m,\u001b[49m\u001b[43m \u001b[49m\u001b[32;43m2\u001b[39;49m\u001b[43m)\u001b[49m       \u001b[38;5;66;03m# Error! 'b' must be keyword, cannot be positional here\u001b[39;00m\n",
      "\u001b[31mTypeError\u001b[39m: func() takes 1 positional argument but 2 were given"
     ]
    }
   ],
   "source": [
    "def func(a, *, b):\n",
    "    print(f\"a={a}, b={b}\")\n",
    "\n",
    "func(1, b=2)     # Works: a=1 (positional), b=2 (keyword)\n",
    "func(a=1, b=2)   # Works: both keywords\n",
    "func(1, 2)       # Error! 'b' must be keyword, cannot be positional here\n"
   ]
  },
  {
   "cell_type": "code",
   "execution_count": null,
   "id": "1ea54b1a",
   "metadata": {},
   "outputs": [
    {
     "name": "stdout",
     "output_type": "stream",
     "text": [
      "Length is 5\n"
     ]
    }
   ],
   "source": [
    "# Walrus operator\n",
    "if (n := len(\"hello\")) > 3:\n",
    "    print(f\"Length is {n}\")"
   ]
  },
  {
   "cell_type": "code",
   "execution_count": null,
   "id": "488eed08",
   "metadata": {},
   "outputs": [
    {
     "name": "stdout",
     "output_type": "stream",
     "text": [
      "x is between 1 and 10\n"
     ]
    }
   ],
   "source": [
    "# Chained comparisons\n",
    "x = 5\n",
    "if 1 < x < 10:\n",
    "    print(\"x is between 1 and 10\")"
   ]
  },
  {
   "cell_type": "code",
   "execution_count": 5,
   "id": "e87c73c0",
   "metadata": {},
   "outputs": [
    {
     "name": "stdout",
     "output_type": "stream",
     "text": [
      "1 [2, 3, 4] 5\n"
     ]
    }
   ],
   "source": [
    "# Unpacking with * in assignments\n",
    "a, *middle, b = [1, 2, 3, 4, 5]\n",
    "print(a, middle, b)  # 1 [2, 3, 4] 5\n"
   ]
  },
  {
   "cell_type": "code",
   "execution_count": 6,
   "id": "b6df3b63",
   "metadata": {},
   "outputs": [
    {
     "name": "stdout",
     "output_type": "stream",
     "text": [
      "HELLO\n"
     ]
    }
   ],
   "source": [
    "# Functions as first-class objects\n",
    "def shout(text):\n",
    "    return text.upper()\n",
    "\n",
    "yell = shout\n",
    "print(yell(\"hello\"))  # HELLO\n"
   ]
  },
  {
   "cell_type": "code",
   "execution_count": 7,
   "id": "23a2192f",
   "metadata": {},
   "outputs": [
    {
     "name": "stdout",
     "output_type": "stream",
     "text": [
      "Loop completed without break\n"
     ]
    }
   ],
   "source": [
    "# else after for or while loops\n",
    "# The else block runs only if the loop did NOT encounter a break:\n",
    "for i in range(5):\n",
    "    if i == 10:\n",
    "        break\n",
    "else:\n",
    "    print(\"Loop completed without break\")\n"
   ]
  },
  {
   "cell_type": "code",
   "execution_count": 8,
   "id": "dafe861e",
   "metadata": {},
   "outputs": [
    {
     "name": "stdout",
     "output_type": "stream",
     "text": [
      "Before call\n",
      "Hello!\n",
      "After call\n"
     ]
    }
   ],
   "source": [
    "# Decorators\n",
    "# Functions that modify behavior of other functions, used with @ syntax:\n",
    "def decorator(func):\n",
    "    def wrapper():\n",
    "        print(\"Before call\")\n",
    "        func()\n",
    "        print(\"After call\")\n",
    "    return wrapper\n",
    "\n",
    "@decorator\n",
    "def say_hello():\n",
    "    print(\"Hello!\")\n",
    "\n",
    "say_hello()\n"
   ]
  },
  {
   "cell_type": "code",
   "execution_count": null,
   "id": "c1dffcea",
   "metadata": {},
   "outputs": [],
   "source": []
  }
 ],
 "metadata": {
  "kernelspec": {
   "display_name": ".venv",
   "language": "python",
   "name": "python3"
  },
  "language_info": {
   "codemirror_mode": {
    "name": "ipython",
    "version": 3
   },
   "file_extension": ".py",
   "mimetype": "text/x-python",
   "name": "python",
   "nbconvert_exporter": "python",
   "pygments_lexer": "ipython3",
   "version": "3.13.2"
  }
 },
 "nbformat": 4,
 "nbformat_minor": 5
}
