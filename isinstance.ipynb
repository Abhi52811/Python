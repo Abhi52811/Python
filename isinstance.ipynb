{
 "cells": [
  {
   "cell_type": "code",
   "execution_count": 1,
   "id": "9708a97c",
   "metadata": {},
   "outputs": [
    {
     "name": "stdout",
     "output_type": "stream",
     "text": [
      "True\n"
     ]
    }
   ],
   "source": [
    "x = 10\n",
    "print(isinstance(x, int))  # Output: True\n"
   ]
  },
  {
   "cell_type": "code",
   "execution_count": 2,
   "id": "617855e2",
   "metadata": {},
   "outputs": [
    {
     "name": "stdout",
     "output_type": "stream",
     "text": [
      "True\n"
     ]
    }
   ],
   "source": [
    "x = 10\n",
    "print(isinstance(x, int))  # Output: True\n"
   ]
  },
  {
   "cell_type": "code",
   "execution_count": 3,
   "id": "a444b6a1",
   "metadata": {},
   "outputs": [
    {
     "name": "stdout",
     "output_type": "stream",
     "text": [
      "True\n",
      "True\n"
     ]
    }
   ],
   "source": [
    "class Animal:\n",
    "    pass\n",
    "\n",
    "class Dog(Animal):\n",
    "    pass\n",
    "\n",
    "dog = Dog()\n",
    "print(isinstance(dog, Dog))     # Output: True\n",
    "print(isinstance(dog, Animal))  # Output: True\n"
   ]
  },
  {
   "cell_type": "code",
   "execution_count": null,
   "id": "1586b530",
   "metadata": {},
   "outputs": [
    {
     "name": "stdout",
     "output_type": "stream",
     "text": [
      "True\n",
      "False\n",
      "True\n"
     ]
    }
   ],
   "source": [
    "# type() does not recognize that Dog is a subclass of Animal.\n",
    "# isinstance() correctly identifies the inheritance relationship.\n",
    "\n",
    "print(type(dog) == Dog)       # True\n",
    "print(type(dog) == Animal)    # False\n",
    "print(isinstance(dog, Animal))  # True\n"
   ]
  },
  {
   "cell_type": "code",
   "execution_count": 5,
   "id": "6f80992e",
   "metadata": {},
   "outputs": [
    {
     "name": "stdout",
     "output_type": "stream",
     "text": [
      "20\n",
      "HELLO\n",
      "Unsupported type\n"
     ]
    }
   ],
   "source": [
    "def process(value):\n",
    "    if isinstance(value, int):\n",
    "        return value * 2\n",
    "    elif isinstance(value, str):\n",
    "        return value.upper()\n",
    "    else:\n",
    "        return \"Unsupported type\"\n",
    "\n",
    "print(process(10))       # Output: 20\n",
    "print(process(\"hello\"))  # Output: HELLO\n",
    "print(process([1, 2]))   # Output: Unsupported type"
   ]
  },
  {
   "cell_type": "code",
   "execution_count": 6,
   "id": "913a9999",
   "metadata": {},
   "outputs": [
    {
     "name": "stdout",
     "output_type": "stream",
     "text": [
      "True\n"
     ]
    }
   ],
   "source": [
    "result = None\n",
    "print(isinstance(result, type(None)))  # Output: True"
   ]
  },
  {
   "cell_type": "code",
   "execution_count": null,
   "id": "36a573e2",
   "metadata": {},
   "outputs": [],
   "source": []
  }
 ],
 "metadata": {
  "kernelspec": {
   "display_name": ".venv",
   "language": "python",
   "name": "python3"
  },
  "language_info": {
   "codemirror_mode": {
    "name": "ipython",
    "version": 3
   },
   "file_extension": ".py",
   "mimetype": "text/x-python",
   "name": "python",
   "nbconvert_exporter": "python",
   "pygments_lexer": "ipython3",
   "version": "3.13.2"
  }
 },
 "nbformat": 4,
 "nbformat_minor": 5
}
