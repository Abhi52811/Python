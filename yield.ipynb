{
 "cells": [
  {
   "cell_type": "code",
   "execution_count": 2,
   "id": "e4f7f456",
   "metadata": {},
   "outputs": [
    {
     "name": "stdout",
     "output_type": "stream",
     "text": [
      "Yielding: 0\n",
      "0\n",
      "Yielding: 1\n",
      "1\n",
      "Yielding: 2\n",
      "2\n",
      "Yielding: 3\n",
      "3\n"
     ]
    }
   ],
   "source": [
    "def counter():\n",
    "    n = 0\n",
    "    while True:\n",
    "        print(f\"Yielding: {n}\")\n",
    "        yield n\n",
    "        n += 1\n",
    "\n",
    "gen = counter()\n",
    "print(next(gen))\n",
    "print(next(gen))\n",
    "print(next(gen))\n",
    "print(next(gen))"
   ]
  },
  {
   "cell_type": "code",
   "execution_count": 1,
   "id": "4df8fdb7",
   "metadata": {},
   "outputs": [
    {
     "name": "stdout",
     "output_type": "stream",
     "text": [
      "Yielding: 0\n",
      "0\n",
      "1\n",
      "Yielding: 1\n",
      "1\n",
      "2\n"
     ]
    }
   ],
   "source": [
    "def counter():\n",
    "    n = 0\n",
    "    while True:\n",
    "        print(f\"Yielding: {n}\")\n",
    "        yield n\n",
    "        n += 1\n",
    "        yield n\n",
    "\n",
    "gen = counter()\n",
    "print(next(gen))\n",
    "print(next(gen))\n",
    "print(next(gen))\n",
    "print(next(gen))"
   ]
  },
  {
   "cell_type": "code",
   "execution_count": null,
   "id": "a5d1f000",
   "metadata": {},
   "outputs": [],
   "source": []
  }
 ],
 "metadata": {
  "kernelspec": {
   "display_name": ".venv",
   "language": "python",
   "name": "python3"
  },
  "language_info": {
   "codemirror_mode": {
    "name": "ipython",
    "version": 3
   },
   "file_extension": ".py",
   "mimetype": "text/x-python",
   "name": "python",
   "nbconvert_exporter": "python",
   "pygments_lexer": "ipython3",
   "version": "3.13.2"
  }
 },
 "nbformat": 4,
 "nbformat_minor": 5
}
