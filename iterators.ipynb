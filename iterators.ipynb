{
 "cells": [
  {
   "cell_type": "code",
   "execution_count": null,
   "id": "609bd5d1",
   "metadata": {},
   "outputs": [
    {
     "name": "stdout",
     "output_type": "stream",
     "text": [
      "Invoked __iter__\n",
      "Invoked __next__\n",
      "1\n",
      "Invoked __next__\n",
      "2\n",
      "Invoked __next__\n",
      "3\n",
      "Invoked __next__\n",
      "4\n",
      "Invoked __next__\n",
      "5\n"
     ]
    }
   ],
   "source": [
    "class Counter:\n",
    "    def __init__(self, start, end):\n",
    "        self.current = start\n",
    "        self.end = end\n",
    "\n",
    "    def __iter__(self):\n",
    "        print(\"Invoked __iter__\")\n",
    "        return self  # Returns the same object (self) because the Counter object itself is the iterator.\n",
    "\n",
    "    def __next__(self):\n",
    "        if self.current <= self.end:\n",
    "            print(\"Invoked __next__\")\n",
    "            value = self.current\n",
    "            self.current += 1\n",
    "            return value\n",
    "        else:\n",
    "            raise StopIteration  # End of iteration\n",
    "\n",
    "# Creating the iterator object\n",
    "counter = Counter(1, 5)\n",
    "\n",
    "# Internally, the for loop calls iter(counter), this triggers the __iter__() method.\n",
    "for num in counter:\n",
    "    print(num)"
   ]
  },
  {
   "cell_type": "code",
   "execution_count": 12,
   "id": "88bf6ee8",
   "metadata": {},
   "outputs": [
    {
     "name": "stdout",
     "output_type": "stream",
     "text": [
      "<class 'list_iterator'>\n",
      "10\n",
      "20\n",
      "30\n"
     ]
    }
   ],
   "source": [
    "# Creating an iterable (list)\n",
    "numbers = [10, 20, 30]\n",
    "\n",
    "print(type(iter(numbers)))\n",
    "# Getting an iterator from the iterable\n",
    "it = iter(numbers)\n",
    "\n",
    "print(next(it))  # Output: 10\n",
    "print(next(it))  # Output: 20\n",
    "print(next(it))  # Output: 30\n",
    "# print(next(it))  # Raises StopIteration\n"
   ]
  },
  {
   "cell_type": "code",
   "execution_count": 13,
   "id": "508bdd2b",
   "metadata": {},
   "outputs": [
    {
     "name": "stdout",
     "output_type": "stream",
     "text": [
      "Song A\n",
      "Song B\n",
      "Song C\n"
     ]
    }
   ],
   "source": [
    "songs = [\"Song A\", \"Song B\", \"Song C\"]\n",
    "playlist = iter(songs)\n",
    "\n",
    "print(next(playlist))  # Plays Song A\n",
    "print(next(playlist))  # Plays Song B\n",
    "print(next(playlist))  # Plays Song C\n",
    "# print(next(playlist))  # Error: No more songs (StopIteration)"
   ]
  },
  {
   "cell_type": "code",
   "execution_count": null,
   "id": "3aa9aa74",
   "metadata": {},
   "outputs": [],
   "source": []
  }
 ],
 "metadata": {
  "kernelspec": {
   "display_name": ".venv",
   "language": "python",
   "name": "python3"
  },
  "language_info": {
   "codemirror_mode": {
    "name": "ipython",
    "version": 3
   },
   "file_extension": ".py",
   "mimetype": "text/x-python",
   "name": "python",
   "nbconvert_exporter": "python",
   "pygments_lexer": "ipython3",
   "version": "3.13.2"
  }
 },
 "nbformat": 4,
 "nbformat_minor": 5
}
