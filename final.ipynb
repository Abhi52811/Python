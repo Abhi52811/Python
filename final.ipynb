{
 "cells": [
  {
   "cell_type": "code",
   "execution_count": null,
   "id": "def85b52",
   "metadata": {},
   "outputs": [],
   "source": [
    "# Will work on with mypy and .py files not .ipynb"
   ]
  },
  {
   "cell_type": "code",
   "execution_count": 1,
   "id": "b0257f0f",
   "metadata": {},
   "outputs": [
    {
     "name": "stdout",
     "output_type": "stream",
     "text": [
      "Abhishek 20\n",
      "John\n"
     ]
    }
   ],
   "source": [
    "from typing import Final\n",
    "\n",
    "NAME: Final[str] = \"Abhishek\"\n",
    "AGE: Final[int] = 20\n",
    "\n",
    "print(NAME, AGE)\n",
    "\n",
    "# Trying to change the constant\n",
    "NAME = \"John\"  # No error at runtime, but mypy will complain\n",
    "print(NAME)"
   ]
  },
  {
   "cell_type": "code",
   "execution_count": null,
   "id": "8f778f96",
   "metadata": {},
   "outputs": [
    {
     "name": "stdout",
     "output_type": "stream",
     "text": [
      "4\n"
     ]
    }
   ],
   "source": [
    "from typing import Final\n",
    "\n",
    "class Car:\n",
    "    WHEELS: Final[int] = 4\n",
    "\n",
    "my_car = Car()\n",
    "print(my_car.WHEELS)  # Output: 4\n",
    "\n",
    "# Attempting to change\n",
    "my_car.WHEELS = 6  # No error at runtime, but flagged by mypy\n"
   ]
  },
  {
   "cell_type": "code",
   "execution_count": null,
   "id": "bcfbcb0d",
   "metadata": {},
   "outputs": [],
   "source": []
  }
 ],
 "metadata": {
  "kernelspec": {
   "display_name": ".venv",
   "language": "python",
   "name": "python3"
  },
  "language_info": {
   "codemirror_mode": {
    "name": "ipython",
    "version": 3
   },
   "file_extension": ".py",
   "mimetype": "text/x-python",
   "name": "python",
   "nbconvert_exporter": "python",
   "pygments_lexer": "ipython3",
   "version": "3.13.2"
  }
 },
 "nbformat": 4,
 "nbformat_minor": 5
}
