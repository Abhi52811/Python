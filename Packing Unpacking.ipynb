{
 "cells": [
  {
   "cell_type": "code",
   "execution_count": 1,
   "id": "bc557bee",
   "metadata": {},
   "outputs": [
    {
     "name": "stdout",
     "output_type": "stream",
     "text": [
      "a: 1, b: 2,c: 3\n"
     ]
    }
   ],
   "source": [
    "a, b, c = [1, 2, 3]\n",
    "print(f\"a: {a}, b: {b},c: {c}\")\n"
   ]
  },
  {
   "cell_type": "code",
   "execution_count": 16,
   "id": "e377df8a",
   "metadata": {},
   "outputs": [
    {
     "name": "stdout",
     "output_type": "stream",
     "text": [
      "Packed as tuple: (1, 2, 3, 4)\n",
      "1\n",
      "2\n",
      "3\n",
      "4\n"
     ]
    }
   ],
   "source": [
    "# Unpacking in function args\n",
    "\n",
    "def pack_example(*args):\n",
    "    print(f\"Packed as tuple: {args}\")\n",
    "    for arg in args:\n",
    "        print(arg)\n",
    "\n",
    "pack_example(1, 2, 3, 4)"
   ]
  },
  {
   "cell_type": "code",
   "execution_count": 15,
   "id": "be15ddd2",
   "metadata": {},
   "outputs": [
    {
     "name": "stdout",
     "output_type": "stream",
     "text": [
      "Alice Bob Charlie "
     ]
    }
   ],
   "source": [
    "def print_names(*names):\n",
    "    for name in names:\n",
    "        print(name, end=\" \")\n",
    "\n",
    "print_names(\"Alice\",\"Bob\", \"Charlie\")"
   ]
  },
  {
   "cell_type": "code",
   "execution_count": null,
   "id": "13dcbdc9",
   "metadata": {},
   "outputs": [
    {
     "name": "stdout",
     "output_type": "stream",
     "text": [
      "a: 1, b: 2,c: [3, 4, 5]\n",
      "a: 1, b: [2, 3, 4],c: 5\n"
     ]
    }
   ],
   "source": [
    "# Asterisk operator allows us to collect multiple elements as a list/split up a list\n",
    "\n",
    "a, b, *c = [1, 2, 3, 4, 5]\n",
    "\n",
    "print(f\"a: {a}, b: {b},c: {c}\")\n",
    "\n",
    "a, *b, c = [1, 2, 3, 4, 5]\n",
    "print(f\"a: {a}, b: {b},c: {c}\")\n"
   ]
  },
  {
   "cell_type": "code",
   "execution_count": 5,
   "id": "8bb1a875",
   "metadata": {},
   "outputs": [
    {
     "name": "stdout",
     "output_type": "stream",
     "text": [
      "a: 1, b: 3\n",
      "a: 3\n"
     ]
    }
   ],
   "source": [
    "# Underscore when you need to put a variable somewhere but you dont actually want to access it later on\n",
    "a, _,b = [1, 2, 3]\n",
    "print(f\"a: {a}, b: {b}\")\n",
    "\n",
    "_, _,a = [1, 2, 3]\n",
    "print(f\"a: {a}\")"
   ]
  },
  {
   "cell_type": "code",
   "execution_count": null,
   "id": "b4ea689f",
   "metadata": {},
   "outputs": [
    {
     "name": "stdout",
     "output_type": "stream",
     "text": [
      "Name: Alice, Age: 20\n"
     ]
    }
   ],
   "source": [
    "# Dictionary Unpacking\n",
    "student = {'name': 'Alice', 'age': 20}\n",
    "print(\"Name: {name}, Age: {age}\".format(**student))"
   ]
  },
  {
   "cell_type": "code",
   "execution_count": 7,
   "id": "0f132e92",
   "metadata": {},
   "outputs": [
    {
     "name": "stdout",
     "output_type": "stream",
     "text": [
      "a: 1, b: 2, c: 3, d: 4\n"
     ]
    }
   ],
   "source": [
    "# Unpacking with Nested Structures\n",
    "nested = [1, [2, 3], 4]\n",
    "a, (b, c), d = nested\n",
    "print(f\"a: {a}, b: {b}, c: {c}, d: {d}\")"
   ]
  },
  {
   "cell_type": "code",
   "execution_count": 12,
   "id": "ca9b435e",
   "metadata": {},
   "outputs": [
    {
     "name": "stdout",
     "output_type": "stream",
     "text": [
      "Name: Alice, age:25, profession:Engineer\n"
     ]
    }
   ],
   "source": [
    "data = (\"Alice\", (25,\"Engineer\"))\n",
    "name, (age,profession) = data\n",
    "print(f\"Name: {name}, age:{age}, profession:{profession}\")"
   ]
  },
  {
   "cell_type": "code",
   "execution_count": 8,
   "id": "d441078b",
   "metadata": {},
   "outputs": [
    {
     "name": "stdout",
     "output_type": "stream",
     "text": [
      "6\n"
     ]
    }
   ],
   "source": [
    "# * for Unpacking in Function Calls\n",
    "def add(x, y, z):\n",
    "    return x + y + z\n",
    "\n",
    "values = [1, 2, 3]\n",
    "print(add(*values))  # Unpacking list into arguments\n"
   ]
  },
  {
   "cell_type": "code",
   "execution_count": 9,
   "id": "c3146aba",
   "metadata": {},
   "outputs": [
    {
     "name": "stdout",
     "output_type": "stream",
     "text": [
      "Name: Bob, Age: 25\n"
     ]
    }
   ],
   "source": [
    "# ** for Unpacking in Function Calls\n",
    "def show_info(name, age):\n",
    "    print(f\"Name: {name}, Age: {age}\")\n",
    "\n",
    "data = {'name': 'Bob', 'age': 25}\n",
    "show_info(**data)\n"
   ]
  },
  {
   "cell_type": "code",
   "execution_count": 23,
   "id": "4b873f4e",
   "metadata": {},
   "outputs": [
    {
     "name": "stdout",
     "output_type": "stream",
     "text": [
      "Combined: [1, 2, 3, 4, 5, 6]\n",
      "[1, 2, 3]\n"
     ]
    }
   ],
   "source": [
    "# Combining lists with unpacking\n",
    "\n",
    "l1 = [1,2,3]\n",
    "l2 = [4,5,6]\n",
    "combined = [*l1,*l2]\n",
    "print(f\"Combined: {combined}\")\n",
    "print(l1)"
   ]
  },
  {
   "cell_type": "code",
   "execution_count": 28,
   "id": "783b86d7",
   "metadata": {},
   "outputs": [
    {
     "name": "stdout",
     "output_type": "stream",
     "text": [
      "Combined 1: {'d', 'a', 'c', 'b'}\n",
      "Combined 2: {'a': 1, 'b': 2, 'c': 4, 'd': 5}\n"
     ]
    }
   ],
   "source": [
    "# Combining dicts with unpacking\n",
    "\n",
    "d1 = {\"a\":1,\"b\":2,\"c\":3}\n",
    "d2 = {\"c\":4,\"d\":5}\n",
    "combined1 = {*d1,*d2}\n",
    "combined2 = {**d1,**d2}\n",
    "print(f\"Combined 1: {combined1}\")\n",
    "print(f\"Combined 2: {combined2}\")"
   ]
  },
  {
   "cell_type": "code",
   "execution_count": null,
   "id": "367daf15",
   "metadata": {},
   "outputs": [],
   "source": []
  }
 ],
 "metadata": {
  "kernelspec": {
   "display_name": ".venv",
   "language": "python",
   "name": "python3"
  },
  "language_info": {
   "codemirror_mode": {
    "name": "ipython",
    "version": 3
   },
   "file_extension": ".py",
   "mimetype": "text/x-python",
   "name": "python",
   "nbconvert_exporter": "python",
   "pygments_lexer": "ipython3",
   "version": "3.13.2"
  }
 },
 "nbformat": 4,
 "nbformat_minor": 5
}
