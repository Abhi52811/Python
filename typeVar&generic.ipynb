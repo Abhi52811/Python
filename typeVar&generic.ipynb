{
 "cells": [
  {
   "cell_type": "code",
   "execution_count": null,
   "id": "7ba17cdf",
   "metadata": {},
   "outputs": [
    {
     "name": "stdout",
     "output_type": "stream",
     "text": [
      "1\n",
      "a\n"
     ]
    }
   ],
   "source": [
    "# The function can take a list of any type (int, str, etc.) and returns the first element of the same type.\n",
    "\n",
    "from typing import TypeVar\n",
    "\n",
    "T = TypeVar('T')\n",
    "\n",
    "def get_first_element(elements: list[T]) -> T:\n",
    "    return elements[0]\n",
    "\n",
    "print(get_first_element([1, 2, 3]))  # 1\n",
    "print(get_first_element([\"a\", \"b\", \"c\"]))  # a"
   ]
  },
  {
   "cell_type": "code",
   "execution_count": 2,
   "id": "3355c55d",
   "metadata": {},
   "outputs": [
    {
     "name": "stdout",
     "output_type": "stream",
     "text": [
      "15\n",
      "8.0\n"
     ]
    }
   ],
   "source": [
    "# The Number type variable can only be int or float.\n",
    "\n",
    "from typing import TypeVar\n",
    "\n",
    "Number = TypeVar('Number', int, float)\n",
    "\n",
    "def add(x: Number, y: Number) -> Number:\n",
    "    return x + y\n",
    "\n",
    "print(add(5, 10))     # 15\n",
    "print(add(5.5, 2.5))  # 8.0"
   ]
  },
  {
   "cell_type": "code",
   "execution_count": 3,
   "id": "2869f288",
   "metadata": {},
   "outputs": [
    {
     "name": "stdout",
     "output_type": "stream",
     "text": [
      "42\n",
      "Hello\n"
     ]
    }
   ],
   "source": [
    "from typing import Generic, TypeVar\n",
    "\n",
    "T = TypeVar('T')\n",
    "\n",
    "class Box(Generic[T]):\n",
    "    def __init__(self, item: T):\n",
    "        self.item = item\n",
    "\n",
    "    def get_item(self) -> T:\n",
    "        return self.item\n",
    "\n",
    "int_box = Box(42)\n",
    "str_box = Box(\"Hello\")\n",
    "\n",
    "print(int_box.get_item())  # 42\n",
    "print(str_box.get_item())  # Hello\n"
   ]
  },
  {
   "cell_type": "code",
   "execution_count": null,
   "id": "ac2114d7",
   "metadata": {},
   "outputs": [],
   "source": []
  }
 ],
 "metadata": {
  "kernelspec": {
   "display_name": ".venv",
   "language": "python",
   "name": "python3"
  },
  "language_info": {
   "codemirror_mode": {
    "name": "ipython",
    "version": 3
   },
   "file_extension": ".py",
   "mimetype": "text/x-python",
   "name": "python",
   "nbconvert_exporter": "python",
   "pygments_lexer": "ipython3",
   "version": "3.13.2"
  }
 },
 "nbformat": 4,
 "nbformat_minor": 5
}
