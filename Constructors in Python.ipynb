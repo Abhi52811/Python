{
 "cells": [
  {
   "cell_type": "code",
   "execution_count": 1,
   "metadata": {},
   "outputs": [],
   "source": [
    "class Person:\n",
    "# dunder method\n",
    "  def __init__(self, name, occ):\n",
    "    print(\"Hey I am a person\")\n",
    "    self.name = name\n",
    "    self.occ = occ\n",
    "\n",
    "  def info(self):\n",
    "    print(f\"{self.name} is a {self.occ}\")"
   ]
  },
  {
   "cell_type": "code",
   "execution_count": 2,
   "metadata": {},
   "outputs": [
    {
     "name": "stdout",
     "output_type": "stream",
     "text": [
      "Hey I am a person\n",
      "Hey I am a person\n",
      "Harry is a Developer\n",
      "Divya is a HR\n"
     ]
    }
   ],
   "source": [
    "\n",
    "a = Person(\"Harry\", \"Developer\")\n",
    "b = Person(\"Divya\", \"HR\") \n",
    "a.info()\n",
    "b.info()"
   ]
  },
  {
   "cell_type": "code",
   "execution_count": null,
   "metadata": {},
   "outputs": [],
   "source": []
  },
  {
   "cell_type": "code",
   "execution_count": null,
   "metadata": {},
   "outputs": [],
   "source": []
  }
 ],
 "metadata": {
  "kernelspec": {
   "display_name": ".venv",
   "language": "python",
   "name": "python3"
  },
  "language_info": {
   "codemirror_mode": {
    "name": "ipython",
    "version": 3
   },
   "file_extension": ".py",
   "mimetype": "text/x-python",
   "name": "python",
   "nbconvert_exporter": "python",
   "pygments_lexer": "ipython3",
   "version": "3.13.2"
  }
 },
 "nbformat": 4,
 "nbformat_minor": 2
}
