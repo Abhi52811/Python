{
 "cells": [
  {
   "cell_type": "code",
   "execution_count": 3,
   "metadata": {},
   "outputs": [
    {
     "data": {
      "text/plain": [
       "'\\nWrite a program to clear the clutter inside a folder on your computer. \\nYou should use os module to rename all the png images from 1.png all the way till n.png where n is the number of png files in that folder. \\nDo the same for other file formats. For example:\\n'"
      ]
     },
     "execution_count": 3,
     "metadata": {},
     "output_type": "execute_result"
    }
   ],
   "source": [
    "'''\n",
    "Write a program to clear the clutter inside a folder on your computer. \n",
    "You should use os module to rename all the png images from 1.png all the way till n.png where n is the number of png files in that folder. \n",
    "Do the same for other file formats. For example:\n",
    "'''"
   ]
  },
  {
   "cell_type": "code",
   "execution_count": 4,
   "metadata": {},
   "outputs": [],
   "source": [
    "import os\n",
    "\n",
    "files = os.listdir(\"clutteredFolder\")\n",
    "i = 1\n",
    "for file in files:\n",
    "  if file.endswith(\".png\"):\n",
    "    print(file)\n",
    "    os.rename(f\"clutteredFolder/{file}\", f\"clutteredFolder/{i}.png\")\n",
    "    i = i + 1"
   ]
  },
  {
   "cell_type": "code",
   "execution_count": null,
   "metadata": {},
   "outputs": [],
   "source": []
  }
 ],
 "metadata": {
  "kernelspec": {
   "display_name": ".venv",
   "language": "python",
   "name": "python3"
  },
  "language_info": {
   "codemirror_mode": {
    "name": "ipython",
    "version": 3
   },
   "file_extension": ".py",
   "mimetype": "text/x-python",
   "name": "python",
   "nbconvert_exporter": "python",
   "pygments_lexer": "ipython3",
   "version": "3.13.2"
  }
 },
 "nbformat": 4,
 "nbformat_minor": 2
}
