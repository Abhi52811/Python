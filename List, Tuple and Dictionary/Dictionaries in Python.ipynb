{
 "cells": [
  {
   "cell_type": "code",
   "execution_count": 1,
   "metadata": {},
   "outputs": [
    {
     "name": "stdout",
     "output_type": "stream",
     "text": [
      "Human being\n"
     ]
    }
   ],
   "source": [
    "dict = {\"harry\": \"Human being\", \"Spoon\": \"Object\"}\n",
    "print(dict[\"harry\"])"
   ]
  },
  {
   "cell_type": "code",
   "execution_count": 2,
   "metadata": {},
   "outputs": [
    {
     "name": "stdout",
     "output_type": "stream",
     "text": [
      "Shubham\n"
     ]
    }
   ],
   "source": [
    "dict = {344: \"Harry\",\n",
    "        56: \"Shubham\",\n",
    "        678: \"Zakir\"}\n",
    "print(dict[56])"
   ]
  },
  {
   "cell_type": "code",
   "execution_count": 3,
   "metadata": {},
   "outputs": [
    {
     "name": "stdout",
     "output_type": "stream",
     "text": [
      "{'name1': 'Harry', 'name2': 'Shubham', 'name3': 'Zakir'}\n",
      "Shubham\n",
      "Zakir\n"
     ]
    }
   ],
   "source": [
    "dict = {\"name1\": \"Harry\",\n",
    "        \"name2\": \"Shubham\",\n",
    "        \"name3\": \"Zakir\"}\n",
    "print(dict)\n",
    "print(dict[\"name2\"])\n",
    "print(dict.get(\"name3\"))"
   ]
  },
  {
   "cell_type": "code",
   "execution_count": 4,
   "metadata": {},
   "outputs": [
    {
     "name": "stdout",
     "output_type": "stream",
     "text": [
      "{'name1': 'Harry', 'name2': 'Shubham', 'name3': 'Zakir'}\n",
      "dict_keys(['name1', 'name2', 'name3'])\n",
      "dict_values(['Harry', 'Shubham', 'Zakir'])\n"
     ]
    }
   ],
   "source": [
    "dict = {\"name1\": \"Harry\",\n",
    "        \"name2\": \"Shubham\",\n",
    "        \"name3\": \"Zakir\"}\n",
    "print(dict)\n",
    "print(dict.keys())\n",
    "print(dict.values())"
   ]
  },
  {
   "cell_type": "code",
   "execution_count": 5,
   "metadata": {},
   "outputs": [
    {
     "name": "stdout",
     "output_type": "stream",
     "text": [
      "Harry\n",
      "Shubham\n",
      "Zakir\n",
      "Value : Harry\n",
      "Value : Shubham\n",
      "Value : Zakir\n"
     ]
    }
   ],
   "source": [
    "for key in dict.keys():\n",
    "    print(f\"{dict[key]}\")\n",
    "\n",
    "for value in dict.values():\n",
    "    print(f\"Value : {value}\")\n",
    "\n"
   ]
  },
  {
   "cell_type": "code",
   "execution_count": 6,
   "metadata": {},
   "outputs": [
    {
     "name": "stdout",
     "output_type": "stream",
     "text": [
      "dict_items([('name1', 'Harry'), ('name2', 'Shubham'), ('name3', 'Zakir')])\n",
      "name1 : Harry\n",
      "name2 : Shubham\n",
      "name3 : Zakir\n"
     ]
    }
   ],
   "source": [
    "print(dict.items())\n",
    "for key,value in dict.items():\n",
    "    print(f\"{key} : {value}\")"
   ]
  },
  {
   "cell_type": "code",
   "execution_count": null,
   "metadata": {},
   "outputs": [],
   "source": [
    "'''\n",
    "DefaultDict\n",
    "\n",
    "The defaultdict is a specialized dictionary class provided by the collections module in Python.\n",
    "It is used to automatically initialize a value for a key that does not exist in the dictionary.\n",
    "\n",
    "Syntax:\n",
    "from collections import defaultdict\n",
    "dd = defaultdict(default_factory)\n",
    "\n",
    "'''"
   ]
  },
  {
   "cell_type": "code",
   "execution_count": null,
   "metadata": {},
   "outputs": [
    {
     "name": "stdout",
     "output_type": "stream",
     "text": [
      "0\n"
     ]
    }
   ],
   "source": [
    "from collections import defaultdict\n",
    "\n",
    "dd = defaultdict(int)  # int() returns 0\n",
    "print(dd['key'])  # ✅ Output: 0 (no KeyError)"
   ]
  },
  {
   "cell_type": "code",
   "execution_count": 2,
   "metadata": {},
   "outputs": [
    {
     "name": "stdout",
     "output_type": "stream",
     "text": [
      "defaultdict(<class 'int'>, {'apple': 2, 'banana': 2, 'orange': 1})\n"
     ]
    }
   ],
   "source": [
    "from collections import defaultdict\n",
    "\n",
    "count = defaultdict(int)  # int() returns 0 by default\n",
    "\n",
    "words = [\"apple\", \"banana\", \"apple\", \"orange\", \"banana\"]\n",
    "for word in words:\n",
    "    count[word] += 1\n",
    "\n",
    "print(count)  # Output: defaultdict(<class 'int'>, {'apple': 2, 'banana': 2, 'orange': 1})"
   ]
  },
  {
   "cell_type": "code",
   "execution_count": 3,
   "metadata": {},
   "outputs": [
    {
     "name": "stdout",
     "output_type": "stream",
     "text": [
      "defaultdict(<class 'list'>, {'a': [1, 3], 'b': [2, 4]})\n"
     ]
    }
   ],
   "source": [
    "from collections import defaultdict\n",
    "\n",
    "grouped = defaultdict(list)\n",
    "\n",
    "pairs = [(\"a\", 1), (\"b\", 2), (\"a\", 3), (\"b\", 4)]\n",
    "for key, value in pairs:\n",
    "    grouped[key].append(value)\n",
    "\n",
    "print(grouped)  # Output: defaultdict(<class 'list'>, {'a': [1, 3], 'b': [2, 4]})\n"
   ]
  },
  {
   "cell_type": "code",
   "execution_count": null,
   "metadata": {},
   "outputs": [
    {
     "name": "stdout",
     "output_type": "stream",
     "text": [
      "defaultdict(<class 'str'>, {'name': 'Abhishek'})\n",
      "\n"
     ]
    }
   ],
   "source": [
    "# If the key doesn’t exist, it starts as an empty string instead of raising a KeyError.\n",
    "\n",
    "from collections import defaultdict\n",
    "\n",
    "text = defaultdict(str)\n",
    "\n",
    "text['name'] += \"Abhishek\"\n",
    "print(text)  # Output: defaultdict(<class 'str'>, {'name': 'Abhishek'})\n",
    "print(text['age'])  # Output: ''\n"
   ]
  },
  {
   "cell_type": "code",
   "execution_count": 5,
   "metadata": {},
   "outputs": [
    {
     "name": "stdout",
     "output_type": "stream",
     "text": [
      "Abhishek\n",
      "Not Available\n"
     ]
    }
   ],
   "source": [
    "from collections import defaultdict\n",
    "\n",
    "def default_value():\n",
    "    return \"Not Available\"\n",
    "\n",
    "profile = defaultdict(default_value)\n",
    "profile[\"name\"] = \"Abhishek\"\n",
    "\n",
    "print(profile[\"name\"])  # Output: Abhishek\n",
    "print(profile[\"age\"])   # Output: Not Available"
   ]
  },
  {
   "cell_type": "code",
   "execution_count": null,
   "metadata": {},
   "outputs": [],
   "source": []
  }
 ],
 "metadata": {
  "kernelspec": {
   "display_name": ".venv",
   "language": "python",
   "name": "python3"
  },
  "language_info": {
   "codemirror_mode": {
    "name": "ipython",
    "version": 3
   },
   "file_extension": ".py",
   "mimetype": "text/x-python",
   "name": "python",
   "nbconvert_exporter": "python",
   "pygments_lexer": "ipython3",
   "version": "3.13.2"
  }
 },
 "nbformat": 4,
 "nbformat_minor": 2
}
