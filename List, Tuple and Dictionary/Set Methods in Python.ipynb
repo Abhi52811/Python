{
 "cells": [
  {
   "cell_type": "code",
   "execution_count": 5,
   "metadata": {},
   "outputs": [],
   "source": [
    "s1={1,2,5,6}\n",
    "s2={3,6,7}"
   ]
  },
  {
   "cell_type": "code",
   "execution_count": 6,
   "metadata": {},
   "outputs": [
    {
     "name": "stdout",
     "output_type": "stream",
     "text": [
      "{1, 2, 3, 5, 6, 7}\n",
      "{1, 2, 5, 6}\n",
      "{3, 6, 7}\n"
     ]
    }
   ],
   "source": [
    "s3 = s1.union(s2)\n",
    "print(s3)\n",
    "print(s1)\n",
    "print(s2)"
   ]
  },
  {
   "cell_type": "code",
   "execution_count": 7,
   "metadata": {},
   "outputs": [
    {
     "name": "stdout",
     "output_type": "stream",
     "text": [
      "{1, 2, 3, 5, 6, 7} {3, 6, 7}\n"
     ]
    }
   ],
   "source": [
    "s1.update(s2)\n",
    "print(s1,s2)"
   ]
  },
  {
   "cell_type": "code",
   "execution_count": 11,
   "metadata": {},
   "outputs": [
    {
     "name": "stdout",
     "output_type": "stream",
     "text": [
      "{'Seoul', 'Madrid', 'Tokyo', 'Berlin', 'Delhi', 'Kabul'}\n",
      "{'Delhi', 'Madrid', 'Tokyo', 'Berlin'}\n",
      "{'Kabul', 'Seoul', 'Madrid', 'Tokyo'}\n"
     ]
    }
   ],
   "source": [
    "cities1={\"Tokyo\",\"Madrid\",\"Berlin\",\"Delhi\"}\n",
    "cities2={\"Tokyo\",\"Seoul\",\"Kabul\",\"Madrid\"}\n",
    "cities3=cities1.union(cities2)\n",
    "print(cities3)\n",
    "print(cities1)\n",
    "print(cities2)"
   ]
  },
  {
   "cell_type": "code",
   "execution_count": 12,
   "metadata": {},
   "outputs": [
    {
     "name": "stdout",
     "output_type": "stream",
     "text": [
      "{'Madrid', 'Tokyo'}\n",
      "{'Delhi', 'Madrid', 'Tokyo', 'Berlin'}\n",
      "{'Kabul', 'Seoul', 'Madrid', 'Tokyo'}\n"
     ]
    }
   ],
   "source": [
    "cities1={\"Tokyo\",\"Madrid\",\"Berlin\",\"Delhi\"}\n",
    "cities2={\"Tokyo\",\"Seoul\",\"Kabul\",\"Madrid\"}\n",
    "cities3=cities1.intersection(cities2)\n",
    "print(cities3)\n",
    "print(cities1)\n",
    "print(cities2)"
   ]
  },
  {
   "cell_type": "code",
   "execution_count": 13,
   "metadata": {},
   "outputs": [
    {
     "name": "stdout",
     "output_type": "stream",
     "text": [
      "{'Madrid', 'Tokyo'}\n",
      "{'Kabul', 'Seoul', 'Madrid', 'Tokyo'}\n"
     ]
    }
   ],
   "source": [
    "cities1={\"Tokyo\",\"Madrid\",\"Berlin\",\"Delhi\"}\n",
    "cities2={\"Tokyo\",\"Seoul\",\"Kabul\",\"Madrid\"}\n",
    "cities1.intersection_update(cities2)\n",
    "print(cities1)\n",
    "print(cities2)"
   ]
  },
  {
   "cell_type": "code",
   "execution_count": 14,
   "metadata": {},
   "outputs": [
    {
     "name": "stdout",
     "output_type": "stream",
     "text": [
      "{'Delhi', 'Berlin', 'Kabul', 'Seoul'}\n",
      "{'Delhi', 'Madrid', 'Tokyo', 'Berlin'}\n",
      "{'Kabul', 'Seoul', 'Madrid', 'Tokyo'}\n"
     ]
    }
   ],
   "source": [
    "cities1={\"Tokyo\",\"Madrid\",\"Berlin\",\"Delhi\"}\n",
    "cities2={\"Tokyo\",\"Seoul\",\"Kabul\",\"Madrid\"}\n",
    "cities3=cities1.symmetric_difference(cities2)\n",
    "print(cities3)\n",
    "print(cities1)\n",
    "print(cities2)"
   ]
  },
  {
   "cell_type": "code",
   "execution_count": 15,
   "metadata": {},
   "outputs": [
    {
     "name": "stdout",
     "output_type": "stream",
     "text": [
      "{'Delhi', 'Berlin'}\n",
      "{'Delhi', 'Madrid', 'Tokyo', 'Berlin'}\n",
      "{'Kabul', 'Seoul', 'Madrid', 'Tokyo'}\n"
     ]
    }
   ],
   "source": [
    "cities1={\"Tokyo\",\"Madrid\",\"Berlin\",\"Delhi\"}\n",
    "cities2={\"Tokyo\",\"Seoul\",\"Kabul\",\"Madrid\"}\n",
    "# present in cities1 but in cities2 \n",
    "cities3=cities1.difference(cities2)\n",
    "print(cities3)\n",
    "print(cities1)\n",
    "print(cities2)"
   ]
  },
  {
   "cell_type": "code",
   "execution_count": 16,
   "metadata": {},
   "outputs": [
    {
     "name": "stdout",
     "output_type": "stream",
     "text": [
      "False\n"
     ]
    }
   ],
   "source": [
    "cities1={\"Tokyo\",\"Madrid\",\"Berlin\",\"Delhi\"}\n",
    "cities2={\"Tokyo\",\"Seoul\",\"Kabul\",\"Madrid\"}\n",
    "print(cities1.isdisjoint(cities2))"
   ]
  },
  {
   "cell_type": "code",
   "execution_count": 17,
   "metadata": {},
   "outputs": [
    {
     "name": "stdout",
     "output_type": "stream",
     "text": [
      "True\n"
     ]
    }
   ],
   "source": [
    "cities1={\"Tokyo\",\"Madrid\",\"Berlin\",\"Delhi\"}\n",
    "cities2={\"Seoul\",\"Kabul\"}\n",
    "print(cities1.isdisjoint(cities2))"
   ]
  },
  {
   "cell_type": "code",
   "execution_count": 19,
   "metadata": {},
   "outputs": [
    {
     "name": "stdout",
     "output_type": "stream",
     "text": [
      "True\n",
      "False\n"
     ]
    }
   ],
   "source": [
    "cities1={\"Tokyo\",\"Madrid\",\"Berlin\",\"Delhi\",\"Seoul\",\"Kabul\"}\n",
    "cities2={\"Seoul\",\"Kabul\"}\n",
    "print(cities1.issuperset(cities2))\n",
    "cities3={\"Afghanistan\",\"Pakistan\"}\n",
    "print(cities1.issuperset(cities3))"
   ]
  },
  {
   "cell_type": "code",
   "execution_count": null,
   "metadata": {},
   "outputs": [
    {
     "name": "stdout",
     "output_type": "stream",
     "text": [
      "{'Berlin', 'Kabul', 'Delhi', 'Seoul', 'Madrid', 'Tokyo'}\n",
      "{'Berlin', 'Kabul', 'Delhi', 'Seoul', 'Madrid', 'Tokyo'}\n",
      "{'Berlin', 'Kabul', 'Delhi', 'Seoul', 'Madrid', 'Tokyo'}\n"
     ]
    }
   ],
   "source": [
    "cities={\"Tokyo\",\"Madrid\",\"Berlin\",\"Delhi\",\"Seoul\",\"Kabul\"}\n",
    "cities.add(\"China\")\n",
    "print(cities)\n",
    "# will throw an error\n",
    "cities.remove(\"China\")\n",
    "print(cities)\n",
    "# will not throw an error even if not present\n",
    "cities.discard(\"China\")\n",
    "print(cities)"
   ]
  },
  {
   "cell_type": "code",
   "execution_count": 25,
   "metadata": {},
   "outputs": [
    {
     "name": "stdout",
     "output_type": "stream",
     "text": [
      "{'Kabul', 'Berlin', 'Delhi', 'Seoul', 'Madrid'}\n",
      "Tokyo\n"
     ]
    }
   ],
   "source": [
    "cities={\"Tokyo\",\"Madrid\",\"Berlin\",\"Delhi\",\"Seoul\",\"Kabul\"}\n",
    "item = cities.pop()\n",
    "print(cities)\n",
    "print(item)"
   ]
  },
  {
   "cell_type": "code",
   "execution_count": 27,
   "metadata": {},
   "outputs": [],
   "source": [
    "cities={\"Tokyo\",\"Madrid\",\"Berlin\",\"Delhi\",\"Seoul\",\"Kabul\"}\n",
    "del cities"
   ]
  },
  {
   "cell_type": "code",
   "execution_count": 28,
   "metadata": {},
   "outputs": [
    {
     "name": "stdout",
     "output_type": "stream",
     "text": [
      "Value is in set\n"
     ]
    }
   ],
   "source": [
    "cities={\"Tokyo\",\"Madrid\",\"Berlin\",\"Delhi\",\"Seoul\",\"Kabul\"}\n",
    "if \"Madrid\" in cities:\n",
    "    print(\"Value is in set\")\n",
    "else:\n",
    "    print(\"Value is not in set\")"
   ]
  },
  {
   "cell_type": "code",
   "execution_count": null,
   "metadata": {},
   "outputs": [],
   "source": []
  }
 ],
 "metadata": {
  "kernelspec": {
   "display_name": ".venv",
   "language": "python",
   "name": "python3"
  },
  "language_info": {
   "codemirror_mode": {
    "name": "ipython",
    "version": 3
   },
   "file_extension": ".py",
   "mimetype": "text/x-python",
   "name": "python",
   "nbconvert_exporter": "python",
   "pygments_lexer": "ipython3",
   "version": "3.13.2"
  }
 },
 "nbformat": 4,
 "nbformat_minor": 2
}
