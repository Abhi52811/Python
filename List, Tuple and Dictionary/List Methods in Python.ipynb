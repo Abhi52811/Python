{
 "cells": [
  {
   "cell_type": "code",
   "execution_count": 30,
   "metadata": {},
   "outputs": [
    {
     "name": "stdout",
     "output_type": "stream",
     "text": [
      "[2, 1, 9, 7, 3, 4, 6]\n"
     ]
    }
   ],
   "source": [
    "l=[2,1,9,7,3,4,6]\n",
    "print(l)"
   ]
  },
  {
   "cell_type": "code",
   "execution_count": 31,
   "metadata": {},
   "outputs": [
    {
     "name": "stdout",
     "output_type": "stream",
     "text": [
      "[2, 1, 9, 7, 3, 4, 6, 7]\n"
     ]
    }
   ],
   "source": [
    "l.append(7)\n",
    "print(l)"
   ]
  },
  {
   "cell_type": "code",
   "execution_count": 33,
   "metadata": {},
   "outputs": [
    {
     "name": "stdout",
     "output_type": "stream",
     "text": [
      "[2, 1, 9, 7, 3, 4, 6, 7]\n"
     ]
    }
   ],
   "source": [
    "l.reverse()\n",
    "print(l)"
   ]
  },
  {
   "cell_type": "code",
   "execution_count": 34,
   "metadata": {},
   "outputs": [
    {
     "name": "stdout",
     "output_type": "stream",
     "text": [
      "[1, 2, 3, 4, 6, 7, 7, 9]\n"
     ]
    }
   ],
   "source": [
    "# change in the original list\n",
    "l.sort()\n",
    "print(l)"
   ]
  },
  {
   "cell_type": "code",
   "execution_count": 35,
   "metadata": {},
   "outputs": [
    {
     "name": "stdout",
     "output_type": "stream",
     "text": [
      "[9, 7, 7, 6, 4, 3, 2, 1]\n"
     ]
    }
   ],
   "source": [
    "# change in the original list\n",
    "l.sort(reverse=True)\n",
    "print(l)"
   ]
  },
  {
   "cell_type": "code",
   "execution_count": 36,
   "metadata": {},
   "outputs": [
    {
     "name": "stdout",
     "output_type": "stream",
     "text": [
      "[1, 2, 3, 4, 6, 7, 7, 9]\n",
      "Index of 7 :  5\n",
      "Count of 7 :  2\n",
      "[9, 7, 7, 6, 4, 3, 2, 1]\n",
      "Index of 7 :  1\n",
      "Count of 7 :  2\n"
     ]
    }
   ],
   "source": [
    "l.sort()\n",
    "print(l)\n",
    "print(\"Index of 7 : \",l.index(7))\n",
    "print(\"Count of 7 : \",l.count(7))\n",
    "l.sort(reverse=True)\n",
    "print(l)\n",
    "print(\"Index of 7 : \",l.index(7))\n",
    "print(\"Count of 7 : \",l.count(7))"
   ]
  },
  {
   "cell_type": "code",
   "execution_count": 37,
   "metadata": {},
   "outputs": [
    {
     "name": "stdout",
     "output_type": "stream",
     "text": [
      "[0, 7, 7, 6, 4, 3, 2, 1]\n",
      "[0, 7, 7, 6, 4, 3, 2, 1]\n",
      "\n",
      "[1, 7, 7, 6, 4, 3, 2, 1]\n",
      "[1, 7, 7, 6, 4, 3, 2, 1]\n",
      "\n",
      "[1, 2, 7, 6, 4, 3, 2, 1]\n",
      "[1, 2, 7, 6, 4, 3, 2, 1]\n",
      "\n",
      "[1, 3, 7, 6, 4, 3, 2, 1]\n",
      "[1, 3, 7, 6, 4, 3, 2, 1]\n"
     ]
    }
   ],
   "source": [
    "# Not recommended\n",
    "m = l\n",
    "m[0] = 0\n",
    "print(m)\n",
    "print(l)\n",
    "print()\n",
    "m[0]=1\n",
    "print(m)\n",
    "print(l)\n",
    "print()\n",
    "l[1] = 2\n",
    "print(m)\n",
    "print(l)\n",
    "print()\n",
    "l[1]=3\n",
    "print(m)\n",
    "print(l)"
   ]
  },
  {
   "cell_type": "code",
   "execution_count": 40,
   "metadata": {},
   "outputs": [
    {
     "name": "stdout",
     "output_type": "stream",
     "text": [
      "Original :  [1, 3, 7, 6, 4, 3, 2, 1]\n",
      "[0, 3, 7, 6, 4, 3, 2, 1]\n",
      "[1, 3, 7, 6, 4, 3, 2, 1]\n",
      "\n",
      "[0, 3, 7, 6, 4, 3, 2, 1]\n",
      "[1, 3, 7, 6, 4, 3, 2, 1]\n",
      "\n"
     ]
    }
   ],
   "source": [
    "# Recommended\n",
    "m = l.copy()\n",
    "print(\"Original : \",l)\n",
    "m[0] = 0\n",
    "print(m)\n",
    "print(l)\n",
    "print()\n",
    "l[0]=1\n",
    "print(m)\n",
    "print(l)\n",
    "print()"
   ]
  },
  {
   "cell_type": "code",
   "execution_count": 41,
   "metadata": {},
   "outputs": [
    {
     "name": "stdout",
     "output_type": "stream",
     "text": [
      "[1, 899, 3, 7, 6, 4, 3, 2, 1]\n"
     ]
    }
   ],
   "source": [
    "l.insert(1,899)\n",
    "print(l)"
   ]
  },
  {
   "cell_type": "code",
   "execution_count": 42,
   "metadata": {},
   "outputs": [
    {
     "name": "stdout",
     "output_type": "stream",
     "text": [
      "[900, 1000, 1100]\n",
      "[1, 899, 3, 7, 6, 4, 3, 2, 1, 900, 1000, 1100]\n"
     ]
    }
   ],
   "source": [
    "m = [900,1000,1100]\n",
    "l.extend(m)\n",
    "print(m)\n",
    "print(l)"
   ]
  },
  {
   "cell_type": "code",
   "execution_count": 44,
   "metadata": {},
   "outputs": [
    {
     "name": "stdout",
     "output_type": "stream",
     "text": [
      "[900, 1000, 1100]\n",
      "[1, 899, 3, 7, 6, 4, 3, 2, 1, 900, 1000, 1100]\n",
      "[1, 899, 3, 7, 6, 4, 3, 2, 1, 900, 1000, 1100, 900, 1000, 1100]\n"
     ]
    }
   ],
   "source": [
    "k = l+m\n",
    "print(m)\n",
    "print(l)\n",
    "print(k)"
   ]
  },
  {
   "cell_type": "code",
   "execution_count": null,
   "metadata": {},
   "outputs": [],
   "source": []
  }
 ],
 "metadata": {
  "kernelspec": {
   "display_name": "Python 3",
   "language": "python",
   "name": "python3"
  },
  "language_info": {
   "codemirror_mode": {
    "name": "ipython",
    "version": 3
   },
   "file_extension": ".py",
   "mimetype": "text/x-python",
   "name": "python",
   "nbconvert_exporter": "python",
   "pygments_lexer": "ipython3",
   "version": "3.11.5"
  }
 },
 "nbformat": 4,
 "nbformat_minor": 2
}
