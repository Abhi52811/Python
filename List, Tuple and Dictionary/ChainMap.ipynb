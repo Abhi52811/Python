{
 "cells": [
  {
   "cell_type": "code",
   "execution_count": null,
   "id": "4c3a32b0",
   "metadata": {},
   "outputs": [],
   "source": [
    "'''\n",
    "he ChainMap class in Python, part of the collections module, is used to group multiple dictionaries (or mappings) into a single view.\n",
    "It is particularly useful when you need to search across multiple dictionaries without merging them.\n",
    "\n",
    "Syntax:\n",
    "from collections import ChainMap\n",
    "cm = ChainMap(dict1, dict2, ...)\n",
    "\n",
    "'''"
   ]
  },
  {
   "cell_type": "code",
   "execution_count": 8,
   "id": "d1bd3982",
   "metadata": {},
   "outputs": [
    {
     "name": "stdout",
     "output_type": "stream",
     "text": [
      "Abhishek\n",
      "Delhi\n",
      "25\n"
     ]
    }
   ],
   "source": [
    "from collections import ChainMap\n",
    "\n",
    "# Define two dictionaries\n",
    "dict1 = {'name': 'Abhishek', 'age': 25}\n",
    "dict2 = {'age': 30, 'city': 'Delhi'}\n",
    "\n",
    "# Combine them using ChainMap\n",
    "cm = ChainMap(dict1, dict2)\n",
    "\n",
    "print(cm['name'])  # Output: Abhishek (from dict1)\n",
    "print(cm['city'])  # Output: Delhi (from dict2)\n",
    "print(cm['age'])   # Output: 25 (from dict1, as it comes first)"
   ]
  },
  {
   "cell_type": "code",
   "execution_count": 9,
   "id": "e261b7de",
   "metadata": {},
   "outputs": [
    {
     "name": "stdout",
     "output_type": "stream",
     "text": [
      "[{'name': 'Abhishek', 'age': 25}, {'age': 30, 'city': 'Delhi'}]\n"
     ]
    }
   ],
   "source": [
    "print(cm.maps)  # [{'age': 28}, {'name': 'Abhishek', 'age': 40, 'country': 'India'}, {'age': 30, 'city': 'Delhi'}]"
   ]
  },
  {
   "cell_type": "code",
   "execution_count": 10,
   "id": "fc572386",
   "metadata": {},
   "outputs": [
    {
     "name": "stdout",
     "output_type": "stream",
     "text": [
      "ChainMap({'age': 30, 'city': 'Delhi'})\n"
     ]
    }
   ],
   "source": [
    "print(cm.parents)  # ChainMap({'name': 'Abhishek', 'age': 40, 'country': 'India'}, {'age': 30, 'city': 'Delhi'})"
   ]
  },
  {
   "cell_type": "code",
   "execution_count": 2,
   "id": "0cdc612a",
   "metadata": {},
   "outputs": [
    {
     "name": "stdout",
     "output_type": "stream",
     "text": [
      "{'name': 'Abhishek', 'age': 40}\n",
      "{'age': 30, 'city': 'Delhi'}\n"
     ]
    }
   ],
   "source": [
    "cm['age'] = 40\n",
    "print(dict1)  # Output: {'name': 'Abhishek', 'age': 40}\n",
    "print(dict2)  # Output: {'age': 30, 'city': 'Delhi'}"
   ]
  },
  {
   "cell_type": "code",
   "execution_count": 3,
   "id": "6e9f4e6a",
   "metadata": {},
   "outputs": [
    {
     "name": "stdout",
     "output_type": "stream",
     "text": [
      "{'name': 'Abhishek', 'age': 40, 'country': 'India'}\n"
     ]
    }
   ],
   "source": [
    "cm['country'] = 'India'\n",
    "print(dict1)  # Output: {'name': 'Abhishek', 'age': 40, 'country': 'India'}"
   ]
  },
  {
   "cell_type": "code",
   "execution_count": 4,
   "id": "967bf400",
   "metadata": {},
   "outputs": [
    {
     "name": "stdout",
     "output_type": "stream",
     "text": [
      "['age', 'city', 'name', 'country']\n",
      "[40, 'Delhi', 'Abhishek', 'India']\n"
     ]
    }
   ],
   "source": [
    "print(list(cm.keys()))   # Output: ['name', 'age', 'city', 'country']\n",
    "print(list(cm.values())) # Output: ['Abhishek', 40, 'Delhi', 'India']"
   ]
  },
  {
   "cell_type": "code",
   "execution_count": 5,
   "id": "743f88fb",
   "metadata": {},
   "outputs": [
    {
     "name": "stdout",
     "output_type": "stream",
     "text": [
      "28\n"
     ]
    }
   ],
   "source": [
    "cm = cm.new_child({'age': 28})\n",
    "print(cm['age'])  # Output: 28 (new dictionary takes precedence)"
   ]
  },
  {
   "cell_type": "code",
   "execution_count": 6,
   "id": "332d7fac",
   "metadata": {},
   "outputs": [
    {
     "name": "stdout",
     "output_type": "stream",
     "text": [
      "light\n",
      "Spanish\n"
     ]
    }
   ],
   "source": [
    "from collections import ChainMap\n",
    "\n",
    "# Default config\n",
    "defaults = {'theme': 'light', 'language': 'English'}\n",
    "\n",
    "# User config (overrides defaults)\n",
    "user_config = {'language': 'Spanish'}\n",
    "\n",
    "# Chain both configs\n",
    "config = ChainMap(user_config, defaults)\n",
    "\n",
    "print(config['theme'])    # Output: light\n",
    "print(config['language']) # Output: Spanish (user preference)"
   ]
  },
  {
   "cell_type": "code",
   "execution_count": 7,
   "id": "97c10006",
   "metadata": {},
   "outputs": [
    {
     "name": "stdout",
     "output_type": "stream",
     "text": [
      "{'name': 'Abhishek', 'age': 30, 'country': 'India', 'city': 'Delhi'}\n"
     ]
    }
   ],
   "source": [
    "merged = dict1 | dict2\n",
    "print(merged)  # Combines but does not maintain the link to originals"
   ]
  },
  {
   "cell_type": "code",
   "execution_count": null,
   "id": "3de4bb28",
   "metadata": {},
   "outputs": [],
   "source": []
  }
 ],
 "metadata": {
  "kernelspec": {
   "display_name": ".venv",
   "language": "python",
   "name": "python3"
  },
  "language_info": {
   "codemirror_mode": {
    "name": "ipython",
    "version": 3
   },
   "file_extension": ".py",
   "mimetype": "text/x-python",
   "name": "python",
   "nbconvert_exporter": "python",
   "pygments_lexer": "ipython3",
   "version": "3.13.2"
  }
 },
 "nbformat": 4,
 "nbformat_minor": 5
}
