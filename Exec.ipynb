{
 "cells": [
  {
   "cell_type": "code",
   "execution_count": null,
   "id": "2ab028e0",
   "metadata": {},
   "outputs": [],
   "source": [
    "# exec(code_string, global_scope, local_scope)\n",
    "# Arguments:\n",
    "    # code_string: The string containing the code to be executed.\n",
    "    # global_scope: A dictionary representing the global variables (we use {} here).\n",
    "    # local_scope: A dictionary representing the local variables where the function will be stored.\n",
    "            #   {\n",
    "            #     'greet': <function greet at 0x7f3d1b52b160>\n",
    "            #   }\n",
    "\n",
    "# Note: Always return none"
   ]
  },
  {
   "cell_type": "code",
   "execution_count": 1,
   "id": "5a91faf0",
   "metadata": {},
   "outputs": [
    {
     "name": "stdout",
     "output_type": "stream",
     "text": [
      "Hello 0\n",
      "Hello 1\n",
      "Hello 2\n"
     ]
    }
   ],
   "source": [
    "code = \"\"\"\n",
    "for i in range(3):\n",
    "    print(f'Hello {i}')\n",
    "\"\"\"\n",
    "exec(code)"
   ]
  },
  {
   "cell_type": "code",
   "execution_count": 2,
   "id": "ebd3e627",
   "metadata": {},
   "outputs": [
    {
     "name": "stdout",
     "output_type": "stream",
     "text": [
      "5\n"
     ]
    }
   ],
   "source": [
    "exec(\"x = 5\")\n",
    "print(x)"
   ]
  },
  {
   "cell_type": "code",
   "execution_count": 3,
   "id": "55b47712",
   "metadata": {},
   "outputs": [
    {
     "name": "stdout",
     "output_type": "stream",
     "text": [
      "10 20 30\n"
     ]
    }
   ],
   "source": [
    "scope = {}\n",
    "exec(\"a = 10\\nb = 20\\nc = a + b\", scope)\n",
    "print(scope['a'], scope['b'], scope['c'])"
   ]
  },
  {
   "cell_type": "code",
   "execution_count": 4,
   "id": "2ff61bfe",
   "metadata": {},
   "outputs": [
    {
     "name": "stdout",
     "output_type": "stream",
     "text": [
      "Result: 10\n"
     ]
    }
   ],
   "source": [
    "expr = input(\"Enter an expression: \")\n",
    "exec(f\"result = {expr}\")\n",
    "print(f\"Result: {result}\")"
   ]
  },
  {
   "cell_type": "code",
   "execution_count": 7,
   "id": "470f4c4a",
   "metadata": {},
   "outputs": [
    {
     "name": "stdout",
     "output_type": "stream",
     "text": [
      "Hello, Alice!\n"
     ]
    }
   ],
   "source": [
    "def demonstrate_exec():\n",
    "    code= \"\"\"def greet(name):\n",
    "    return f\"Hello, {name}!\\\"\"\"\"\n",
    "\n",
    "    local_scope={}\n",
    "    exec(code,{}, local_scope)\n",
    "    print(local_scope[\"greet\"](\"Alice\"))\n",
    "\n",
    "demonstrate_exec()"
   ]
  },
  {
   "cell_type": "code",
   "execution_count": null,
   "id": "482df5da",
   "metadata": {},
   "outputs": [],
   "source": []
  }
 ],
 "metadata": {
  "kernelspec": {
   "display_name": ".venv",
   "language": "python",
   "name": "python3"
  },
  "language_info": {
   "codemirror_mode": {
    "name": "ipython",
    "version": 3
   },
   "file_extension": ".py",
   "mimetype": "text/x-python",
   "name": "python",
   "nbconvert_exporter": "python",
   "pygments_lexer": "ipython3",
   "version": "3.13.2"
  }
 },
 "nbformat": 4,
 "nbformat_minor": 5
}
