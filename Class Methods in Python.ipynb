{
 "cells": [
  {
   "cell_type": "code",
   "execution_count": 1,
   "metadata": {},
   "outputs": [
    {
     "data": {
      "text/plain": [
       "'\\nClass Methods as Alternative Constructors\\nIn object-oriented programming, the term \"constructor\" refers to a special type of method that is automatically executed when an object is created from a class. \\nThe purpose of a constructor is to initialize the object\\'s attributes, allowing the object to be fully functional and ready to use.\\n\\nHowever, there are times when you may want to create an object in a different way, or with different initial values, than what is provided by the default constructor. \\nThis is where class methods can be used as alternative constructors.\\n\\nA class method belongs to the class rather than to an instance of the class. \\nOne common use case for class methods as alternative constructors is when you want to create an object from data that is stored in a different format, such as a string or a dictionary. \\nFor example, consider a class named \"Person\" that has two attributes: \"name\" and \"age\". The default constructor for the class might look like this:\\n\\nPython Class Methods\\nPython Class Methods: An Introduction\\nIn Python, classes are a way to define custom data types that can store data and define functions that can manipulate that data. \\nOne type of function that can be defined within a class is called a \"method.\" \\nIn this blog post, we will explore what Python class methods are, why they are useful, and how to use them.\\n'"
      ]
     },
     "execution_count": 1,
     "metadata": {},
     "output_type": "execute_result"
    }
   ],
   "source": [
    "'''\n",
    "Class Methods as Alternative Constructors\n",
    "In object-oriented programming, the term \"constructor\" refers to a special type of method that is automatically executed when an object is created from a class. \n",
    "The purpose of a constructor is to initialize the object's attributes, allowing the object to be fully functional and ready to use.\n",
    "\n",
    "However, there are times when you may want to create an object in a different way, or with different initial values, than what is provided by the default constructor. \n",
    "This is where class methods can be used as alternative constructors.\n",
    "\n",
    "A class method belongs to the class rather than to an instance of the class. \n",
    "One common use case for class methods as alternative constructors is when you want to create an object from data that is stored in a different format, such as a string or a dictionary. \n",
    "For example, consider a class named \"Person\" that has two attributes: \"name\" and \"age\". The default constructor for the class might look like this:\n",
    "\n",
    "Python Class Methods\n",
    "Python Class Methods: An Introduction\n",
    "In Python, classes are a way to define custom data types that can store data and define functions that can manipulate that data. \n",
    "One type of function that can be defined within a class is called a \"method.\" \n",
    "In this blog post, we will explore what Python class methods are, why they are useful, and how to use them.\n",
    "'''"
   ]
  },
  {
   "cell_type": "code",
   "execution_count": 2,
   "metadata": {},
   "outputs": [
    {
     "data": {
      "text/plain": [
       "'\\nWhat are Python Class Methods?\\nA class method is a type of method that is bound to the class and not the instance of the class. \\nIn other words, it operates on the class as a whole, rather than on a specific instance of the class. \\nClass methods are defined using the \"@classmethod\" decorator, followed by a function definition. \\nThe first argument of the function is always \"cls,\" which represents the class itself.\\n\\nWhy Use Python Class Methods?\\nClass methods are useful in several situations. \\nFor example, you might want to create a factory method that creates instances of your class in a specific way. \\nYou could define a class method that creates the instance and returns it to the caller. \\nAnother common use case is to provide alternative constructors for your class. \\nThis can be useful if you want to create instances of your class in multiple ways, but still have a consistent interface for doing so.\\n'"
      ]
     },
     "execution_count": 2,
     "metadata": {},
     "output_type": "execute_result"
    }
   ],
   "source": [
    "'''\n",
    "What are Python Class Methods?\n",
    "A class method is a type of method that is bound to the class and not the instance of the class. \n",
    "In other words, it operates on the class as a whole, rather than on a specific instance of the class. \n",
    "Class methods are defined using the \"@classmethod\" decorator, followed by a function definition. \n",
    "The first argument of the function is always \"cls,\" which represents the class itself.\n",
    "\n",
    "Why Use Python Class Methods?\n",
    "Class methods are useful in several situations. \n",
    "For example, you might want to create a factory method that creates instances of your class in a specific way. \n",
    "You could define a class method that creates the instance and returns it to the caller. \n",
    "Another common use case is to provide alternative constructors for your class. \n",
    "This can be useful if you want to create instances of your class in multiple ways, but still have a consistent interface for doing so.\n",
    "'''"
   ]
  },
  {
   "cell_type": "code",
   "execution_count": 3,
   "metadata": {},
   "outputs": [
    {
     "data": {
      "text/plain": [
       "'\\nHow to Use Python Class Methods\\nTo define a class method, you simply use the \"@classmethod\" decorator before the method definition. \\nThe first argument of the method should always be \"cls,\" which represents the class itself. \\nHere is an example of how to define a class method:\\n'"
      ]
     },
     "execution_count": 3,
     "metadata": {},
     "output_type": "execute_result"
    }
   ],
   "source": [
    "'''\n",
    "How to Use Python Class Methods\n",
    "To define a class method, you simply use the \"@classmethod\" decorator before the method definition. \n",
    "The first argument of the method should always be \"cls,\" which represents the class itself. \n",
    "Here is an example of how to define a class method:\n",
    "'''"
   ]
  },
  {
   "cell_type": "code",
   "execution_count": 4,
   "metadata": {},
   "outputs": [],
   "source": [
    "class Employee:\n",
    "  company = \"Apple\"\n",
    "  def show(self):\n",
    "    print(f\"The name is {self.name} and company is {self.company}\")\n",
    "\n",
    "  @classmethod\n",
    "  def changeCompany(cls, newCompany):\n",
    "    cls.company = newCompany\n"
   ]
  },
  {
   "cell_type": "code",
   "execution_count": 5,
   "metadata": {},
   "outputs": [
    {
     "name": "stdout",
     "output_type": "stream",
     "text": [
      "The name is Harry and company is Apple\n",
      "The name is Harry and company is Tesla\n",
      "Tesla\n"
     ]
    }
   ],
   "source": [
    "e1 = Employee()\n",
    "e1.name = \"Harry\"\n",
    "e1.show()\n",
    "e1.changeCompany(\"Tesla\")\n",
    "e1.show()\n",
    "print(Employee.company)"
   ]
  },
  {
   "cell_type": "code",
   "execution_count": 6,
   "metadata": {},
   "outputs": [],
   "source": [
    "class Employee:\n",
    "  def __init__(self, name, salary):\n",
    "    self.name = name \n",
    "    self.salary = salary\n",
    "    \n",
    "  @classmethod\n",
    "  def fromStr(cls, string):\n",
    "    return cls(string.split(\"-\")[0], int(string.split(\"-\")[1]))"
   ]
  },
  {
   "cell_type": "code",
   "execution_count": 7,
   "metadata": {},
   "outputs": [
    {
     "name": "stdout",
     "output_type": "stream",
     "text": [
      "Harry\n",
      "12000\n",
      "John\n",
      "12000\n"
     ]
    }
   ],
   "source": [
    "e1 = Employee(\"Harry\", 12000)\n",
    "print(e1.name)\n",
    "print(e1.salary)\n",
    "\n",
    "string = \"John-12000\"\n",
    "e2 = Employee.fromStr(string)\n",
    "print(e2.name)\n",
    "print(e2.salary)"
   ]
  }
 ],
 "metadata": {
  "kernelspec": {
   "display_name": ".venv",
   "language": "python",
   "name": "python3"
  },
  "language_info": {
   "codemirror_mode": {
    "name": "ipython",
    "version": 3
   },
   "file_extension": ".py",
   "mimetype": "text/x-python",
   "name": "python",
   "nbconvert_exporter": "python",
   "pygments_lexer": "ipython3",
   "version": "3.13.2"
  }
 },
 "nbformat": 4,
 "nbformat_minor": 2
}
