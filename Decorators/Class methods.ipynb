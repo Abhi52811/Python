{
 "cells": [
  {
   "cell_type": "code",
   "execution_count": 2,
   "id": "b5769c91",
   "metadata": {},
   "outputs": [
    {
     "name": "stdout",
     "output_type": "stream",
     "text": [
      "Hello\n",
      "Hello\n"
     ]
    }
   ],
   "source": [
    "class MyClass:\n",
    "    class_variable = \"Hello\"\n",
    "\n",
    "    @classmethod\n",
    "    def my_class_method(cls):\n",
    "        return cls.class_variable\n",
    "    \n",
    "print(MyClass.my_class_method())  # Output: Hello\n",
    "\n",
    "# You can also call it from an instance\n",
    "obj = MyClass()\n",
    "print(obj.my_class_method())  # Output: Hello"
   ]
  },
  {
   "cell_type": "code",
   "execution_count": 3,
   "id": "e5d2b162",
   "metadata": {},
   "outputs": [
    {
     "name": "stdout",
     "output_type": "stream",
     "text": [
      "Mammal\n"
     ]
    }
   ],
   "source": [
    "class Animal:\n",
    "    species = \"Mammal\"\n",
    "\n",
    "    @classmethod\n",
    "    def get_species(cls):\n",
    "        return cls.species\n",
    "\n",
    "print(Animal.get_species())  # Output: Mammal\n"
   ]
  },
  {
   "cell_type": "code",
   "execution_count": 4,
   "id": "4c0fad14",
   "metadata": {},
   "outputs": [
    {
     "name": "stdout",
     "output_type": "stream",
     "text": [
      "2\n"
     ]
    }
   ],
   "source": [
    "class Counter:\n",
    "    count = 0\n",
    "\n",
    "    @classmethod\n",
    "    def increment(cls):\n",
    "        cls.count += 1\n",
    "\n",
    "Counter.increment()\n",
    "Counter.increment()\n",
    "print(Counter.count)  # Output: 2\n"
   ]
  },
  {
   "cell_type": "code",
   "execution_count": null,
   "id": "8150f4af",
   "metadata": {},
   "outputs": [
    {
     "name": "stdout",
     "output_type": "stream",
     "text": [
      "Called from_string\n",
      "Called __init__\n"
     ]
    }
   ],
   "source": [
    "class Person:\n",
    "    def __init__(self, name, age):\n",
    "        print(\"Called __init__\")\n",
    "        self.name = name\n",
    "        self.age = age\n",
    "\n",
    "    @classmethod\n",
    "    def from_string(cls, info):\n",
    "        print(\"Called from_string\")\n",
    "        name, age = info.split('-')\n",
    "        return cls(name, int(age))\n",
    "\n",
    "# Creating an instance using the factory method\n",
    "p = Person.from_string(\"Abhishek-25\")\n",
    "print(p.name, p.age)  # Output: Abhishek 25\n"
   ]
  },
  {
   "cell_type": "code",
   "execution_count": null,
   "id": "2dbe8c90",
   "metadata": {},
   "outputs": [
    {
     "name": "stdout",
     "output_type": "stream",
     "text": [
      "Class Method: 5\n",
      "Static Method\n"
     ]
    }
   ],
   "source": [
    "# class_method() has access to the class variable value, while static_method() does not.\n",
    "\n",
    "class Demo:\n",
    "    value = 5\n",
    "\n",
    "    @classmethod\n",
    "    def class_method(cls):\n",
    "        return f\"Class Method: {cls.value}\"\n",
    "\n",
    "    @staticmethod\n",
    "    def static_method():\n",
    "        return \"Static Method\"\n",
    "\n",
    "print(Demo.class_method())  # Output: Class Method: 5\n",
    "print(Demo.static_method()) # Output: Static Method\n"
   ]
  },
  {
   "cell_type": "code",
   "execution_count": 10,
   "id": "e459160a",
   "metadata": {},
   "outputs": [
    {
     "name": "stdout",
     "output_type": "stream",
     "text": [
      "16 5 2025\n"
     ]
    }
   ],
   "source": [
    "class Date:\n",
    "    def __init__(self, day, month, year):\n",
    "        self.day = day\n",
    "        self.month = month\n",
    "        self.year = year\n",
    "\n",
    "    @classmethod\n",
    "    def from_string(cls, date_string):\n",
    "        day, month, year = map(int, date_string.split('-'))\n",
    "        return cls(day, month, year)\n",
    "\n",
    "d = Date.from_string(\"16-05-2025\")\n",
    "print(d.day, d.month, d.year)  # Output: 16 5 2025\n"
   ]
  },
  {
   "cell_type": "code",
   "execution_count": 11,
   "id": "752d0734",
   "metadata": {},
   "outputs": [
    {
     "name": "stdout",
     "output_type": "stream",
     "text": [
      "2\n",
      "4\n"
     ]
    }
   ],
   "source": [
    "class Vehicle:\n",
    "    def __init__(self, wheels):\n",
    "        self.wheels = wheels\n",
    "\n",
    "    @classmethod\n",
    "    def create_bike(cls):\n",
    "        return cls(2)\n",
    "\n",
    "    @classmethod\n",
    "    def create_car(cls):\n",
    "        return cls(4)\n",
    "\n",
    "bike = Vehicle.create_bike()\n",
    "car = Vehicle.create_car()\n",
    "\n",
    "print(bike.wheels)  # Output: 2\n",
    "print(car.wheels)   # Output: 4\n"
   ]
  },
  {
   "cell_type": "code",
   "execution_count": 12,
   "id": "275c9343",
   "metadata": {},
   "outputs": [
    {
     "name": "stdout",
     "output_type": "stream",
     "text": [
      "I am a Circle\n"
     ]
    }
   ],
   "source": [
    "class Shape:\n",
    "    @classmethod\n",
    "    def identify(cls):\n",
    "        return f\"I am a {cls.__name__}\"\n",
    "\n",
    "class Circle(Shape):\n",
    "    pass\n",
    "\n",
    "print(Circle.identify())  # Output: I am a Circle\n"
   ]
  },
  {
   "cell_type": "code",
   "execution_count": 13,
   "id": "6252cee9",
   "metadata": {},
   "outputs": [
    {
     "name": "stdout",
     "output_type": "stream",
     "text": [
      "True\n"
     ]
    }
   ],
   "source": [
    "class Singleton:\n",
    "    _instance = None\n",
    "\n",
    "    @classmethod\n",
    "    def get_instance(cls):\n",
    "        if cls._instance is None:\n",
    "            cls._instance = cls()\n",
    "        return cls._instance\n",
    "\n",
    "s1 = Singleton.get_instance()\n",
    "s2 = Singleton.get_instance()\n",
    "\n",
    "print(s1 is s2)  # Output: True\n"
   ]
  },
  {
   "cell_type": "code",
   "execution_count": 14,
   "id": "3e78cdb1",
   "metadata": {},
   "outputs": [
    {
     "name": "stdout",
     "output_type": "stream",
     "text": [
      "Base class: Derived\n"
     ]
    }
   ],
   "source": [
    "class Base:\n",
    "    @classmethod\n",
    "    def display(cls):\n",
    "        return f\"Base class: {cls.__name__}\"\n",
    "\n",
    "class Derived(Base):\n",
    "    pass\n",
    "\n",
    "print(Derived.display())  # Output: Base class: Derived\n"
   ]
  },
  {
   "cell_type": "code",
   "execution_count": null,
   "id": "0264ec9e",
   "metadata": {},
   "outputs": [],
   "source": []
  }
 ],
 "metadata": {
  "kernelspec": {
   "display_name": ".venv",
   "language": "python",
   "name": "python3"
  },
  "language_info": {
   "codemirror_mode": {
    "name": "ipython",
    "version": 3
   },
   "file_extension": ".py",
   "mimetype": "text/x-python",
   "name": "python",
   "nbconvert_exporter": "python",
   "pygments_lexer": "ipython3",
   "version": "3.13.2"
  }
 },
 "nbformat": 4,
 "nbformat_minor": 5
}
