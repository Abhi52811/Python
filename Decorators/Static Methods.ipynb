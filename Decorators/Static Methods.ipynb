{
 "cells": [
  {
   "cell_type": "code",
   "execution_count": 1,
   "id": "503fb134",
   "metadata": {},
   "outputs": [
    {
     "name": "stdout",
     "output_type": "stream",
     "text": [
      "15\n"
     ]
    }
   ],
   "source": [
    "class MyClass:\n",
    "    @staticmethod\n",
    "    def my_static_method(arg1, arg2):\n",
    "        return arg1 + arg2\n",
    "\n",
    "result = MyClass.my_static_method(5, 10)\n",
    "print(result)  # Output: 15"
   ]
  },
  {
   "cell_type": "code",
   "execution_count": 2,
   "id": "ec4bc5bf",
   "metadata": {},
   "outputs": [
    {
     "name": "stdout",
     "output_type": "stream",
     "text": [
      "10\n"
     ]
    }
   ],
   "source": [
    "obj = MyClass()\n",
    "print(obj.my_static_method(3, 7))  # Output: 10"
   ]
  },
  {
   "cell_type": "code",
   "execution_count": 3,
   "id": "dc8e5f16",
   "metadata": {},
   "outputs": [
    {
     "name": "stdout",
     "output_type": "stream",
     "text": [
      "9\n"
     ]
    }
   ],
   "source": [
    "class MathUtils:\n",
    "    @staticmethod\n",
    "    def add(a, b):\n",
    "        return a + b\n",
    "\n",
    "print(MathUtils.add(4, 5))  # Output: 9"
   ]
  },
  {
   "cell_type": "code",
   "execution_count": null,
   "id": "62342596",
   "metadata": {},
   "outputs": [
    {
     "name": "stdout",
     "output_type": "stream",
     "text": [
      "Static Method\n",
      "Class Method: Example\n"
     ]
    }
   ],
   "source": [
    "class Example:\n",
    "    @staticmethod\n",
    "    def static_method():\n",
    "        print(\"Static Method\")\n",
    "\n",
    "    @classmethod\n",
    "    def class_method(cls):\n",
    "        print(f\"Class Method: {cls.__name__}\")\n",
    "\n",
    "Example.static_method()  # Output: Static Method\n",
    "Example.class_method()   # Output: Class Method: Example\n"
   ]
  },
  {
   "cell_type": "code",
   "execution_count": 5,
   "id": "5919aa0b",
   "metadata": {},
   "outputs": [
    {
     "name": "stdout",
     "output_type": "stream",
     "text": [
      "HELLO\n"
     ]
    }
   ],
   "source": [
    "class StringUtils:\n",
    "    @staticmethod\n",
    "    def to_uppercase(s):\n",
    "        return s.upper()\n",
    "\n",
    "    @staticmethod\n",
    "    def to_lowercase(s):\n",
    "        return s.lower()\n",
    "\n",
    "print(StringUtils.to_uppercase(\"hello\"))  # Output: HELLO\n"
   ]
  },
  {
   "cell_type": "code",
   "execution_count": 6,
   "id": "1553d9a1",
   "metadata": {},
   "outputs": [
    {
     "name": "stdout",
     "output_type": "stream",
     "text": [
      "Hello from Base\n"
     ]
    }
   ],
   "source": [
    "class Base:\n",
    "    @staticmethod\n",
    "    def greet():\n",
    "        print(\"Hello from Base\")\n",
    "\n",
    "class Derived(Base):\n",
    "    pass\n",
    "\n",
    "Derived.greet()  # Output: Hello from Base\n"
   ]
  },
  {
   "cell_type": "code",
   "execution_count": 7,
   "id": "c3e70b15",
   "metadata": {},
   "outputs": [
    {
     "name": "stdout",
     "output_type": "stream",
     "text": [
      "R2D2 says: Beep beep!\n"
     ]
    }
   ],
   "source": [
    "class Robot:\n",
    "    def __init__(self, name):\n",
    "        self.name = name\n",
    "\n",
    "    @staticmethod\n",
    "    def beep():\n",
    "        return \"Beep beep!\"\n",
    "\n",
    "    def introduce(self):\n",
    "        return f\"{self.name} says: {self.beep()}\"\n",
    "\n",
    "r = Robot(\"R2D2\")\n",
    "print(r.introduce())  # Output: R2D2 says: Beep beep!\n"
   ]
  },
  {
   "cell_type": "code",
   "execution_count": null,
   "id": "2c75beac",
   "metadata": {},
   "outputs": [],
   "source": []
  }
 ],
 "metadata": {
  "kernelspec": {
   "display_name": ".venv",
   "language": "python",
   "name": "python3"
  },
  "language_info": {
   "codemirror_mode": {
    "name": "ipython",
    "version": 3
   },
   "file_extension": ".py",
   "mimetype": "text/x-python",
   "name": "python",
   "nbconvert_exporter": "python",
   "pygments_lexer": "ipython3",
   "version": "3.13.2"
  }
 },
 "nbformat": 4,
 "nbformat_minor": 5
}
