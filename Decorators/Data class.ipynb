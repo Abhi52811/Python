{
 "cells": [
  {
   "cell_type": "code",
   "execution_count": null,
   "id": "08a735b4",
   "metadata": {},
   "outputs": [],
   "source": [
    "'''\n",
    "Reduces Boilerplate Code: You don’t need to write __init__, __repr__, __eq__, etc.\n",
    "Automatic Methods: Automatically generates special methods like __init__, __repr__, __eq__, and more.\n",
    "Cleaner and More Readable: Focuses on data rather than methods.\n",
    "\n",
    "Syntax:\n",
    "from dataclasses import dataclass\n",
    "\n",
    "@dataclass\n",
    "class Car:\n",
    "    make: str\n",
    "    model: str\n",
    "    year: int\n",
    "\n",
    "This is equivalent to:\n",
    "class Car:\n",
    "    def __init__(self, make: str, model: str, year: int):\n",
    "        self.make = make\n",
    "        self.model = model\n",
    "        self.year = year\n",
    "\n",
    "    def __repr__(self):\n",
    "        return f\"Car(make={self.make}, model={self.model}, year={self.year})\"\n",
    "'''"
   ]
  },
  {
   "cell_type": "code",
   "execution_count": 2,
   "id": "a6ab31dd",
   "metadata": {},
   "outputs": [
    {
     "name": "stdout",
     "output_type": "stream",
     "text": [
      "Car(make=Volvo, model=XC90, year=2022)\n"
     ]
    }
   ],
   "source": [
    "class Car:\n",
    "    def __init__(self, make: str, model: str, year: int):\n",
    "        self.make = make\n",
    "        self.model = model\n",
    "        self.year = year\n",
    "\n",
    "    def __repr__(self):\n",
    "        return f\"Car(make={self.make}, model={self.model}, year={self.year})\"\n",
    "my_car = Car(\"Volvo\", \"XC90\", 2022)\n",
    "print(my_car)  # Output: Car(make='Volvo', model='XC90', year=2022)"
   ]
  },
  {
   "cell_type": "code",
   "execution_count": 1,
   "id": "dce10782",
   "metadata": {},
   "outputs": [
    {
     "name": "stdout",
     "output_type": "stream",
     "text": [
      "Car(make='Volvo', model='XC90', year=2022)\n"
     ]
    }
   ],
   "source": [
    "from dataclasses import dataclass\n",
    "\n",
    "@dataclass\n",
    "class Car:\n",
    "    make: str\n",
    "    model: str\n",
    "    year: int\n",
    "my_car = Car(\"Volvo\", \"XC90\", 2022)\n",
    "print(my_car)  # Output: Car(make='Volvo', model='XC90', year=2022)"
   ]
  },
  {
   "cell_type": "code",
   "execution_count": 3,
   "id": "35e8b465",
   "metadata": {},
   "outputs": [
    {
     "name": "stdout",
     "output_type": "stream",
     "text": [
      "Person(name='Abhishek', age=25)\n"
     ]
    }
   ],
   "source": [
    "@dataclass\n",
    "class Person:\n",
    "    name: str\n",
    "    age: int\n",
    "\n",
    "p = Person(\"Abhishek\", 25)\n",
    "print(p)  # Output: Person(name='Abhishek', age=25)\n"
   ]
  },
  {
   "cell_type": "code",
   "execution_count": null,
   "id": "236795a0",
   "metadata": {},
   "outputs": [
    {
     "name": "stdout",
     "output_type": "stream",
     "text": [
      "True\n"
     ]
    }
   ],
   "source": [
    "# Compares the values instead of the memory addresses.\n",
    "\n",
    "@dataclass\n",
    "class Point:\n",
    "    x: int\n",
    "    y: int\n",
    "\n",
    "p1 = Point(1, 2)\n",
    "p2 = Point(1, 2)\n",
    "print(p1 == p2)  # Output: True\n"
   ]
  },
  {
   "cell_type": "code",
   "execution_count": 5,
   "id": "91cf560a",
   "metadata": {},
   "outputs": [
    {
     "name": "stdout",
     "output_type": "stream",
     "text": [
      "Student(name='John', grade=10)\n"
     ]
    }
   ],
   "source": [
    "@dataclass\n",
    "class Student:\n",
    "    name: str\n",
    "    grade: int = 10\n",
    "\n",
    "s = Student(\"John\")\n",
    "print(s)  # Output: Student(name='John', grade=10)\n"
   ]
  },
  {
   "cell_type": "code",
   "execution_count": 9,
   "id": "43beedb7",
   "metadata": {},
   "outputs": [],
   "source": [
    "# Makes the object read-only after creation.\n",
    "# Helps in scenarios where immutability is desired.\n",
    "\n",
    "@dataclass(frozen=True)\n",
    "class User:\n",
    "    username: str\n",
    "    user_id: int\n",
    "\n",
    "u = User(\"abhishek\", 123)\n",
    "# u.username = \"john\"  # Error: FrozenInstanceError"
   ]
  },
  {
   "cell_type": "code",
   "execution_count": 10,
   "id": "02fe8148",
   "metadata": {},
   "outputs": [
    {
     "name": "stdout",
     "output_type": "stream",
     "text": [
      "Employee(name='Alice')\n"
     ]
    }
   ],
   "source": [
    "from dataclasses import dataclass, field\n",
    "\n",
    "@dataclass\n",
    "class Employee:\n",
    "    name: str\n",
    "    age: int = field(default=30, repr=False)\n",
    "\n",
    "e = Employee(\"Alice\")\n",
    "print(e)  # Output: Employee(name='Alice')"
   ]
  },
  {
   "cell_type": "code",
   "execution_count": 12,
   "id": "996c7f23",
   "metadata": {},
   "outputs": [
    {
     "name": "stdout",
     "output_type": "stream",
     "text": [
      "Default\n",
      "__post_init__\n",
      "Circle(radius=5, area=78.5)\n"
     ]
    }
   ],
   "source": [
    "# __post_init__ runs after the auto-generated __init__ method.\n",
    "# Great for additional calculations or validations.\n",
    "\n",
    "@dataclass\n",
    "class Circle:\n",
    "    print(\"Default\")\n",
    "    radius: float\n",
    "    area: float = 0.0\n",
    "\n",
    "    def __post_init__(self):\n",
    "        print(\"__post_init__\")\n",
    "        self.area = 3.14 * self.radius ** 2\n",
    "\n",
    "c = Circle(5)\n",
    "print(c)  # Output: Circle(radius=5, area=78.5)\n"
   ]
  },
  {
   "cell_type": "code",
   "execution_count": 13,
   "id": "7a5306f4",
   "metadata": {},
   "outputs": [
    {
     "name": "stdout",
     "output_type": "stream",
     "text": [
      "Toyota Camry is rented.\n",
      "RentalCar(brand='Toyota', model='Camry', daily_rate=35.5, is_available=False)\n"
     ]
    }
   ],
   "source": [
    "from dataclasses import dataclass\n",
    "\n",
    "@dataclass\n",
    "class RentalCar:\n",
    "    brand: str\n",
    "    model: str\n",
    "    daily_rate: float\n",
    "    is_available: bool = True\n",
    "\n",
    "    def rent(self):\n",
    "        if self.is_available:\n",
    "            self.is_available = False\n",
    "            return f\"{self.brand} {self.model} is rented.\"\n",
    "        return f\"{self.brand} {self.model} is not available.\"\n",
    "\n",
    "car1 = RentalCar(\"Toyota\", \"Camry\", 35.5)\n",
    "print(car1.rent())  # Output: Toyota Camry is rented.\n",
    "print(car1)         # Output: RentalCar(brand='Toyota', model='Camry', daily_rate=35.5, is_available=False)\n"
   ]
  },
  {
   "cell_type": "code",
   "execution_count": null,
   "id": "4aa7dac5",
   "metadata": {},
   "outputs": [],
   "source": []
  }
 ],
 "metadata": {
  "kernelspec": {
   "display_name": ".venv",
   "language": "python",
   "name": "python3"
  },
  "language_info": {
   "codemirror_mode": {
    "name": "ipython",
    "version": 3
   },
   "file_extension": ".py",
   "mimetype": "text/x-python",
   "name": "python",
   "nbconvert_exporter": "python",
   "pygments_lexer": "ipython3",
   "version": "3.13.2"
  }
 },
 "nbformat": 4,
 "nbformat_minor": 5
}
