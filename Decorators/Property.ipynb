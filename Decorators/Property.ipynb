{
 "cells": [
  {
   "cell_type": "code",
   "execution_count": null,
   "metadata": {},
   "outputs": [
    {
     "name": "stdout",
     "output_type": "stream",
     "text": [
      "5\n",
      "10\n"
     ]
    }
   ],
   "source": [
    "# Advanced\n",
    "\n",
    "class Circle:\n",
    "    def __init__(self, radius):\n",
    "        self._radius = radius\n",
    "\n",
    "    def get_radius(self):\n",
    "        return self._radius\n",
    "\n",
    "    def set_radius(self, value):\n",
    "        if value >= 0:\n",
    "            self._radius = value\n",
    "        else:\n",
    "            raise ValueError(\"Radius must be positive\")\n",
    "\n",
    "    # Creating a property manually\n",
    "    radius = property(get_radius, set_radius)\n",
    "\n",
    "c = Circle(5)\n",
    "print(c.radius)  # Output: 5\n",
    "c.radius = 10\n",
    "print(c.radius)  # Output: 10\n"
   ]
  },
  {
   "cell_type": "code",
   "execution_count": 31,
   "metadata": {},
   "outputs": [
    {
     "name": "stdout",
     "output_type": "stream",
     "text": [
      "Calling __init__\n",
      "Calling radius\n",
      "5\n",
      "Calling diameter\n",
      "10\n",
      "Calling radius setter\n",
      "Calling radius\n",
      "10\n",
      "Calling diameter\n",
      "20\n"
     ]
    }
   ],
   "source": [
    "class Circle:\n",
    "    def __init__(self, radius):\n",
    "        print(\"Calling __init__\")\n",
    "        self._radius = radius\n",
    "\n",
    "    @property\n",
    "    def radius(self):\n",
    "        \"\"\"Get the radius of the circle.\"\"\"\n",
    "        print(\"Calling radius\")\n",
    "        return self._radius\n",
    "\n",
    "    @radius.setter\n",
    "    def radius(self, value):\n",
    "        \"\"\"Set the radius of the circle. Must be positive.\"\"\"\n",
    "        print(\"Calling radius setter\")\n",
    "        if value >= 0:\n",
    "            self._radius = value\n",
    "        else:\n",
    "            raise ValueError(\"Radius must be positive\")\n",
    "\n",
    "    @property\n",
    "    def diameter(self):\n",
    "        \"\"\"Get the diameter of the circle.\"\"\"\n",
    "        print(\"Calling diameter\")\n",
    "        return self._radius * 2\n",
    "\n",
    "# Usage\n",
    "c = Circle(5)\n",
    "print(c.radius)     # 5\n",
    "print(c.diameter)   # 10\n",
    "\n",
    "c.radius = 10\n",
    "print(c.radius)     # 10\n",
    "print(c.diameter)   # 20\n"
   ]
  },
  {
   "cell_type": "code",
   "execution_count": 32,
   "metadata": {},
   "outputs": [
    {
     "name": "stdout",
     "output_type": "stream",
     "text": [
      "John Doe\n",
      "Alice Smith\n"
     ]
    }
   ],
   "source": [
    "class Person:\n",
    "    def __init__(self, first_name, last_name):\n",
    "        self._first_name = first_name\n",
    "        self._last_name = last_name\n",
    "\n",
    "    @property\n",
    "    def full_name(self):\n",
    "        \"\"\"Return the full name.\"\"\"\n",
    "        return f\"{self._first_name} {self._last_name}\"\n",
    "\n",
    "    @full_name.setter\n",
    "    def full_name(self, name):\n",
    "        \"\"\"Set first and last name from a full name.\"\"\"\n",
    "        first, last = name.split(\" \")\n",
    "        self._first_name = first\n",
    "        self._last_name = last\n",
    "\n",
    "p = Person(\"John\", \"Doe\")\n",
    "print(p.full_name)  # Output: John Doe\n",
    "p.full_name = \"Alice Smith\"\n",
    "print(p.full_name)  # Output: Alice Smith\n"
   ]
  },
  {
   "cell_type": "code",
   "execution_count": 34,
   "metadata": {},
   "outputs": [
    {
     "name": "stdout",
     "output_type": "stream",
     "text": [
      "Loading data from file...\n",
      "Hello from class-based context manager!\n",
      "Learning Python made simple.\n",
      "\n",
      "Hello from class-based context manager!\n",
      "Learning Python made simple.\n",
      "\n"
     ]
    }
   ],
   "source": [
    "class DataLoader:\n",
    "    def __init__(self, filename):\n",
    "        self._filename = filename\n",
    "        self._data = None\n",
    "\n",
    "    @property\n",
    "    def data(self):\n",
    "        \"\"\"Load data only when accessed.\"\"\"\n",
    "        if self._data is None:\n",
    "            print(\"Loading data from file...\")\n",
    "            with open(self._filename, 'r') as file:\n",
    "                self._data = file.read()\n",
    "        return self._data\n",
    "\n",
    "loader = DataLoader(\"./sampleFiles/example.txt\")\n",
    "print(loader.data)  # Loading data from file... [file contents]\n",
    "print(loader.data)  # [file contents] (no loading message)"
   ]
  },
  {
   "cell_type": "code",
   "execution_count": 36,
   "metadata": {},
   "outputs": [
    {
     "name": "stdout",
     "output_type": "stream",
     "text": [
      "123\n"
     ]
    }
   ],
   "source": [
    "class Employee:\n",
    "    def __init__(self, emp_id):\n",
    "        self._emp_id = emp_id\n",
    "\n",
    "    @property\n",
    "    def emp_id(self):\n",
    "        \"\"\"Return the employee ID.\"\"\"\n",
    "        return self._emp_id\n",
    "\n",
    "e = Employee(123)\n",
    "print(e.emp_id)  # Output: 123\n",
    "# e.emp_id = 456   # ❌ AttributeError: can't set attribute"
   ]
  },
  {
   "cell_type": "code",
   "execution_count": 37,
   "metadata": {},
   "outputs": [
    {
     "name": "stdout",
     "output_type": "stream",
     "text": [
      "Calculating area...\n",
      "78.53975\n",
      "78.53975\n"
     ]
    }
   ],
   "source": [
    "class Circle:\n",
    "    def __init__(self, radius):\n",
    "        self._radius = radius\n",
    "        self._area = None\n",
    "\n",
    "    @property\n",
    "    def area(self):\n",
    "        \"\"\"Compute the area only once.\"\"\"\n",
    "        if self._area is None:\n",
    "            print(\"Calculating area...\")\n",
    "            self._area = 3.14159 * self._radius ** 2\n",
    "        return self._area\n",
    "\n",
    "c = Circle(5)\n",
    "print(c.area)  # Calculating area... 78.53975\n",
    "print(c.area)  # 78.53975 (cached result)\n"
   ]
  },
  {
   "cell_type": "code",
   "execution_count": 38,
   "metadata": {},
   "outputs": [
    {
     "name": "stdout",
     "output_type": "stream",
     "text": [
      "Generic Vehicle\n",
      "Car - A type of vehicle\n"
     ]
    }
   ],
   "source": [
    "class Vehicle:\n",
    "    @property\n",
    "    def description(self):\n",
    "        return \"Generic Vehicle\"\n",
    "\n",
    "class Car(Vehicle):\n",
    "    @property\n",
    "    def description(self):\n",
    "        return \"Car - A type of vehicle\"\n",
    "\n",
    "v = Vehicle()\n",
    "print(v.description)  # Output: Generic Vehicle\n",
    "\n",
    "c = Car()\n",
    "print(c.description)  # Output: Car - A type of vehicle"
   ]
  },
  {
   "cell_type": "code",
   "execution_count": 39,
   "metadata": {},
   "outputs": [
    {
     "name": "stdout",
     "output_type": "stream",
     "text": [
      "1180.0\n"
     ]
    }
   ],
   "source": [
    "class Product:\n",
    "    def __init__(self, base_price):\n",
    "        self._base_price = base_price\n",
    "\n",
    "    @property\n",
    "    def price(self):\n",
    "        \"\"\"Return the price including tax.\"\"\"\n",
    "        return self._base_price * (1 + self.tax_rate())\n",
    "\n",
    "    @staticmethod\n",
    "    def tax_rate():\n",
    "        return 0.18  # 18% GST\n",
    "\n",
    "p = Product(1000)\n",
    "print(p.price)  # Output: 1180.0\n"
   ]
  },
  {
   "cell_type": "code",
   "execution_count": 40,
   "metadata": {},
   "outputs": [
    {
     "name": "stdout",
     "output_type": "stream",
     "text": [
      "15\n"
     ]
    }
   ],
   "source": [
    "from dataclasses import dataclass\n",
    "\n",
    "@dataclass\n",
    "class Rectangle:\n",
    "    length: float\n",
    "    width: float\n",
    "\n",
    "    @property\n",
    "    def area(self):\n",
    "        return self.length * self.width\n",
    "\n",
    "rect = Rectangle(5, 3)\n",
    "print(rect.area)  # Output: 15\n"
   ]
  },
  {
   "cell_type": "code",
   "execution_count": 41,
   "metadata": {},
   "outputs": [
    {
     "name": "stdout",
     "output_type": "stream",
     "text": [
      "HELLO WORLD\n"
     ]
    }
   ],
   "source": [
    "class Document:\n",
    "    def __init__(self, content):\n",
    "        self._content = content\n",
    "\n",
    "    @property\n",
    "    def content(self):\n",
    "        \"\"\"Return content in the latest format.\"\"\"\n",
    "        return self._content.upper()  # Simulating a format change\n",
    "\n",
    "doc = Document(\"hello world\")\n",
    "print(doc.content)  # Output: HELLO WORLD\n"
   ]
  },
  {
   "cell_type": "code",
   "execution_count": null,
   "metadata": {},
   "outputs": [],
   "source": []
  }
 ],
 "metadata": {
  "kernelspec": {
   "display_name": ".venv",
   "language": "python",
   "name": "python3"
  },
  "language_info": {
   "codemirror_mode": {
    "name": "ipython",
    "version": 3
   },
   "file_extension": ".py",
   "mimetype": "text/x-python",
   "name": "python",
   "nbconvert_exporter": "python",
   "pygments_lexer": "ipython3",
   "version": "3.13.2"
  }
 },
 "nbformat": 4,
 "nbformat_minor": 2
}
