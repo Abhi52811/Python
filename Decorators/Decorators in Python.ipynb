{
 "cells": [
  {
   "cell_type": "code",
   "execution_count": null,
   "id": "9e13dbdc",
   "metadata": {},
   "outputs": [],
   "source": [
    "# Decorators modify the function\n",
    "def greet(fx):\n",
    "    def mfx():\n",
    "        print(\"good morning\")\n",
    "        fx()\n",
    "        print(\"Thanks for using this function\")\n",
    "    return mfx\n"
   ]
  },
  {
   "cell_type": "code",
   "execution_count": null,
   "id": "c4d8a5c2",
   "metadata": {},
   "outputs": [],
   "source": [
    "@greet\n",
    "def hello():\n",
    "    print(\"Hello world\")\n",
    "\n",
    "# in backend -> greet(hello)()\n",
    "hello()"
   ]
  },
  {
   "cell_type": "code",
   "execution_count": 2,
   "id": "fa9fd32a",
   "metadata": {},
   "outputs": [],
   "source": [
    "def new_greet(fx):\n",
    "    # mfx is called wrapper function\n",
    "    def mfx(*args,**kwargs):\n",
    "        print(\"good morning\")\n",
    "        fx(*args,**kwargs)\n",
    "        print(\"Thanks for using this function\")\n",
    "    return mfx\n"
   ]
  },
  {
   "cell_type": "code",
   "execution_count": 3,
   "id": "1eadb62d",
   "metadata": {},
   "outputs": [
    {
     "name": "stdout",
     "output_type": "stream",
     "text": [
      "good morning\n",
      "3\n",
      "Thanks for using this function\n"
     ]
    }
   ],
   "source": [
    "def add(a,b):\n",
    "    print(a+b)\n",
    "\n",
    "new_greet(add)(1,2)"
   ]
  },
  {
   "cell_type": "code",
   "execution_count": 4,
   "id": "5b2f4fe7",
   "metadata": {},
   "outputs": [],
   "source": [
    "'''\n",
    " *args -> taking args as a tuple\n",
    " **kargs -> taking args as a dictionary\n",
    "'''\n",
    "import time\n",
    "\n",
    "def timer_decorator(func):\n",
    "    def wrapper(*args, **kwargs):\n",
    "        print(\"decorator\")\n",
    "        start_time = time.time()  # Record the start time\n",
    "        result = func(*args, **kwargs)  # Call the original function\n",
    "        end_time = time.time()  # Record the end time\n",
    "        elapsed_time = end_time - start_time  # Calculate elapsed time\n",
    "        print(f\"{func.__name__} executed in {elapsed_time:.4f} seconds\")\n",
    "        return result  # Return the result of the original function\n",
    "    return wrapper  # Return the wrapper function\n"
   ]
  },
  {
   "cell_type": "code",
   "execution_count": 6,
   "id": "4d5de66b",
   "metadata": {},
   "outputs": [
    {
     "name": "stdout",
     "output_type": "stream",
     "text": [
      "decorator\n",
      "Executing original\n",
      "Slept for 2 seconds!\n",
      "sleep_for_seconds executed in 2.0005 seconds\n"
     ]
    }
   ],
   "source": [
    "@timer_decorator\n",
    "def sleep_for_seconds(seconds):\n",
    "    print(\"Executing original\")\n",
    "    time.sleep(seconds)\n",
    "    print(f\"Slept for {seconds} seconds!\")\n",
    "\n",
    "sleep_for_seconds(2)  # Sleep for 2 seconds\n"
   ]
  },
  {
   "cell_type": "code",
   "execution_count": 5,
   "id": "9df78a20",
   "metadata": {},
   "outputs": [
    {
     "name": "stdout",
     "output_type": "stream",
     "text": [
      "decorator\n",
      "sum_of_squares executed in 0.0899 seconds\n",
      "Result: 333332833333500000\n"
     ]
    }
   ],
   "source": [
    "@timer_decorator\n",
    "def sum_of_squares(n):\n",
    "    return sum(i**2 for i in range(n))\n",
    "\n",
    "result = sum_of_squares(1000000)  # Calculate sum of squares for the first 1 million numbers\n",
    "print(f\"Result: {result}\")"
   ]
  },
  {
   "cell_type": "code",
   "execution_count": null,
   "id": "574fe854",
   "metadata": {},
   "outputs": [],
   "source": []
  }
 ],
 "metadata": {
  "kernelspec": {
   "display_name": ".venv",
   "language": "python",
   "name": "python3"
  },
  "language_info": {
   "codemirror_mode": {
    "name": "ipython",
    "version": 3
   },
   "file_extension": ".py",
   "mimetype": "text/x-python",
   "name": "python",
   "nbconvert_exporter": "python",
   "pygments_lexer": "ipython3",
   "version": "3.13.2"
  }
 },
 "nbformat": 4,
 "nbformat_minor": 5
}
