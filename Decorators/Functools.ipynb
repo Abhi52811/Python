{
 "cells": [
  {
   "cell_type": "code",
   "execution_count": null,
   "id": "0978c3b9",
   "metadata": {},
   "outputs": [],
   "source": [
    "'''\n",
    "Functools\n",
    "\n",
    "The functools.cache is a decorator introduced in Python 3.9.\n",
    "It’s used to cache the result of a function call to improve performance.\n",
    "The next time the function is called with the same arguments, the cached result is returned immediately, rather than recomputing it.\n",
    "It uses a simple dictionary-based caching mechanism.\n",
    "The keys are the arguments passed to the function.\n",
    "The values are the return results.\n",
    "If the function is called again with the same arguments, the cached result is returned.\n",
    "'''"
   ]
  },
  {
   "cell_type": "code",
   "execution_count": 1,
   "id": "e7e24edf",
   "metadata": {},
   "outputs": [],
   "source": [
    "from functools import cache\n",
    "\n",
    "@cache\n",
    "def expensive_function(x):\n",
    "    print(f\"Computing for {x}...\")\n",
    "    return x * x"
   ]
  },
  {
   "cell_type": "code",
   "execution_count": 2,
   "id": "cf224f72",
   "metadata": {},
   "outputs": [
    {
     "name": "stdout",
     "output_type": "stream",
     "text": [
      "Computing for 5...\n",
      "25\n",
      "25\n"
     ]
    }
   ],
   "source": [
    "print(expensive_function(5))  # Output: Computing for 5... 25\n",
    "print(expensive_function(5))  # Output: 25 (No computation)"
   ]
  },
  {
   "cell_type": "code",
   "execution_count": 3,
   "id": "9910eed7",
   "metadata": {},
   "outputs": [
    {
     "name": "stdout",
     "output_type": "stream",
     "text": [
      "9227465\n"
     ]
    }
   ],
   "source": [
    "from functools import cache\n",
    "\n",
    "@cache\n",
    "def fib(n):\n",
    "    if n <= 1:\n",
    "        return n\n",
    "    return fib(n - 1) + fib(n - 2)\n",
    "\n",
    "print(fib(35))  # Much faster"
   ]
  },
  {
   "cell_type": "code",
   "execution_count": null,
   "id": "4b56bf3d",
   "metadata": {},
   "outputs": [],
   "source": [
    "'''\n",
    "functools.wraps is a decorator helper in Python.\n",
    "It’s used inside a decorator to copy metadata (like function name, docstring, annotations) from the original function to the wrapper function.\n",
    "When you write a decorator, you typically define an inner function that wraps the original function. But by default, the wrapper function loses the original function’s metadata:\n",
    "    The wrapper’s name becomes the inner function’s name (often wrapper).\n",
    "    The docstring and annotations of the original function get lost.\n",
    "    This can make debugging, introspection, and documentation harder.\n",
    "Using @wraps preserves these details, so the wrapped function looks more like the original.\n",
    "\n",
    "'''"
   ]
  },
  {
   "cell_type": "code",
   "execution_count": 4,
   "id": "ecad55aa",
   "metadata": {},
   "outputs": [
    {
     "name": "stdout",
     "output_type": "stream",
     "text": [
      "Before function call\n",
      "Hello, Abhishek!\n",
      "After function call\n",
      "greet\n",
      "Say hello\n"
     ]
    }
   ],
   "source": [
    "from functools import wraps\n",
    "\n",
    "def my_decorator(func):\n",
    "    @wraps(func)  # <--- This copies metadata from func to wrapper\n",
    "    def wrapper(*args, **kwargs):\n",
    "        print(\"Before function call\")\n",
    "        result = func(*args, **kwargs)\n",
    "        print(\"After function call\")\n",
    "        return result\n",
    "    return wrapper\n",
    "\n",
    "@my_decorator\n",
    "def greet(name):\n",
    "    \"\"\"Say hello\"\"\"\n",
    "    print(f\"Hello, {name}!\")\n",
    "\n",
    "greet(\"Abhishek\")\n",
    "print(greet.__name__)  # Output: greet (not 'wrapper')\n",
    "print(greet.__doc__)   # Output: Say hello"
   ]
  },
  {
   "cell_type": "code",
   "execution_count": 5,
   "id": "24ea360f",
   "metadata": {},
   "outputs": [
    {
     "name": "stdout",
     "output_type": "stream",
     "text": [
      "Before function call\n",
      "Hello, Abhishek!\n",
      "wrapper\n",
      "None\n"
     ]
    }
   ],
   "source": [
    "def my_decorator(func):\n",
    "    def wrapper(*args, **kwargs):\n",
    "        print(\"Before function call\")\n",
    "        return func(*args, **kwargs)\n",
    "    return wrapper\n",
    "\n",
    "@my_decorator\n",
    "def greet(name):\n",
    "    \"\"\"This function greets a person.\"\"\"\n",
    "    print(f\"Hello, {name}!\")\n",
    "\n",
    "greet(\"Abhishek\")\n",
    "\n",
    "print(greet.__name__)  # Output: wrapper\n",
    "print(greet.__doc__)   # Output: None"
   ]
  },
  {
   "cell_type": "code",
   "execution_count": null,
   "id": "2eda21c2",
   "metadata": {},
   "outputs": [],
   "source": []
  }
 ],
 "metadata": {
  "kernelspec": {
   "display_name": ".venv",
   "language": "python",
   "name": "python3"
  },
  "language_info": {
   "codemirror_mode": {
    "name": "ipython",
    "version": 3
   },
   "file_extension": ".py",
   "mimetype": "text/x-python",
   "name": "python",
   "nbconvert_exporter": "python",
   "pygments_lexer": "ipython3",
   "version": "3.13.2"
  }
 },
 "nbformat": 4,
 "nbformat_minor": 5
}
