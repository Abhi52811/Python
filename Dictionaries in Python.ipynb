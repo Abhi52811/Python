{
 "cells": [
  {
   "cell_type": "code",
   "execution_count": 1,
   "metadata": {},
   "outputs": [
    {
     "name": "stdout",
     "output_type": "stream",
     "text": [
      "Human being\n"
     ]
    }
   ],
   "source": [
    "dict = {\"harry\": \"Human being\", \"Spoon\": \"Object\"}\n",
    "print(dict[\"harry\"])"
   ]
  },
  {
   "cell_type": "code",
   "execution_count": 2,
   "metadata": {},
   "outputs": [
    {
     "name": "stdout",
     "output_type": "stream",
     "text": [
      "Shubham\n"
     ]
    }
   ],
   "source": [
    "dict = {344: \"Harry\",\n",
    "        56: \"Shubham\",\n",
    "        678: \"Zakir\"}\n",
    "print(dict[56])"
   ]
  },
  {
   "cell_type": "code",
   "execution_count": 3,
   "metadata": {},
   "outputs": [
    {
     "name": "stdout",
     "output_type": "stream",
     "text": [
      "{'name1': 'Harry', 'name2': 'Shubham', 'name3': 'Zakir'}\n",
      "Shubham\n",
      "Zakir\n"
     ]
    }
   ],
   "source": [
    "dict = {\"name1\": \"Harry\",\n",
    "        \"name2\": \"Shubham\",\n",
    "        \"name3\": \"Zakir\"}\n",
    "print(dict)\n",
    "print(dict[\"name2\"])\n",
    "print(dict.get(\"name3\"))"
   ]
  },
  {
   "cell_type": "code",
   "execution_count": 4,
   "metadata": {},
   "outputs": [
    {
     "name": "stdout",
     "output_type": "stream",
     "text": [
      "{'name1': 'Harry', 'name2': 'Shubham', 'name3': 'Zakir'}\n",
      "dict_keys(['name1', 'name2', 'name3'])\n",
      "dict_values(['Harry', 'Shubham', 'Zakir'])\n"
     ]
    }
   ],
   "source": [
    "dict = {\"name1\": \"Harry\",\n",
    "        \"name2\": \"Shubham\",\n",
    "        \"name3\": \"Zakir\"}\n",
    "print(dict)\n",
    "print(dict.keys())\n",
    "print(dict.values())"
   ]
  },
  {
   "cell_type": "code",
   "execution_count": 5,
   "metadata": {},
   "outputs": [
    {
     "name": "stdout",
     "output_type": "stream",
     "text": [
      "Harry\n",
      "Shubham\n",
      "Zakir\n",
      "Value : Harry\n",
      "Value : Shubham\n",
      "Value : Zakir\n"
     ]
    }
   ],
   "source": [
    "for key in dict.keys():\n",
    "    print(f\"{dict[key]}\")\n",
    "\n",
    "for value in dict.values():\n",
    "    print(f\"Value : {value}\")\n",
    "\n"
   ]
  },
  {
   "cell_type": "code",
   "execution_count": 6,
   "metadata": {},
   "outputs": [
    {
     "name": "stdout",
     "output_type": "stream",
     "text": [
      "dict_items([('name1', 'Harry'), ('name2', 'Shubham'), ('name3', 'Zakir')])\n",
      "name1 : Harry\n",
      "name2 : Shubham\n",
      "name3 : Zakir\n"
     ]
    }
   ],
   "source": [
    "print(dict.items())\n",
    "for key,value in dict.items():\n",
    "    print(f\"{key} : {value}\")"
   ]
  },
  {
   "cell_type": "code",
   "execution_count": null,
   "metadata": {},
   "outputs": [],
   "source": []
  }
 ],
 "metadata": {
  "kernelspec": {
   "display_name": ".venv",
   "language": "python",
   "name": "python3"
  },
  "language_info": {
   "codemirror_mode": {
    "name": "ipython",
    "version": 3
   },
   "file_extension": ".py",
   "mimetype": "text/x-python",
   "name": "python",
   "nbconvert_exporter": "python",
   "pygments_lexer": "ipython3",
   "version": "3.13.2"
  }
 },
 "nbformat": 4,
 "nbformat_minor": 2
}
