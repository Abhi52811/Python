{
 "cells": [
  {
   "cell_type": "code",
   "execution_count": 4,
   "id": "be131100",
   "metadata": {},
   "outputs": [
    {
     "data": {
      "text/plain": [
       "'\\nWhat is methodcaller?\\nmethodcaller creates a callable (function-like object) that calls a method by name on any given object. \\nInstead of calling a method directly, you create a function that calls that method, optionally with arguments, on whatever object you give it.\\n'"
      ]
     },
     "execution_count": 4,
     "metadata": {},
     "output_type": "execute_result"
    }
   ],
   "source": [
    "\"\"\"\n",
    "What is methodcaller?\n",
    "methodcaller creates a callable (function-like object) that calls a method by name on any given object. \n",
    "Instead of calling a method directly, you create a function that calls that method, optionally with arguments, on whatever object you give it.\n",
    "\"\"\""
   ]
  },
  {
   "cell_type": "code",
   "execution_count": 1,
   "id": "a308eaec",
   "metadata": {},
   "outputs": [
    {
     "name": "stdout",
     "output_type": "stream",
     "text": [
      "HELLO\n"
     ]
    }
   ],
   "source": [
    "from operator import methodcaller\n",
    "\n",
    "upper_caller = methodcaller('upper')\n",
    "print(upper_caller('hello'))  # Output: HELLO"
   ]
  },
  {
   "cell_type": "code",
   "execution_count": 2,
   "id": "b6d92080",
   "metadata": {},
   "outputs": [
    {
     "name": "stdout",
     "output_type": "stream",
     "text": [
      "bonono\n"
     ]
    }
   ],
   "source": [
    "from operator import methodcaller\n",
    "\n",
    "replace_caller = methodcaller('replace', 'a', 'o')\n",
    "print(replace_caller('banana'))  # Output: bonono"
   ]
  },
  {
   "cell_type": "code",
   "execution_count": 3,
   "id": "682da177",
   "metadata": {},
   "outputs": [
    {
     "name": "stdout",
     "output_type": "stream",
     "text": [
      "['HELLO', 'WORLD', 'PYTHON']\n"
     ]
    }
   ],
   "source": [
    "from operator import methodcaller\n",
    "\n",
    "words = ['hello', 'world', 'python']\n",
    "upper_words = list(map(methodcaller('upper'), words))\n",
    "print(upper_words)  # Output: ['HELLO', 'WORLD', 'PYTHON']"
   ]
  },
  {
   "cell_type": "code",
   "execution_count": null,
   "id": "66c6d69c",
   "metadata": {},
   "outputs": [],
   "source": []
  }
 ],
 "metadata": {
  "kernelspec": {
   "display_name": ".venv",
   "language": "python",
   "name": "python3"
  },
  "language_info": {
   "codemirror_mode": {
    "name": "ipython",
    "version": 3
   },
   "file_extension": ".py",
   "mimetype": "text/x-python",
   "name": "python",
   "nbconvert_exporter": "python",
   "pygments_lexer": "ipython3",
   "version": "3.13.2"
  }
 },
 "nbformat": 4,
 "nbformat_minor": 5
}
