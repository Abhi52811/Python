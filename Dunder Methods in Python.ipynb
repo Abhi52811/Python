{
 "cells": [
  {
   "cell_type": "code",
   "execution_count": 10,
   "metadata": {},
   "outputs": [
    {
     "data": {
      "text/plain": [
       "'\\nMagic/Dunder Methods in Python\\nThese are special methods that you can define in your classes, and when invoked, they give you a powerful way to manipulate objects and their behaviour.\\n\\nMagic methods, also known as “dunders” from the double underscores surrounding their names, are powerful tools that allow you to customize the behaviour of your classes. \\nThey are used to implement special methods such as the addition, subtraction and comparison operators, as well as some more advanced techniques like descriptors and properties.\\n\\nLet’s take a look at some of the most commonly used magic methods in Python.\\n'"
      ]
     },
     "execution_count": 10,
     "metadata": {},
     "output_type": "execute_result"
    }
   ],
   "source": [
    "'''\n",
    "Magic/Dunder Methods in Python\n",
    "These are special methods that you can define in your classes, and when invoked, they give you a powerful way to manipulate objects and their behaviour.\n",
    "\n",
    "Magic methods, also known as “dunders” from the double underscores surrounding their names, are powerful tools that allow you to customize the behaviour of your classes. \n",
    "They are used to implement special methods such as the addition, subtraction and comparison operators, as well as some more advanced techniques like descriptors and properties.\n",
    "\n",
    "Let’s take a look at some of the most commonly used magic methods in Python.\n",
    "'''"
   ]
  },
  {
   "cell_type": "code",
   "execution_count": 11,
   "metadata": {},
   "outputs": [
    {
     "data": {
      "text/plain": [
       "'\\n__init__ method\\nThe init method is a special method that is automatically invoked when you create a new instance of a class. \\nThis method is responsible for setting up the object’s initial state, and it is where you would typically define any instance variables that you need. \\nAlso called \"constructor\", we have discussed this method already\\n'"
      ]
     },
     "execution_count": 11,
     "metadata": {},
     "output_type": "execute_result"
    }
   ],
   "source": [
    "'''\n",
    "__init__ method\n",
    "The init method is a special method that is automatically invoked when you create a new instance of a class. \n",
    "This method is responsible for setting up the object’s initial state, and it is where you would typically define any instance variables that you need. \n",
    "Also called \"constructor\", we have discussed this method already\n",
    "'''"
   ]
  },
  {
   "cell_type": "code",
   "execution_count": 12,
   "metadata": {},
   "outputs": [
    {
     "data": {
      "text/plain": [
       "'\\n__str__ and __repr__ methods\\nThe str and repr methods are both used to convert an object to a string representation. \\nThe str method is used when you want to print out an object, while the repr method is used when you want to get a string representation of an object that can be used to recreate the object.\\n'"
      ]
     },
     "execution_count": 12,
     "metadata": {},
     "output_type": "execute_result"
    }
   ],
   "source": [
    "'''\n",
    "__str__ and __repr__ methods\n",
    "The str and repr methods are both used to convert an object to a string representation. \n",
    "The str method is used when you want to print out an object, while the repr method is used when you want to get a string representation of an object that can be used to recreate the object.\n",
    "'''"
   ]
  },
  {
   "cell_type": "code",
   "execution_count": 13,
   "metadata": {},
   "outputs": [
    {
     "data": {
      "text/plain": [
       "'\\n__len__ method\\nThe len method is used to get the length of an object. \\nThis is useful when you want to be able to find the size of a data structure, such as a list or dictionary.\\n'"
      ]
     },
     "execution_count": 13,
     "metadata": {},
     "output_type": "execute_result"
    }
   ],
   "source": [
    "'''\n",
    "__len__ method\n",
    "The len method is used to get the length of an object. \n",
    "This is useful when you want to be able to find the size of a data structure, such as a list or dictionary.\n",
    "'''"
   ]
  },
  {
   "cell_type": "code",
   "execution_count": 14,
   "metadata": {},
   "outputs": [
    {
     "data": {
      "text/plain": [
       "'\\n__call__ method\\nThe call method is used to make an object callable, meaning that you can pass it as a parameter to a function and it will be executed when the function is called. \\nThis is an incredibly powerful tool that allows you to create objects that behave like functions.\\n\\nThese are just a few of the many magic methods available in Python. \\nThey are incredibly powerful tools that allow you to customize the behaviour of your objects, and can make your code much cleaner and easier to understand. \\nSo if you’re looking for a way to take your Python code to the next level, take some time to learn about these magic methods.\\n'"
      ]
     },
     "execution_count": 14,
     "metadata": {},
     "output_type": "execute_result"
    }
   ],
   "source": [
    "'''\n",
    "__call__ method\n",
    "The call method is used to make an object callable, meaning that you can pass it as a parameter to a function and it will be executed when the function is called. \n",
    "This is an incredibly powerful tool that allows you to create objects that behave like functions.\n",
    "\n",
    "These are just a few of the many magic methods available in Python. \n",
    "They are incredibly powerful tools that allow you to customize the behaviour of your objects, and can make your code much cleaner and easier to understand. \n",
    "So if you’re looking for a way to take your Python code to the next level, take some time to learn about these magic methods.\n",
    "'''"
   ]
  },
  {
   "cell_type": "code",
   "execution_count": null,
   "metadata": {},
   "outputs": [],
   "source": [
    "\"\"\"\n",
    "| Dunder Method              | Purpose                                          |\n",
    "| -------------------------- | ------------------------------------------------ |\n",
    "| `__init__`                 | Constructor, initializes object state            |\n",
    "| `__len__`                  | Return length (like `len(obj)`)                  |\n",
    "| `__str__`                  | Human-readable string (`print(obj)`)             |\n",
    "| `__repr__`                 | Official string (for debugging, `repr(obj)`)     |\n",
    "| `__call__`                 | Make instance callable like a function           |\n",
    "| `__eq__`, `__lt__`         | Equality and less-than comparisons               |\n",
    "| `__add__`                  | Overload `+` operator                            |\n",
    "| `__hash__`                 | Make object hashable (usable in sets, dict keys) |\n",
    "| `__getattr__`              | Called when attribute not found                  |\n",
    "| `__setattr__`              | Intercept attribute assignment                   |\n",
    "| `__delattr__`              | Intercept attribute deletion                     |\n",
    "| `__enter__`, `__exit__`    | Context manager support for `with` statement     |\n",
    "| `__bool__`                 | Truth value testing (`bool(obj)`)                |\n",
    "| `__getitem__`              | Indexing support (`obj[index]`)                  |\n",
    "| `__setitem__`              | Assignment to indexed elements                   |\n",
    "| `__delitem__`              | Deleting indexed elements                        |\n",
    "| `__iter__`, `__reversed__` | Support iteration and reversed iteration         |\n",
    "| `__bytes__`                | Convert to bytes                                 |\n",
    "| `__format__`               | Custom formatting (`format(obj, spec)`)          |\n",
    "| `__sizeof__`               | Memory size reporting                            |\n",
    "\n",
    "\"\"\""
   ]
  },
  {
   "cell_type": "code",
   "execution_count": 15,
   "metadata": {},
   "outputs": [],
   "source": [
    "class Employee:\n",
    "    def __init__(self, name, salary=0):\n",
    "        self.name = name\n",
    "        self.salary = salary\n",
    "\n",
    "    # Length of the employee's name\n",
    "    def __len__(self):\n",
    "        return len(self.name)\n",
    "\n",
    "    # String representation for humans (print, str())\n",
    "    def __str__(self):\n",
    "        return f\"The name of the employee is {self.name}\"\n",
    "\n",
    "    # Official string representation (repr())\n",
    "    def __repr__(self):\n",
    "        return f\"Employee(name='{self.name}', salary={self.salary})\"\n",
    "\n",
    "    # When the object is called like a function: emp()\n",
    "    def __call__(self):\n",
    "        print(f\"Hello, I am {self.name} and I earn {self.salary}!\")\n",
    "\n",
    "    # Equality comparison: emp1 == emp2\n",
    "    def __eq__(self, other):\n",
    "        if isinstance(other, Employee):\n",
    "            return self.name == other.name and self.salary == other.salary\n",
    "        return False\n",
    "\n",
    "    # Less than: emp1 < emp2 (by salary)\n",
    "    def __lt__(self, other):\n",
    "        if isinstance(other, Employee):\n",
    "            return self.salary < other.salary\n",
    "        return NotImplemented\n",
    "\n",
    "    # Addition: emp1 + emp2 (combine salaries)\n",
    "    def __add__(self, other):\n",
    "        if isinstance(other, Employee):\n",
    "            return Employee(f\"{self.name} & {other.name}\", self.salary + other.salary)\n",
    "        return NotImplemented\n",
    "\n",
    "    # Hash: allows Employee to be used as dict keys or set elements\n",
    "    def __hash__(self):\n",
    "        return hash((self.name, self.salary))\n",
    "\n",
    "    # Attribute access logging\n",
    "    def __getattr__(self, attr):\n",
    "        # Called only if attribute not found normally\n",
    "        print(f\"Attribute '{attr}' not found!\")\n",
    "        return None\n",
    "\n",
    "    # Attribute setting (called before setting)\n",
    "    def __setattr__(self, attr, value):\n",
    "        print(f\"Setting attribute '{attr}' to {value}\")\n",
    "        # Use default setattr to actually set attribute, to avoid recursion\n",
    "        super().__setattr__(attr, value)\n",
    "\n",
    "    # Attribute deletion\n",
    "    def __delattr__(self, attr):\n",
    "        print(f\"Deleting attribute '{attr}'\")\n",
    "        super().__delattr__(attr)\n",
    "\n",
    "    # Context manager enter (with statement)\n",
    "    def __enter__(self):\n",
    "        print(f\"Entering context for {self.name}\")\n",
    "        return self\n",
    "\n",
    "    # Context manager exit\n",
    "    def __exit__(self, exc_type, exc_val, exc_tb):\n",
    "        print(f\"Exiting context for {self.name}\")\n",
    "        if exc_type:\n",
    "            print(f\"Exception: {exc_type}, {exc_val}\")\n",
    "        # Returning False propagates exception if any\n",
    "        return False\n",
    "\n",
    "    # Boolean value of the object\n",
    "    def __bool__(self):\n",
    "        return self.salary > 0\n",
    "\n",
    "    # Indexing support: emp[0] returns first character of name\n",
    "    def __getitem__(self, index):\n",
    "        return self.name[index]\n",
    "\n",
    "    # Setting item: emp[0] = 'X' (immutable strings mean we'll replace name)\n",
    "    def __setitem__(self, index, value):\n",
    "        print(\"Strings are immutable, cannot assign single characters\")\n",
    "        # Or you could rebuild name, but better to just show warning\n",
    "\n",
    "    # Deleting item (not really possible on strings, so warn)\n",
    "    def __delitem__(self, index):\n",
    "        print(\"Strings are immutable, cannot delete characters\")\n",
    "\n",
    "    # Length hint for container (same as len)\n",
    "    def __length_hint__(self):\n",
    "        return len(self.name)\n",
    "\n",
    "    # Iterator protocol: allow looping over characters in name\n",
    "    def __iter__(self):\n",
    "        return iter(self.name)\n",
    "\n",
    "    # Reversed iterator\n",
    "    def __reversed__(self):\n",
    "        return reversed(self.name)\n",
    "\n",
    "    # Representation as bytes (encoding name to utf-8)\n",
    "    def __bytes__(self):\n",
    "        return self.name.encode('utf-8')\n",
    "\n",
    "    # Format specification support\n",
    "    def __format__(self, format_spec):\n",
    "        if format_spec == 'u':  # uppercase name\n",
    "            return self.name.upper()\n",
    "        elif format_spec == 'l':  # lowercase name\n",
    "            return self.name.lower()\n",
    "        else:\n",
    "            return self.__str__()\n",
    "\n",
    "    # Length in bits of salary\n",
    "    def __sizeof__(self):\n",
    "        import sys\n",
    "        return sys.getsizeof(self.name) + sys.getsizeof(self.salary)\n",
    "\n",
    "\n"
   ]
  },
  {
   "cell_type": "code",
   "execution_count": 16,
   "metadata": {},
   "outputs": [
    {
     "name": "stdout",
     "output_type": "stream",
     "text": [
      "Setting attribute 'name' to Alice\n",
      "Setting attribute 'salary' to 50000\n",
      "Setting attribute 'name' to Bob\n",
      "Setting attribute 'salary' to 60000\n",
      "The name of the employee is Alice\n",
      "Employee(name='Alice', salary=50000)\n",
      "5\n",
      "Hello, I am Alice and I earn 50000!\n",
      "False\n",
      "True\n",
      "Setting attribute 'name' to Alice & Bob\n",
      "Setting attribute 'salary' to 110000\n",
      "The name of the employee is Alice & Bob\n",
      "True\n",
      "A\n",
      "A l i c e \n",
      "Entering context for Alice\n",
      "Inside with block\n",
      "Exiting context for Alice\n",
      "ALICE\n",
      "b'Alice'\n",
      "74\n",
      "Attribute 'department' not found!\n",
      "None\n",
      "Setting attribute 'department' to HR\n",
      "Deleting attribute 'department'\n"
     ]
    }
   ],
   "source": [
    "# Testing the class\n",
    "\n",
    "emp1 = Employee(\"Alice\", 50000)\n",
    "emp2 = Employee(\"Bob\", 60000)\n",
    "\n",
    "print(emp1)              # __str__\n",
    "print(repr(emp1))        # __repr__\n",
    "print(len(emp1))         # __len__\n",
    "emp1()                   # __call__\n",
    "\n",
    "print(emp1 == emp2)      # __eq__\n",
    "print(emp1 < emp2)       # __lt__\n",
    "\n",
    "emp3 = emp1 + emp2       # __add__\n",
    "print(emp3)\n",
    "\n",
    "print(bool(emp1))        # __bool__\n",
    "\n",
    "print(emp1[0])           # __getitem__\n",
    "\n",
    "for c in emp1:           # __iter__\n",
    "    print(c, end=' ')\n",
    "print()\n",
    "\n",
    "with emp1:               # __enter__ and __exit__\n",
    "    print(\"Inside with block\")\n",
    "\n",
    "print(format(emp1, 'u')) # __format__\n",
    "print(bytes(emp1))       # __bytes__\n",
    "print(emp1.__sizeof__()) # __sizeof__\n",
    "\n",
    "# Access undefined attribute\n",
    "print(emp1.department)   # __getattr__\n",
    "\n",
    "# Set an attribute\n",
    "emp1.department = \"HR\"   # __setattr__\n",
    "del emp1.department      # __delattr__"
   ]
  },
  {
   "cell_type": "code",
   "execution_count": null,
   "metadata": {},
   "outputs": [],
   "source": []
  }
 ],
 "metadata": {
  "kernelspec": {
   "display_name": ".venv",
   "language": "python",
   "name": "python3"
  },
  "language_info": {
   "codemirror_mode": {
    "name": "ipython",
    "version": 3
   },
   "file_extension": ".py",
   "mimetype": "text/x-python",
   "name": "python",
   "nbconvert_exporter": "python",
   "pygments_lexer": "ipython3",
   "version": "3.13.2"
  }
 },
 "nbformat": 4,
 "nbformat_minor": 2
}
