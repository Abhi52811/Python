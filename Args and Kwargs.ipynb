{
 "cells": [
  {
   "cell_type": "code",
   "execution_count": null,
   "id": "49fb70e3",
   "metadata": {},
   "outputs": [
    {
     "name": "stdout",
     "output_type": "stream",
     "text": [
      "Hello, Alice!\n",
      "Hello, Bob!\n",
      "Hello, Charlie!\n"
     ]
    }
   ],
   "source": [
    "# args\n",
    "def greet(*names):\n",
    "    for name in names:\n",
    "        print(f\"Hello, {name}!\")\n",
    "\n",
    "greet(\"Alice\", \"Bob\", \"Charlie\")"
   ]
  },
  {
   "cell_type": "code",
   "execution_count": 3,
   "id": "c4223447",
   "metadata": {},
   "outputs": [
    {
     "name": "stdout",
     "output_type": "stream",
     "text": [
      "name: Alice\n",
      "age: 30\n",
      "city: New York\n"
     ]
    }
   ],
   "source": [
    "# kwargs\n",
    "\n",
    "def describe_person(**details):\n",
    "    for key, value in details.items():\n",
    "        print(f\"{key}: {value}\")\n",
    "\n",
    "describe_person(name=\"Alice\", age=30, city=\"New York\")\n"
   ]
  },
  {
   "cell_type": "code",
   "execution_count": 2,
   "id": "2be07d98",
   "metadata": {},
   "outputs": [
    {
     "name": "stdout",
     "output_type": "stream",
     "text": [
      "Names: ('Alice', 'Bob')\n",
      "Details: {'age': 30, 'city': 'New York'}\n"
     ]
    }
   ],
   "source": [
    "# args and kwargs\n",
    "\n",
    "def introduce(*args, **kwargs):\n",
    "    print(\"Names:\", args)\n",
    "    print(\"Details:\", kwargs)\n",
    "\n",
    "introduce(\"Alice\", \"Bob\", age=30, city=\"New York\")\n"
   ]
  },
  {
   "cell_type": "code",
   "execution_count": 4,
   "id": "e0b0c2a6",
   "metadata": {},
   "outputs": [
    {
     "name": "stdout",
     "output_type": "stream",
     "text": [
      "Hello\n",
      "Names: ('Alice', 'Bob')\n",
      "Details: {'age': 30, 'city': 'New York'}\n"
     ]
    }
   ],
   "source": [
    "def introduce(greeting, *args, **kwargs):\n",
    "    print(greeting)\n",
    "    print(\"Names:\", args)\n",
    "    print(\"Details:\", kwargs)\n",
    "\n",
    "introduce(\"Hello\", \"Alice\", \"Bob\", age=30, city=\"New York\")"
   ]
  },
  {
   "cell_type": "code",
   "execution_count": null,
   "id": "08c813cb",
   "metadata": {},
   "outputs": [
    {
     "name": "stdout",
     "output_type": "stream",
     "text": [
      "a=1, b=2\n",
      "a=1, b=2\n"
     ]
    }
   ],
   "source": [
    "# means that all parameters after it must be passed as keyword arguments.\n",
    "\n",
    "def func(a, *, b):\n",
    "    print(f\"a={a}, b={b}\")\n",
    "\n",
    "func(1, b=2)     # Works: a=1 (positional), b=2 (keyword)\n",
    "func(a=1, b=2)   # Works: both keywords\n",
    "# func(1, 2)       # Error! 'b' must be keyword, cannot be positional here"
   ]
  },
  {
   "cell_type": "code",
   "execution_count": 8,
   "id": "1222ce9f",
   "metadata": {},
   "outputs": [
    {
     "name": "stdout",
     "output_type": "stream",
     "text": [
      "a=1, b=2\n",
      "a=1, b=2\n"
     ]
    }
   ],
   "source": [
    "# means that all parameters before it must be passed positionally (without keywords).\n",
    "\n",
    "def func(a, /, b):\n",
    "    print(f\"a={a}, b={b}\")\n",
    "\n",
    "func(1, 2)       # Works: a=1, b=2 (both positional)\n",
    "func(1, b=2)     # Works: a=1 (positional), b=2 (keyword)\n",
    "# func(a=1, b=2)   # Error! 'a' must be positional, cannot use keyword here"
   ]
  },
  {
   "cell_type": "code",
   "execution_count": 9,
   "id": "73f1e6b1",
   "metadata": {},
   "outputs": [
    {
     "name": "stdout",
     "output_type": "stream",
     "text": [
      "a=1, b=2, c=3\n",
      "a=1, b=2, c=3\n"
     ]
    }
   ],
   "source": [
    "def func(a, /, b, *, c):\n",
    "    print(f\"a={a}, b={b}, c={c}\")\n",
    "\n",
    "func(1, 2, c=3)     # ✅ Valid\n",
    "func(1, b=2, c=3)   # ✅ Valid\n",
    "# func(a=1, b=2, c=3) # ❌ Error! 'a' must be positional\n",
    "# func(1, 2, 3)       # ❌ Error! 'c' must be keyword\n"
   ]
  },
  {
   "cell_type": "code",
   "execution_count": null,
   "id": "c90f3def",
   "metadata": {},
   "outputs": [
    {
     "name": "stdout",
     "output_type": "stream",
     "text": [
      "10\n",
      "Hello Abhishek, you are 25 years old.\n"
     ]
    }
   ],
   "source": [
    "# Unpacking in function calls\n",
    "def add(x, y):\n",
    "    return x + y\n",
    "\n",
    "nums = (3, 7)\n",
    "print(add(*nums))  # Output: 10"
   ]
  },
  {
   "cell_type": "code",
   "execution_count": 11,
   "id": "55887599",
   "metadata": {},
   "outputs": [
    {
     "name": "stdout",
     "output_type": "stream",
     "text": [
      "Hello Abhishek, you are 25 years old.\n"
     ]
    }
   ],
   "source": [
    "# Unpacking dictionaries\n",
    "def greet(name, age):\n",
    "    print(f\"Hello {name}, you are {age} years old.\")\n",
    "\n",
    "info = {'name': 'Abhishek', 'age': 25}\n",
    "greet(**info)  # Output: Hello Abhishek, you are 25 years old."
   ]
  },
  {
   "cell_type": "code",
   "execution_count": 12,
   "id": "6f6bd8ae",
   "metadata": {},
   "outputs": [
    {
     "name": "stdout",
     "output_type": "stream",
     "text": [
      "Start\n",
      "End\n",
      "16\n"
     ]
    }
   ],
   "source": [
    "multi_line = lambda x: (print(\"Start\"), x**2, print(\"End\"))[-2]\n",
    "print(multi_line(4))  # Output: Start \\n End \\n 16"
   ]
  },
  {
   "cell_type": "code",
   "execution_count": null,
   "id": "3e216cee",
   "metadata": {},
   "outputs": [],
   "source": []
  }
 ],
 "metadata": {
  "kernelspec": {
   "display_name": ".venv",
   "language": "python",
   "name": "python3"
  },
  "language_info": {
   "codemirror_mode": {
    "name": "ipython",
    "version": 3
   },
   "file_extension": ".py",
   "mimetype": "text/x-python",
   "name": "python",
   "nbconvert_exporter": "python",
   "pygments_lexer": "ipython3",
   "version": "3.13.2"
  }
 },
 "nbformat": 4,
 "nbformat_minor": 5
}
