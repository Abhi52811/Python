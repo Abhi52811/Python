{
 "cells": [
  {
   "cell_type": "code",
   "execution_count": 24,
   "id": "ddb3c66f",
   "metadata": {},
   "outputs": [],
   "source": [
    "names = [\"Alice\", \"Bob\", \"Charlie\", \"David\", \"Ross\", \"Joey\"]\n",
    "ages = [30, 25, 35, 40, 60, 75]\n",
    "\n",
    "combined = list(zip(names,ages))"
   ]
  },
  {
   "cell_type": "code",
   "execution_count": 25,
   "id": "3ff5c3cc",
   "metadata": {},
   "outputs": [
    {
     "name": "stdout",
     "output_type": "stream",
     "text": [
      "Alice is 30 years old\n",
      "Bob is 25 years old\n",
      "Charlie is 35 years old\n",
      "David is 40 years old\n",
      "Ross is 60 years old\n",
      "Joey is 75 years old\n"
     ]
    }
   ],
   "source": [
    "for name, age in combined:\n",
    "    print(f\"{name} is {age} years old\")"
   ]
  },
  {
   "cell_type": "code",
   "execution_count": 26,
   "id": "e319a20a",
   "metadata": {},
   "outputs": [],
   "source": [
    "names = [\"Alice\", \"Bob\", \"Monica\", \"Phoebe\", \"Ross\", \"Joey\"]\n",
    "ages = [30, 25, 35, 40, 60, 75]\n",
    "gender = ['M', 'M', 'F', 'F', 'M', 'M']\n",
    "\n",
    "new_combined = list(zip(names,ages, gender))"
   ]
  },
  {
   "cell_type": "code",
   "execution_count": 27,
   "id": "71889994",
   "metadata": {},
   "outputs": [
    {
     "name": "stdout",
     "output_type": "stream",
     "text": [
      "Alice: 30 : M\n",
      "Bob: 25 : M\n",
      "Monica: 35 : F\n",
      "Phoebe: 40 : F\n",
      "Ross: 60 : M\n",
      "Joey: 75 : M\n"
     ]
    }
   ],
   "source": [
    "for name, age, gender in new_combined:\n",
    "    print(f\"{name}: {age} : {gender}\")"
   ]
  },
  {
   "cell_type": "code",
   "execution_count": null,
   "id": "128a12d6",
   "metadata": {},
   "outputs": [],
   "source": []
  },
  {
   "cell_type": "code",
   "execution_count": null,
   "id": "a60fde7d",
   "metadata": {},
   "outputs": [],
   "source": []
  },
  {
   "cell_type": "code",
   "execution_count": null,
   "id": "4ebab8cf",
   "metadata": {},
   "outputs": [],
   "source": []
  },
  {
   "cell_type": "code",
   "execution_count": null,
   "id": "833876e6",
   "metadata": {},
   "outputs": [],
   "source": []
  },
  {
   "cell_type": "code",
   "execution_count": null,
   "id": "f265db23",
   "metadata": {},
   "outputs": [],
   "source": []
  },
  {
   "cell_type": "code",
   "execution_count": 28,
   "id": "40fba659",
   "metadata": {},
   "outputs": [
    {
     "ename": "SyntaxError",
     "evalue": "unmatched ']' (4155480843.py, line 1)",
     "output_type": "error",
     "traceback": [
      "  \u001b[36mCell\u001b[39m\u001b[36m \u001b[39m\u001b[32mIn[28]\u001b[39m\u001b[32m, line 1\u001b[39m\n\u001b[31m    \u001b[39m\u001b[31m\"M\"]\u001b[39m\n       ^\n\u001b[31mSyntaxError\u001b[39m\u001b[31m:\u001b[39m unmatched ']'\n"
     ]
    }
   ],
   "source": [
    "\"M\"]\n",
    "\n",
    "combined = list(zip(names,ages))"
   ]
  }
 ],
 "metadata": {
  "kernelspec": {
   "display_name": ".venv",
   "language": "python",
   "name": "python3"
  },
  "language_info": {
   "codemirror_mode": {
    "name": "ipython",
    "version": 3
   },
   "file_extension": ".py",
   "mimetype": "text/x-python",
   "name": "python",
   "nbconvert_exporter": "python",
   "pygments_lexer": "ipython3",
   "version": "3.13.2"
  }
 },
 "nbformat": 4,
 "nbformat_minor": 5
}
