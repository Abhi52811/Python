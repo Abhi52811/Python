{
 "cells": [
  {
   "cell_type": "code",
   "execution_count": 1,
   "metadata": {},
   "outputs": [
    {
     "name": "stdout",
     "output_type": "stream",
     "text": [
      "Multiplication table of 1 is: \n",
      "1 X 1 = 1\n",
      "1 X 2 = 2\n",
      "1 X 3 = 3\n",
      "1 X 4 = 4\n",
      "1 X 5 = 5\n",
      "1 X 6 = 6\n",
      "1 X 7 = 7\n",
      "1 X 8 = 8\n",
      "1 X 9 = 9\n",
      "1 X 10 = 10\n",
      "Some lines of code\n",
      "End of program\n"
     ]
    }
   ],
   "source": [
    "a = input(\"Enter the number: \")\n",
    "print(f\"Multiplication table of {a} is: \")\n",
    "\n",
    "try:\n",
    "    for i in range(1,11):\n",
    "        print(f\"{int(a)} X {i} = {int(a)*i}\")\n",
    "except Exception as e:\n",
    "    print(e)\n",
    "\n",
    "print(\"Some lines of code\")\n",
    "print(\"End of program\")"
   ]
  },
  {
   "cell_type": "code",
   "execution_count": 2,
   "metadata": {},
   "outputs": [
    {
     "name": "stdout",
     "output_type": "stream",
     "text": [
      "2\n"
     ]
    }
   ],
   "source": [
    "try:\n",
    "    num = int(input(\"Enter an integer: \"))\n",
    "    print(num)\n",
    "except ValueError:\n",
    "    print(\"Number enetered is not an integer.\")"
   ]
  },
  {
   "cell_type": "code",
   "execution_count": 3,
   "metadata": {},
   "outputs": [
    {
     "name": "stdout",
     "output_type": "stream",
     "text": [
      "Index error\n"
     ]
    }
   ],
   "source": [
    "try:\n",
    "    num = int(input(\"Enter an integer: \"))\n",
    "    a= [6,3]\n",
    "    print(a[num])\n",
    "except ValueError:\n",
    "    print(\"Number enetered is not an integer.\")\n",
    "except IndexError:\n",
    "    print(\"Index error\")"
   ]
  },
  {
   "cell_type": "code",
   "execution_count": 7,
   "metadata": {},
   "outputs": [
    {
     "name": "stdout",
     "output_type": "stream",
     "text": [
      "-\n",
      "--\n",
      "---\n",
      "b cannot be zero\n"
     ]
    }
   ],
   "source": [
    "def divide(a, b):\n",
    "    print(\"-\")\n",
    "    if b == 0:\n",
    "        print(\"--\")\n",
    "        raise ValueError(\"b cannot be zero\")\n",
    "    return a / b\n",
    "\n",
    "try:\n",
    "    divide(10, 0)\n",
    "except ValueError as e:\n",
    "    print(\"---\")\n",
    "    print(e)"
   ]
  },
  {
   "cell_type": "code",
   "execution_count": 26,
   "metadata": {},
   "outputs": [
    {
     "name": "stdout",
     "output_type": "stream",
     "text": [
      "Caught: division by zero!\n"
     ]
    }
   ],
   "source": [
    "def divide(a, b):\n",
    "    if b == 0:\n",
    "        raise ZeroDivisionError(\"division by zero!\")\n",
    "    return a / b\n",
    "\n",
    "try:\n",
    "    divide(5, 0)\n",
    "except ZeroDivisionError as e:\n",
    "    print(\"Caught:\", e)\n"
   ]
  },
  {
   "cell_type": "code",
   "execution_count": 27,
   "metadata": {},
   "outputs": [
    {
     "name": "stdout",
     "output_type": "stream",
     "text": [
      "Handling exception, but re-raising it...\n"
     ]
    },
    {
     "ename": "ZeroDivisionError",
     "evalue": "division by zero",
     "output_type": "error",
     "traceback": [
      "\u001b[31m---------------------------------------------------------------------------\u001b[39m",
      "\u001b[31mZeroDivisionError\u001b[39m                         Traceback (most recent call last)",
      "\u001b[36mCell\u001b[39m\u001b[36m \u001b[39m\u001b[32mIn[27]\u001b[39m\u001b[32m, line 2\u001b[39m\n\u001b[32m      1\u001b[39m \u001b[38;5;28;01mtry\u001b[39;00m:\n\u001b[32m----> \u001b[39m\u001b[32m2\u001b[39m     \u001b[32;43m1\u001b[39;49m\u001b[43m \u001b[49m\u001b[43m/\u001b[49m\u001b[43m \u001b[49m\u001b[32;43m0\u001b[39;49m\n\u001b[32m      3\u001b[39m \u001b[38;5;28;01mexcept\u001b[39;00m \u001b[38;5;167;01mZeroDivisionError\u001b[39;00m \u001b[38;5;28;01mas\u001b[39;00m e:\n\u001b[32m      4\u001b[39m     \u001b[38;5;28mprint\u001b[39m(\u001b[33m\"\u001b[39m\u001b[33mHandling exception, but re-raising it...\u001b[39m\u001b[33m\"\u001b[39m)\n",
      "\u001b[31mZeroDivisionError\u001b[39m: division by zero"
     ]
    }
   ],
   "source": [
    "try:\n",
    "    1 / 0\n",
    "except ZeroDivisionError as e:\n",
    "    print(\"Handling exception, but re-raising it...\")\n",
    "    raise  # re-raises the current exception"
   ]
  },
  {
   "cell_type": "code",
   "execution_count": 28,
   "metadata": {},
   "outputs": [
    {
     "ename": "RuntimeError",
     "evalue": "Conversion failed",
     "output_type": "error",
     "traceback": [
      "\u001b[31m---------------------------------------------------------------------------\u001b[39m",
      "\u001b[31mValueError\u001b[39m                                Traceback (most recent call last)",
      "\u001b[36mCell\u001b[39m\u001b[36m \u001b[39m\u001b[32mIn[28]\u001b[39m\u001b[32m, line 2\u001b[39m\n\u001b[32m      1\u001b[39m \u001b[38;5;28;01mtry\u001b[39;00m:\n\u001b[32m----> \u001b[39m\u001b[32m2\u001b[39m     \u001b[38;5;28;43mint\u001b[39;49m\u001b[43m(\u001b[49m\u001b[33;43m\"\u001b[39;49m\u001b[33;43mabc\u001b[39;49m\u001b[33;43m\"\u001b[39;49m\u001b[43m)\u001b[49m  \u001b[38;5;66;03m# raises ValueError\u001b[39;00m\n\u001b[32m      3\u001b[39m \u001b[38;5;28;01mexcept\u001b[39;00m \u001b[38;5;167;01mValueError\u001b[39;00m \u001b[38;5;28;01mas\u001b[39;00m e:\n",
      "\u001b[31mValueError\u001b[39m: invalid literal for int() with base 10: 'abc'",
      "\nThe above exception was the direct cause of the following exception:\n",
      "\u001b[31mRuntimeError\u001b[39m                              Traceback (most recent call last)",
      "\u001b[36mCell\u001b[39m\u001b[36m \u001b[39m\u001b[32mIn[28]\u001b[39m\u001b[32m, line 4\u001b[39m\n\u001b[32m      2\u001b[39m     \u001b[38;5;28mint\u001b[39m(\u001b[33m\"\u001b[39m\u001b[33mabc\u001b[39m\u001b[33m\"\u001b[39m)  \u001b[38;5;66;03m# raises ValueError\u001b[39;00m\n\u001b[32m      3\u001b[39m \u001b[38;5;28;01mexcept\u001b[39;00m \u001b[38;5;167;01mValueError\u001b[39;00m \u001b[38;5;28;01mas\u001b[39;00m e:\n\u001b[32m----> \u001b[39m\u001b[32m4\u001b[39m     \u001b[38;5;28;01mraise\u001b[39;00m \u001b[38;5;167;01mRuntimeError\u001b[39;00m(\u001b[33m\"\u001b[39m\u001b[33mConversion failed\u001b[39m\u001b[33m\"\u001b[39m) \u001b[38;5;28;01mfrom\u001b[39;00m\u001b[38;5;250m \u001b[39m\u001b[34;01me\u001b[39;00m\n",
      "\u001b[31mRuntimeError\u001b[39m: Conversion failed"
     ]
    }
   ],
   "source": [
    "try:\n",
    "    int(\"abc\")  # raises ValueError\n",
    "except ValueError as e:\n",
    "    raise RuntimeError(\"Conversion failed\") from e"
   ]
  },
  {
   "cell_type": "code",
   "execution_count": 9,
   "metadata": {},
   "outputs": [],
   "source": [
    "import logging\n",
    "\n",
    "logging.basicConfig(level=logging.ERROR, filename='./sampleFiles/app.log')\n",
    "\n",
    "try:\n",
    "    1 / 0\n",
    "except ZeroDivisionError as e:\n",
    "    logging.error(\"Exception occurred\", exc_info=True)\n"
   ]
  },
  {
   "cell_type": "code",
   "execution_count": 11,
   "metadata": {},
   "outputs": [
    {
     "name": "stdout",
     "output_type": "stream",
     "text": [
      "Caught async exception: Oops!\n"
     ]
    }
   ],
   "source": [
    "import asyncio\n",
    "\n",
    "async def risky_coroutine():\n",
    "    raise ValueError(\"Oops!\")\n",
    "\n",
    "async def main():\n",
    "    try:\n",
    "        await risky_coroutine()\n",
    "    except ValueError as e:\n",
    "        print(f\"Caught async exception: {e}\")\n",
    "\n",
    "await main()\n"
   ]
  },
  {
   "cell_type": "code",
   "execution_count": null,
   "metadata": {},
   "outputs": [
    {
     "name": "stdout",
     "output_type": "stream",
     "text": [
      "Caught TypeError in group\n"
     ]
    }
   ],
   "source": [
    "try:\n",
    "    raise ExceptionGroup(\"group\", [ValueError(\"v\"), TypeError(\"t\")])\n",
    "except* ValueError as e:\n",
    "    print(\"Caught ValueError in group\")\n",
    "except* TypeError as e:\n",
    "    print(\"Caught TypeError in group\")"
   ]
  },
  {
   "cell_type": "code",
   "execution_count": 29,
   "metadata": {},
   "outputs": [
    {
     "name": "stdout",
     "output_type": "stream",
     "text": [
      "ZeroDivisionError context: invalid literal for int() with base 10: 'abc'\n",
      "ZeroDivisionError cause: None\n"
     ]
    }
   ],
   "source": [
    "try:\n",
    "    int(\"abc\")\n",
    "except ValueError as e:\n",
    "    try:\n",
    "        1 / 0\n",
    "    except ZeroDivisionError as e2:\n",
    "        print(\"ZeroDivisionError context:\", e2.__context__)  # points to ValueError\n",
    "        print(\"ZeroDivisionError cause:\", e2.__cause__)      # None because no 'from'"
   ]
  },
  {
   "cell_type": "code",
   "execution_count": 30,
   "metadata": {},
   "outputs": [
    {
     "name": "stdout",
     "output_type": "stream",
     "text": [
      "Caught: New error\n",
      "Cause: division by zero\n",
      "Context: division by zero\n"
     ]
    }
   ],
   "source": [
    "def f():\n",
    "    try:\n",
    "        int(\"abc\")\n",
    "    except ValueError as e:\n",
    "        try:\n",
    "            1 / 0\n",
    "        except ZeroDivisionError as e2:\n",
    "            # here e2.__context__ is the original ValueError (implicit chaining)\n",
    "            raise RuntimeError(\"New error\") from e2  # explicit chaining (__cause__)\n",
    "            \n",
    "try:\n",
    "    f()\n",
    "except RuntimeError as e:\n",
    "    print(\"Caught:\", e)\n",
    "    print(\"Cause:\", e.__cause__)\n",
    "    print(\"Context:\", e.__context__)\n"
   ]
  },
  {
   "cell_type": "code",
   "execution_count": 32,
   "metadata": {},
   "outputs": [
    {
     "name": "stdout",
     "output_type": "stream",
     "text": [
      "Oops, something went wrong: invalid literal for int() with base 10: 'a'\n"
     ]
    }
   ],
   "source": [
    "try:\n",
    "    x = int(input(\"Enter a number: \"))\n",
    "    result = 10 / x\n",
    "except (ValueError, ZeroDivisionError) as e:\n",
    "    print(f\"Oops, something went wrong: {e}\")"
   ]
  },
  {
   "cell_type": "code",
   "execution_count": null,
   "metadata": {},
   "outputs": [],
   "source": []
  }
 ],
 "metadata": {
  "kernelspec": {
   "display_name": ".venv",
   "language": "python",
   "name": "python3"
  },
  "language_info": {
   "codemirror_mode": {
    "name": "ipython",
    "version": 3
   },
   "file_extension": ".py",
   "mimetype": "text/x-python",
   "name": "python",
   "nbconvert_exporter": "python",
   "pygments_lexer": "ipython3",
   "version": "3.13.2"
  }
 },
 "nbformat": 4,
 "nbformat_minor": 2
}
