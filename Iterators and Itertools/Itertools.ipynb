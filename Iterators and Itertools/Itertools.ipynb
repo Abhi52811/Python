{
 "cells": [
  {
   "cell_type": "code",
   "execution_count": 1,
   "id": "305d5017",
   "metadata": {},
   "outputs": [
    {
     "name": "stdout",
     "output_type": "stream",
     "text": [
      "5\n",
      "7\n",
      "[(1, 'A'), (1, 'B'), (2, 'A'), (2, 'B')]\n",
      "[1, 3, 6, 10]\n",
      "1: [1, 1]\n",
      "2: [2]\n",
      "3: [3, 3]\n",
      "4: [4]\n"
     ]
    }
   ],
   "source": [
    "import itertools\n",
    "\n",
    "# Infinite counting\n",
    "counter = itertools.count(start=5, step=2)\n",
    "print(next(counter))  # 5\n",
    "print(next(counter))  # 7\n",
    "\n",
    "# Product of iterables (like Cartesian product)\n",
    "prod = itertools.product([1, 2], ['A', 'B'])\n",
    "print(list(prod))  # [(1, 'A'), (1, 'B'), (2, 'A'), (2, 'B')]\n",
    "\n",
    "# Accumulate (cumulative sum)\n",
    "acc = itertools.accumulate([1, 2, 3, 4])\n",
    "print(list(acc))  # [1, 3, 6, 10]\n",
    "\n",
    "# Grouping consecutive elements\n",
    "data = [1, 1, 2, 3, 3, 4]\n",
    "grouped = itertools.groupby(data)\n",
    "for key, group in grouped:\n",
    "    print(f\"{key}: {list(group)}\")"
   ]
  },
  {
   "cell_type": "code",
   "execution_count": 2,
   "id": "97a2424d",
   "metadata": {},
   "outputs": [
    {
     "name": "stdout",
     "output_type": "stream",
     "text": [
      "[0, 1, 2]\n",
      "[3, 4, 5]\n",
      "[6, 7, 8]\n",
      "[9]\n"
     ]
    }
   ],
   "source": [
    "from itertools import batched\n",
    "\n",
    "# Create a batch from a range of numbers\n",
    "numbers = range(10)\n",
    "\n",
    "# Create batches of size 3\n",
    "batches = batched(numbers, 3)\n",
    "\n",
    "for batch in batches:\n",
    "    print(list(batch))"
   ]
  },
  {
   "cell_type": "code",
   "execution_count": 3,
   "id": "c6f5da78",
   "metadata": {},
   "outputs": [
    {
     "name": "stdout",
     "output_type": "stream",
     "text": [
      "[2, 4, 6]\n"
     ]
    }
   ],
   "source": [
    "from itertools import islice\n",
    "\n",
    "print(list(islice(range(10), 2, 8, 2)))"
   ]
  },
  {
   "cell_type": "code",
   "execution_count": 4,
   "id": "ef5e1e4b",
   "metadata": {},
   "outputs": [
    {
     "name": "stdout",
     "output_type": "stream",
     "text": [
      "[1, 2, 3] [1, 2, 3]\n"
     ]
    }
   ],
   "source": [
    "from itertools import tee\n",
    "\n",
    "iter1, iter2 = tee([1, 2, 3], 2)\n",
    "print(list(iter1), list(iter2))\n"
   ]
  },
  {
   "cell_type": "code",
   "execution_count": 5,
   "id": "ab822d3b",
   "metadata": {},
   "outputs": [
    {
     "name": "stdout",
     "output_type": "stream",
     "text": [
      "[0, 1, 2]\n",
      "[3, 4, 5]\n",
      "[6, 7, 8]\n",
      "[9]\n",
      "[0, 1, 2]\n",
      "[3, 4, 5]\n",
      "[6, 7, 8]\n",
      "[9]\n"
     ]
    }
   ],
   "source": [
    "from itertools import islice\n",
    "from itertools import islice\n",
    "\n",
    "def chunked(iterable, chunk_size):\n",
    "    it = iter(iterable)\n",
    "    while chunk := list(islice(it, chunk_size)):\n",
    "        yield chunk\n",
    "\n",
    "data = range(10)\n",
    "for chunk in chunked(data, 3):\n",
    "    print(chunk)\n",
    "\n",
    "def chunked(iterable, chunk_size):\n",
    "    it = iter(iterable)\n",
    "    while chunk := list(islice(it, chunk_size)):\n",
    "        yield chunk\n",
    "\n",
    "data = range(10)\n",
    "for chunk in chunked(data, 3):\n",
    "    print(chunk)\n"
   ]
  },
  {
   "cell_type": "code",
   "execution_count": null,
   "id": "921348af",
   "metadata": {},
   "outputs": [],
   "source": []
  }
 ],
 "metadata": {
  "kernelspec": {
   "display_name": ".venv",
   "language": "python",
   "name": "python3"
  },
  "language_info": {
   "codemirror_mode": {
    "name": "ipython",
    "version": 3
   },
   "file_extension": ".py",
   "mimetype": "text/x-python",
   "name": "python",
   "nbconvert_exporter": "python",
   "pygments_lexer": "ipython3",
   "version": "3.13.2"
  }
 },
 "nbformat": 4,
 "nbformat_minor": 5
}
