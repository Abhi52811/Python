{
 "cells": [
  {
   "cell_type": "code",
   "execution_count": 1,
   "id": "305d5017",
   "metadata": {},
   "outputs": [
    {
     "name": "stdout",
     "output_type": "stream",
     "text": [
      "5\n",
      "7\n",
      "[(1, 'A'), (1, 'B'), (2, 'A'), (2, 'B')]\n",
      "[1, 3, 6, 10]\n",
      "1: [1, 1]\n",
      "2: [2]\n",
      "3: [3, 3]\n",
      "4: [4]\n"
     ]
    }
   ],
   "source": [
    "import itertools\n",
    "\n",
    "# Infinite counting\n",
    "counter = itertools.count(start=5, step=2)\n",
    "print(next(counter))  # 5\n",
    "print(next(counter))  # 7\n",
    "\n",
    "# Product of iterables (like Cartesian product)\n",
    "prod = itertools.product([1, 2], ['A', 'B'])\n",
    "print(list(prod))  # [(1, 'A'), (1, 'B'), (2, 'A'), (2, 'B')]\n",
    "\n",
    "# Accumulate (cumulative sum)\n",
    "acc = itertools.accumulate([1, 2, 3, 4])\n",
    "print(list(acc))  # [1, 3, 6, 10]\n",
    "\n",
    "# Grouping consecutive elements\n",
    "data = [1, 1, 2, 3, 3, 4]\n",
    "grouped = itertools.groupby(data)\n",
    "for key, group in grouped:\n",
    "    print(f\"{key}: {list(group)}\")"
   ]
  },
  {
   "cell_type": "code",
   "execution_count": 2,
   "id": "97a2424d",
   "metadata": {},
   "outputs": [
    {
     "name": "stdout",
     "output_type": "stream",
     "text": [
      "[0, 1, 2]\n",
      "[3, 4, 5]\n",
      "[6, 7, 8]\n",
      "[9]\n"
     ]
    }
   ],
   "source": [
    "from itertools import batched\n",
    "\n",
    "# Create a batch from a range of numbers\n",
    "numbers = range(10)\n",
    "\n",
    "# Create batches of size 3\n",
    "batches = batched(numbers, 3)\n",
    "\n",
    "for batch in batches:\n",
    "    print(list(batch))"
   ]
  },
  {
   "cell_type": "code",
   "execution_count": 3,
   "id": "c6f5da78",
   "metadata": {},
   "outputs": [
    {
     "name": "stdout",
     "output_type": "stream",
     "text": [
      "[2, 4, 6]\n"
     ]
    }
   ],
   "source": [
    "from itertools import islice\n",
    "\n",
    "print(list(islice(range(10), 2, 8, 2)))"
   ]
  },
  {
   "cell_type": "code",
   "execution_count": 4,
   "id": "ef5e1e4b",
   "metadata": {},
   "outputs": [
    {
     "name": "stdout",
     "output_type": "stream",
     "text": [
      "[1, 2, 3] [1, 2, 3]\n"
     ]
    }
   ],
   "source": [
    "from itertools import tee\n",
    "\n",
    "iter1, iter2 = tee([1, 2, 3], 2)\n",
    "print(list(iter1), list(iter2))\n"
   ]
  },
  {
   "cell_type": "code",
   "execution_count": 5,
   "id": "ab822d3b",
   "metadata": {},
   "outputs": [
    {
     "name": "stdout",
     "output_type": "stream",
     "text": [
      "[0, 1, 2]\n",
      "[3, 4, 5]\n",
      "[6, 7, 8]\n",
      "[9]\n",
      "[0, 1, 2]\n",
      "[3, 4, 5]\n",
      "[6, 7, 8]\n",
      "[9]\n"
     ]
    }
   ],
   "source": [
    "from itertools import islice\n",
    "from itertools import islice\n",
    "\n",
    "def chunked(iterable, chunk_size):\n",
    "    it = iter(iterable)\n",
    "    while chunk := list(islice(it, chunk_size)):\n",
    "        yield chunk\n",
    "\n",
    "data = range(10)\n",
    "for chunk in chunked(data, 3):\n",
    "    print(chunk)\n",
    "\n",
    "def chunked(iterable, chunk_size):\n",
    "    it = iter(iterable)\n",
    "    while chunk := list(islice(it, chunk_size)):\n",
    "        yield chunk\n",
    "\n",
    "data = range(10)\n",
    "for chunk in chunked(data, 3):\n",
    "    print(chunk)\n"
   ]
  },
  {
   "cell_type": "code",
   "execution_count": null,
   "id": "73417160",
   "metadata": {},
   "outputs": [],
   "source": [
    "\"\"\"\n",
    "What is itertools.chain?\n",
    "chain is a function that combines multiple iterables into a single iterable — it \"chains\" them together sequentially.\n",
    "Instead of nesting loops or concatenating sequences, chain lets you iterate over several iterables as if they were one continuous sequence, without creating a new list (it's memory efficient).\n",
    "\"\"\""
   ]
  },
  {
   "cell_type": "code",
   "execution_count": 1,
   "id": "921348af",
   "metadata": {},
   "outputs": [
    {
     "name": "stdout",
     "output_type": "stream",
     "text": [
      "1 2 3 4 5 6 7 8 "
     ]
    }
   ],
   "source": [
    "import itertools\n",
    "\n",
    "a = [1, 2, 3]\n",
    "b = [4, 5]\n",
    "c = [6, 7, 8]\n",
    "\n",
    "for x in itertools.chain(a, b, c):\n",
    "    print(x, end=' ')\n",
    "# Output: 1 2 3 4 5 6 7 8"
   ]
  },
  {
   "cell_type": "code",
   "execution_count": 2,
   "id": "cd3d9652",
   "metadata": {},
   "outputs": [
    {
     "name": "stdout",
     "output_type": "stream",
     "text": [
      "1 2 3 4 5 6 7 "
     ]
    }
   ],
   "source": [
    "import itertools\n",
    "\n",
    "list1 = [1, 2, 3]\n",
    "tuple1 = (4, 5)\n",
    "string1 = \"67\"\n",
    "\n",
    "for x in itertools.chain(list1, tuple1, string1):\n",
    "    print(x, end=' ')\n",
    "# Output: 1 2 3 4 5 6 7\n"
   ]
  },
  {
   "cell_type": "code",
   "execution_count": 3,
   "id": "ccb4ffbe",
   "metadata": {},
   "outputs": [
    {
     "name": "stdout",
     "output_type": "stream",
     "text": [
      "[1, 2, 3, 4, 5]\n"
     ]
    }
   ],
   "source": [
    "lists = [[1, 2], [3, 4], [5]]\n",
    "flat = itertools.chain.from_iterable(lists)\n",
    "print(list(flat))  # Output: [1, 2, 3, 4, 5]"
   ]
  },
  {
   "cell_type": "code",
   "execution_count": null,
   "id": "2b6b5352",
   "metadata": {},
   "outputs": [],
   "source": [
    "\"\"\"\n",
    "What is itertools.groupby?\n",
    "groupby groups consecutive items in an iterable based on a key function. \n",
    "It returns keys and groups of items with the same key that appear consecutively.\n",
    "\"\"\""
   ]
  },
  {
   "cell_type": "code",
   "execution_count": 4,
   "id": "ace465f0",
   "metadata": {},
   "outputs": [
    {
     "name": "stdout",
     "output_type": "stream",
     "text": [
      "a ['a', 'a', 'a']\n",
      "b ['b', 'b']\n",
      "c ['c']\n",
      "a ['a', 'a', 'a']\n"
     ]
    }
   ],
   "source": [
    "from itertools import groupby\n",
    "\n",
    "data = 'aaabbcaaa'\n",
    "\n",
    "for key, group in groupby(data):\n",
    "    print(key, list(group))\n"
   ]
  },
  {
   "cell_type": "code",
   "execution_count": 5,
   "id": "68db6aa8",
   "metadata": {},
   "outputs": [
    {
     "name": "stdout",
     "output_type": "stream",
     "text": [
      "Odd [1]\n",
      "Even [2]\n",
      "Odd [3]\n",
      "Even [4]\n",
      "Odd [5]\n",
      "Even [6]\n",
      "Odd [7]\n",
      "Even [8]\n"
     ]
    }
   ],
   "source": [
    "from itertools import groupby\n",
    "\n",
    "data = [1, 2, 3, 4, 5, 6, 7, 8]\n",
    "# Group by even or odd\n",
    "for key, group in groupby(data, key=lambda x: x % 2 == 0):\n",
    "    print('Even' if key else 'Odd', list(group))"
   ]
  },
  {
   "cell_type": "code",
   "execution_count": 8,
   "id": "6d598624",
   "metadata": {},
   "outputs": [
    {
     "name": "stdout",
     "output_type": "stream",
     "text": [
      "fruit [('fruit', 'apple'), ('fruit', 'banana'), ('fruit', 'pear')]\n",
      "vegetable [('vegetable', 'carrot'), ('vegetable', 'celery')]\n"
     ]
    }
   ],
   "source": [
    "from itertools import groupby\n",
    "\n",
    "data = [('fruit', 'apple'), ('fruit', 'banana'), ('vegetable', 'carrot'), ('fruit', 'pear'), ('vegetable', 'celery')]\n",
    "\n",
    "# Sort by category first\n",
    "data.sort(key=lambda x: x[0])\n",
    "\n",
    "for key, group in groupby(data, key=lambda x: x[0]):\n",
    "    print(key, list(group))"
   ]
  },
  {
   "cell_type": "code",
   "execution_count": null,
   "id": "c507d84e",
   "metadata": {},
   "outputs": [],
   "source": []
  }
 ],
 "metadata": {
  "kernelspec": {
   "display_name": ".venv",
   "language": "python",
   "name": "python3"
  },
  "language_info": {
   "codemirror_mode": {
    "name": "ipython",
    "version": 3
   },
   "file_extension": ".py",
   "mimetype": "text/x-python",
   "name": "python",
   "nbconvert_exporter": "python",
   "pygments_lexer": "ipython3",
   "version": "3.13.2"
  }
 },
 "nbformat": 4,
 "nbformat_minor": 5
}
