{
 "cells": [
  {
   "cell_type": "code",
   "execution_count": 1,
   "id": "3edc697b",
   "metadata": {},
   "outputs": [
    {
     "name": "stdout",
     "output_type": "stream",
     "text": [
      "[-10, -7, -1, 1, 2, 3, 4, 5, 8]\n"
     ]
    }
   ],
   "source": [
    "numbers = [2,1,4,-1,3,-7,8,-10,5]\n",
    "sorted_num = sorted(numbers)\n",
    "\n",
    "print(sorted_num)"
   ]
  },
  {
   "cell_type": "code",
   "execution_count": 2,
   "id": "485e7082",
   "metadata": {},
   "outputs": [
    {
     "name": "stdout",
     "output_type": "stream",
     "text": [
      "[8, 5, 4, 3, 2, 1, -1, -7, -10]\n"
     ]
    }
   ],
   "source": [
    "numbers = [2,1,4,-1,3,-7,8,-10,5]\n",
    "sorted_num = sorted(numbers, reverse=True)\n",
    "\n",
    "print(sorted_num)"
   ]
  },
  {
   "cell_type": "code",
   "execution_count": 3,
   "id": "722eb8c2",
   "metadata": {},
   "outputs": [
    {
     "name": "stdout",
     "output_type": "stream",
     "text": [
      "[{'name': 'David', 'age': 20}, {'name': 'Bob', 'age': 25}, {'name': 'Alice', 'age': 30}, {'name': 'Charlie', 'age': 35}]\n"
     ]
    }
   ],
   "source": [
    "people = [\n",
    "    {\"name\": \"Alice\", \"age\":30},\n",
    "    {\"name\": \"Bob\", \"age\":25},\n",
    "    {\"name\": \"Charlie\", \"age\":35},\n",
    "    {\"name\": \"David\", \"age\":20}\n",
    "]\n",
    "sorted_people = sorted(people, key = lambda person:person[\"age\"])\n",
    "\n",
    "print(sorted_people)"
   ]
  },
  {
   "cell_type": "code",
   "execution_count": null,
   "id": "b6985bd8",
   "metadata": {},
   "outputs": [],
   "source": []
  }
 ],
 "metadata": {
  "kernelspec": {
   "display_name": ".venv",
   "language": "python",
   "name": "python3"
  },
  "language_info": {
   "codemirror_mode": {
    "name": "ipython",
    "version": 3
   },
   "file_extension": ".py",
   "mimetype": "text/x-python",
   "name": "python",
   "nbconvert_exporter": "python",
   "pygments_lexer": "ipython3",
   "version": "3.13.2"
  }
 },
 "nbformat": 4,
 "nbformat_minor": 5
}
