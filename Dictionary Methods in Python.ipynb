{
 "cells": [
  {
   "cell_type": "code",
   "execution_count": 2,
   "metadata": {},
   "outputs": [
    {
     "name": "stdout",
     "output_type": "stream",
     "text": [
      "{122: 45, 123: 89, 567: 69, 670: 69, 222: 67, 566: 90}\n",
      "{222: 67, 566: 90}\n"
     ]
    }
   ],
   "source": [
    "dict1 = {122: 45, 123: 89, 567: 69, 670: 69}\n",
    "dict2 = {222: 67, 566: 90}\n",
    "# dict3 = dict1+dict2 invalid\n",
    "dict1.update(dict2)\n",
    "print(dict1)\n",
    "print(dict2)"
   ]
  },
  {
   "cell_type": "code",
   "execution_count": 4,
   "metadata": {},
   "outputs": [
    {
     "name": "stdout",
     "output_type": "stream",
     "text": [
      "{122: 45, 123: 89, 567: 69, 670: 69}\n",
      "{}\n"
     ]
    }
   ],
   "source": [
    "dict1 = {122: 45, 123: 89, 567: 69, 670: 69}\n",
    "print(dict1)\n",
    "dict1.clear()\n",
    "print(dict1)"
   ]
  },
  {
   "cell_type": "code",
   "execution_count": 7,
   "metadata": {},
   "outputs": [
    {
     "name": "stdout",
     "output_type": "stream",
     "text": [
      "{122: 45, 123: 89, 567: 69, 670: 69}\n",
      "{122: 45, 567: 69, 670: 69}\n"
     ]
    }
   ],
   "source": [
    "dict1 = {122: 45, 123: 89, 567: 69, 670: 69}\n",
    "# dict1.pop() error\n",
    "print(dict1)\n",
    "dict1.pop(123)\n",
    "print(dict1)"
   ]
  },
  {
   "cell_type": "code",
   "execution_count": 12,
   "metadata": {},
   "outputs": [
    {
     "name": "stdout",
     "output_type": "stream",
     "text": [
      "{122: 45, 123: 89, 567: 69, 670: 69}\n",
      "(670, 69)\n",
      "{122: 45, 123: 89, 567: 69}\n"
     ]
    }
   ],
   "source": [
    "dict1 = {122: 45, 123: 89, 567: 69, 670: 69}\n",
    "print(dict1)\n",
    "# dict1.popitem(89) error\n",
    "item = dict1.popitem()\n",
    "print(item)\n",
    "print(dict1)"
   ]
  },
  {
   "cell_type": "code",
   "execution_count": 13,
   "metadata": {},
   "outputs": [],
   "source": [
    "dict1 = {122: 45, 123: 89, 567: 69, 670: 69}\n",
    "del dict1"
   ]
  },
  {
   "cell_type": "code",
   "execution_count": 16,
   "metadata": {},
   "outputs": [
    {
     "name": "stdout",
     "output_type": "stream",
     "text": [
      "{122: 45, 123: 89, 567: 69, 670: 69}\n",
      "{122: 45, 567: 69, 670: 69}\n"
     ]
    }
   ],
   "source": [
    "dict1 = {122: 45, 123: 89, 567: 69, 670: 69}\n",
    "print(dict1)\n",
    "del dict1[123]\n",
    "print(dict1)\n"
   ]
  },
  {
   "cell_type": "code",
   "execution_count": 1,
   "metadata": {},
   "outputs": [
    {
     "name": "stdout",
     "output_type": "stream",
     "text": [
      "{'name3': 1, 'name2': 98, 'name1': 102}\n"
     ]
    }
   ],
   "source": [
    "scores: dict[str,int] = {\"name1\": 102,\n",
    "        \"name2\": 98,\n",
    "        \"name3\": 1}\n",
    "\n",
    "print(dict(sorted(scores.items(), key=lambda x:x[1])))"
   ]
  },
  {
   "cell_type": "code",
   "execution_count": null,
   "metadata": {},
   "outputs": [],
   "source": []
  }
 ],
 "metadata": {
  "kernelspec": {
   "display_name": ".venv",
   "language": "python",
   "name": "python3"
  },
  "language_info": {
   "codemirror_mode": {
    "name": "ipython",
    "version": 3
   },
   "file_extension": ".py",
   "mimetype": "text/x-python",
   "name": "python",
   "nbconvert_exporter": "python",
   "pygments_lexer": "ipython3",
   "version": "3.13.2"
  }
 },
 "nbformat": 4,
 "nbformat_minor": 2
}
